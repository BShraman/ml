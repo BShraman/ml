{
 "cells": [
  {
   "cell_type": "markdown",
   "id": "64b36ebc",
   "metadata": {
    "papermill": {
     "duration": 0.011546,
     "end_time": "2023-01-08T21:13:14.350756",
     "exception": false,
     "start_time": "2023-01-08T21:13:14.339210",
     "status": "completed"
    },
    "tags": []
   },
   "source": [
    "# Importing Data"
   ]
  },
  {
   "cell_type": "code",
   "execution_count": 1,
   "id": "4166e390",
   "metadata": {
    "_cell_guid": "b1076dfc-b9ad-4769-8c92-a6c4dae69d19",
    "_uuid": "8f2839f25d086af736a60e9eeb907d3b93b6e0e5",
    "execution": {
     "iopub.execute_input": "2023-01-08T21:13:14.375823Z",
     "iopub.status.busy": "2023-01-08T21:13:14.374524Z",
     "iopub.status.idle": "2023-01-08T21:13:14.413224Z",
     "shell.execute_reply": "2023-01-08T21:13:14.412004Z"
    },
    "papermill": {
     "duration": 0.054799,
     "end_time": "2023-01-08T21:13:14.416030",
     "exception": false,
     "start_time": "2023-01-08T21:13:14.361231",
     "status": "completed"
    },
    "tags": []
   },
   "outputs": [],
   "source": [
    "import numpy as np \n",
    "import pandas as pd\n",
    "import os\n",
    "\n",
    "# Importing Data \n",
    "train = pd.read_csv(\"/kaggle/input/titanic/train.csv\", delimiter=',', header=0)\n",
    "test = pd.read_csv(\"/kaggle/input/titanic/test.csv\", delimiter=',', header=0)"
   ]
  },
  {
   "cell_type": "markdown",
   "id": "c11a9676",
   "metadata": {
    "papermill": {
     "duration": 0.010207,
     "end_time": "2023-01-08T21:13:14.436737",
     "exception": false,
     "start_time": "2023-01-08T21:13:14.426530",
     "status": "completed"
    },
    "tags": []
   },
   "source": [
    "# Data Analysis"
   ]
  },
  {
   "cell_type": "code",
   "execution_count": 2,
   "id": "6ee09c8a",
   "metadata": {
    "execution": {
     "iopub.execute_input": "2023-01-08T21:13:14.462923Z",
     "iopub.status.busy": "2023-01-08T21:13:14.462229Z",
     "iopub.status.idle": "2023-01-08T21:13:14.486296Z",
     "shell.execute_reply": "2023-01-08T21:13:14.485256Z"
    },
    "papermill": {
     "duration": 0.039127,
     "end_time": "2023-01-08T21:13:14.488895",
     "exception": false,
     "start_time": "2023-01-08T21:13:14.449768",
     "status": "completed"
    },
    "tags": []
   },
   "outputs": [
    {
     "data": {
      "text/html": [
       "<div>\n",
       "<style scoped>\n",
       "    .dataframe tbody tr th:only-of-type {\n",
       "        vertical-align: middle;\n",
       "    }\n",
       "\n",
       "    .dataframe tbody tr th {\n",
       "        vertical-align: top;\n",
       "    }\n",
       "\n",
       "    .dataframe thead th {\n",
       "        text-align: right;\n",
       "    }\n",
       "</style>\n",
       "<table border=\"1\" class=\"dataframe\">\n",
       "  <thead>\n",
       "    <tr style=\"text-align: right;\">\n",
       "      <th></th>\n",
       "      <th>PassengerId</th>\n",
       "      <th>Survived</th>\n",
       "      <th>Pclass</th>\n",
       "      <th>Name</th>\n",
       "      <th>Sex</th>\n",
       "      <th>Age</th>\n",
       "      <th>SibSp</th>\n",
       "      <th>Parch</th>\n",
       "      <th>Ticket</th>\n",
       "      <th>Fare</th>\n",
       "      <th>Cabin</th>\n",
       "      <th>Embarked</th>\n",
       "    </tr>\n",
       "  </thead>\n",
       "  <tbody>\n",
       "    <tr>\n",
       "      <th>0</th>\n",
       "      <td>1</td>\n",
       "      <td>0</td>\n",
       "      <td>3</td>\n",
       "      <td>Braund, Mr. Owen Harris</td>\n",
       "      <td>male</td>\n",
       "      <td>22.0</td>\n",
       "      <td>1</td>\n",
       "      <td>0</td>\n",
       "      <td>A/5 21171</td>\n",
       "      <td>7.2500</td>\n",
       "      <td>NaN</td>\n",
       "      <td>S</td>\n",
       "    </tr>\n",
       "    <tr>\n",
       "      <th>1</th>\n",
       "      <td>2</td>\n",
       "      <td>1</td>\n",
       "      <td>1</td>\n",
       "      <td>Cumings, Mrs. John Bradley (Florence Briggs Th...</td>\n",
       "      <td>female</td>\n",
       "      <td>38.0</td>\n",
       "      <td>1</td>\n",
       "      <td>0</td>\n",
       "      <td>PC 17599</td>\n",
       "      <td>71.2833</td>\n",
       "      <td>C85</td>\n",
       "      <td>C</td>\n",
       "    </tr>\n",
       "    <tr>\n",
       "      <th>2</th>\n",
       "      <td>3</td>\n",
       "      <td>1</td>\n",
       "      <td>3</td>\n",
       "      <td>Heikkinen, Miss. Laina</td>\n",
       "      <td>female</td>\n",
       "      <td>26.0</td>\n",
       "      <td>0</td>\n",
       "      <td>0</td>\n",
       "      <td>STON/O2. 3101282</td>\n",
       "      <td>7.9250</td>\n",
       "      <td>NaN</td>\n",
       "      <td>S</td>\n",
       "    </tr>\n",
       "    <tr>\n",
       "      <th>3</th>\n",
       "      <td>4</td>\n",
       "      <td>1</td>\n",
       "      <td>1</td>\n",
       "      <td>Futrelle, Mrs. Jacques Heath (Lily May Peel)</td>\n",
       "      <td>female</td>\n",
       "      <td>35.0</td>\n",
       "      <td>1</td>\n",
       "      <td>0</td>\n",
       "      <td>113803</td>\n",
       "      <td>53.1000</td>\n",
       "      <td>C123</td>\n",
       "      <td>S</td>\n",
       "    </tr>\n",
       "    <tr>\n",
       "      <th>4</th>\n",
       "      <td>5</td>\n",
       "      <td>0</td>\n",
       "      <td>3</td>\n",
       "      <td>Allen, Mr. William Henry</td>\n",
       "      <td>male</td>\n",
       "      <td>35.0</td>\n",
       "      <td>0</td>\n",
       "      <td>0</td>\n",
       "      <td>373450</td>\n",
       "      <td>8.0500</td>\n",
       "      <td>NaN</td>\n",
       "      <td>S</td>\n",
       "    </tr>\n",
       "  </tbody>\n",
       "</table>\n",
       "</div>"
      ],
      "text/plain": [
       "   PassengerId  Survived  Pclass  \\\n",
       "0            1         0       3   \n",
       "1            2         1       1   \n",
       "2            3         1       3   \n",
       "3            4         1       1   \n",
       "4            5         0       3   \n",
       "\n",
       "                                                Name     Sex   Age  SibSp  \\\n",
       "0                            Braund, Mr. Owen Harris    male  22.0      1   \n",
       "1  Cumings, Mrs. John Bradley (Florence Briggs Th...  female  38.0      1   \n",
       "2                             Heikkinen, Miss. Laina  female  26.0      0   \n",
       "3       Futrelle, Mrs. Jacques Heath (Lily May Peel)  female  35.0      1   \n",
       "4                           Allen, Mr. William Henry    male  35.0      0   \n",
       "\n",
       "   Parch            Ticket     Fare Cabin Embarked  \n",
       "0      0         A/5 21171   7.2500   NaN        S  \n",
       "1      0          PC 17599  71.2833   C85        C  \n",
       "2      0  STON/O2. 3101282   7.9250   NaN        S  \n",
       "3      0            113803  53.1000  C123        S  \n",
       "4      0            373450   8.0500   NaN        S  "
      ]
     },
     "execution_count": 2,
     "metadata": {},
     "output_type": "execute_result"
    }
   ],
   "source": [
    "train.head()"
   ]
  },
  {
   "cell_type": "code",
   "execution_count": 3,
   "id": "92bc97a3",
   "metadata": {
    "execution": {
     "iopub.execute_input": "2023-01-08T21:13:14.513518Z",
     "iopub.status.busy": "2023-01-08T21:13:14.513004Z",
     "iopub.status.idle": "2023-01-08T21:13:14.530239Z",
     "shell.execute_reply": "2023-01-08T21:13:14.529073Z"
    },
    "papermill": {
     "duration": 0.032602,
     "end_time": "2023-01-08T21:13:14.532944",
     "exception": false,
     "start_time": "2023-01-08T21:13:14.500342",
     "status": "completed"
    },
    "tags": []
   },
   "outputs": [
    {
     "data": {
      "text/html": [
       "<div>\n",
       "<style scoped>\n",
       "    .dataframe tbody tr th:only-of-type {\n",
       "        vertical-align: middle;\n",
       "    }\n",
       "\n",
       "    .dataframe tbody tr th {\n",
       "        vertical-align: top;\n",
       "    }\n",
       "\n",
       "    .dataframe thead th {\n",
       "        text-align: right;\n",
       "    }\n",
       "</style>\n",
       "<table border=\"1\" class=\"dataframe\">\n",
       "  <thead>\n",
       "    <tr style=\"text-align: right;\">\n",
       "      <th></th>\n",
       "      <th>PassengerId</th>\n",
       "      <th>Pclass</th>\n",
       "      <th>Name</th>\n",
       "      <th>Sex</th>\n",
       "      <th>Age</th>\n",
       "      <th>SibSp</th>\n",
       "      <th>Parch</th>\n",
       "      <th>Ticket</th>\n",
       "      <th>Fare</th>\n",
       "      <th>Cabin</th>\n",
       "      <th>Embarked</th>\n",
       "    </tr>\n",
       "  </thead>\n",
       "  <tbody>\n",
       "    <tr>\n",
       "      <th>0</th>\n",
       "      <td>892</td>\n",
       "      <td>3</td>\n",
       "      <td>Kelly, Mr. James</td>\n",
       "      <td>male</td>\n",
       "      <td>34.5</td>\n",
       "      <td>0</td>\n",
       "      <td>0</td>\n",
       "      <td>330911</td>\n",
       "      <td>7.8292</td>\n",
       "      <td>NaN</td>\n",
       "      <td>Q</td>\n",
       "    </tr>\n",
       "    <tr>\n",
       "      <th>1</th>\n",
       "      <td>893</td>\n",
       "      <td>3</td>\n",
       "      <td>Wilkes, Mrs. James (Ellen Needs)</td>\n",
       "      <td>female</td>\n",
       "      <td>47.0</td>\n",
       "      <td>1</td>\n",
       "      <td>0</td>\n",
       "      <td>363272</td>\n",
       "      <td>7.0000</td>\n",
       "      <td>NaN</td>\n",
       "      <td>S</td>\n",
       "    </tr>\n",
       "    <tr>\n",
       "      <th>2</th>\n",
       "      <td>894</td>\n",
       "      <td>2</td>\n",
       "      <td>Myles, Mr. Thomas Francis</td>\n",
       "      <td>male</td>\n",
       "      <td>62.0</td>\n",
       "      <td>0</td>\n",
       "      <td>0</td>\n",
       "      <td>240276</td>\n",
       "      <td>9.6875</td>\n",
       "      <td>NaN</td>\n",
       "      <td>Q</td>\n",
       "    </tr>\n",
       "    <tr>\n",
       "      <th>3</th>\n",
       "      <td>895</td>\n",
       "      <td>3</td>\n",
       "      <td>Wirz, Mr. Albert</td>\n",
       "      <td>male</td>\n",
       "      <td>27.0</td>\n",
       "      <td>0</td>\n",
       "      <td>0</td>\n",
       "      <td>315154</td>\n",
       "      <td>8.6625</td>\n",
       "      <td>NaN</td>\n",
       "      <td>S</td>\n",
       "    </tr>\n",
       "    <tr>\n",
       "      <th>4</th>\n",
       "      <td>896</td>\n",
       "      <td>3</td>\n",
       "      <td>Hirvonen, Mrs. Alexander (Helga E Lindqvist)</td>\n",
       "      <td>female</td>\n",
       "      <td>22.0</td>\n",
       "      <td>1</td>\n",
       "      <td>1</td>\n",
       "      <td>3101298</td>\n",
       "      <td>12.2875</td>\n",
       "      <td>NaN</td>\n",
       "      <td>S</td>\n",
       "    </tr>\n",
       "  </tbody>\n",
       "</table>\n",
       "</div>"
      ],
      "text/plain": [
       "   PassengerId  Pclass                                          Name     Sex  \\\n",
       "0          892       3                              Kelly, Mr. James    male   \n",
       "1          893       3              Wilkes, Mrs. James (Ellen Needs)  female   \n",
       "2          894       2                     Myles, Mr. Thomas Francis    male   \n",
       "3          895       3                              Wirz, Mr. Albert    male   \n",
       "4          896       3  Hirvonen, Mrs. Alexander (Helga E Lindqvist)  female   \n",
       "\n",
       "    Age  SibSp  Parch   Ticket     Fare Cabin Embarked  \n",
       "0  34.5      0      0   330911   7.8292   NaN        Q  \n",
       "1  47.0      1      0   363272   7.0000   NaN        S  \n",
       "2  62.0      0      0   240276   9.6875   NaN        Q  \n",
       "3  27.0      0      0   315154   8.6625   NaN        S  \n",
       "4  22.0      1      1  3101298  12.2875   NaN        S  "
      ]
     },
     "execution_count": 3,
     "metadata": {},
     "output_type": "execute_result"
    }
   ],
   "source": [
    "test.head()"
   ]
  },
  {
   "cell_type": "code",
   "execution_count": 4,
   "id": "c224bf96",
   "metadata": {
    "execution": {
     "iopub.execute_input": "2023-01-08T21:13:14.556776Z",
     "iopub.status.busy": "2023-01-08T21:13:14.556055Z",
     "iopub.status.idle": "2023-01-08T21:13:14.563221Z",
     "shell.execute_reply": "2023-01-08T21:13:14.561546Z"
    },
    "papermill": {
     "duration": 0.022598,
     "end_time": "2023-01-08T21:13:14.566407",
     "exception": false,
     "start_time": "2023-01-08T21:13:14.543809",
     "status": "completed"
    },
    "tags": []
   },
   "outputs": [
    {
     "name": "stdout",
     "output_type": "stream",
     "text": [
      "Train Dataset Shape : (891, 12)\n",
      "Test Dataset Shape : (418, 11)\n"
     ]
    }
   ],
   "source": [
    "print(\"Train Dataset Shape : {}\".format(train.shape))\n",
    "print(\"Test Dataset Shape : {}\".format(test.shape))"
   ]
  },
  {
   "cell_type": "code",
   "execution_count": 5,
   "id": "253fd7ca",
   "metadata": {
    "execution": {
     "iopub.execute_input": "2023-01-08T21:13:14.591418Z",
     "iopub.status.busy": "2023-01-08T21:13:14.590465Z",
     "iopub.status.idle": "2023-01-08T21:13:14.595695Z",
     "shell.execute_reply": "2023-01-08T21:13:14.594364Z"
    },
    "papermill": {
     "duration": 0.019945,
     "end_time": "2023-01-08T21:13:14.598151",
     "exception": false,
     "start_time": "2023-01-08T21:13:14.578206",
     "status": "completed"
    },
    "tags": []
   },
   "outputs": [],
   "source": [
    "train_df = train\n",
    "test_df = test"
   ]
  },
  {
   "cell_type": "markdown",
   "id": "5324b1bb",
   "metadata": {
    "papermill": {
     "duration": 0.010694,
     "end_time": "2023-01-08T21:13:14.619922",
     "exception": false,
     "start_time": "2023-01-08T21:13:14.609228",
     "status": "completed"
    },
    "tags": []
   },
   "source": [
    "### Age Distribution "
   ]
  },
  {
   "cell_type": "code",
   "execution_count": 6,
   "id": "5cda38e1",
   "metadata": {
    "execution": {
     "iopub.execute_input": "2023-01-08T21:13:14.643259Z",
     "iopub.status.busy": "2023-01-08T21:13:14.642869Z",
     "iopub.status.idle": "2023-01-08T21:13:16.099906Z",
     "shell.execute_reply": "2023-01-08T21:13:16.098962Z"
    },
    "papermill": {
     "duration": 1.471465,
     "end_time": "2023-01-08T21:13:16.102176",
     "exception": false,
     "start_time": "2023-01-08T21:13:14.630711",
     "status": "completed"
    },
    "tags": []
   },
   "outputs": [
    {
     "data": {
      "image/png": "[encoded data removed]",
      "text/plain": [
       "<Figure size 432x288 with 1 Axes>"
      ]
     },
     "metadata": {
      "needs_background": "light"
     },
     "output_type": "display_data"
    }
   ],
   "source": [
    "import matplotlib.pyplot as plt\n",
    "import seaborn as sns\n",
    "\n",
    "plt.xlabel('Age')\n",
    "sns.histplot(data=train_df , x='Age');"
   ]
  },
  {
   "cell_type": "markdown",
   "id": "e00da621",
   "metadata": {
    "papermill": {
     "duration": 0.010744,
     "end_time": "2023-01-08T21:13:16.124275",
     "exception": false,
     "start_time": "2023-01-08T21:13:16.113531",
     "status": "completed"
    },
    "tags": []
   },
   "source": [
    "### Total Survived based on Embarked\n",
    "C = Cherbourg\n",
    "Q = Queenstown\n",
    "S = Southampton"
   ]
  },
  {
   "cell_type": "code",
   "execution_count": 7,
   "id": "f6b38c23",
   "metadata": {
    "execution": {
     "iopub.execute_input": "2023-01-08T21:13:16.149294Z",
     "iopub.status.busy": "2023-01-08T21:13:16.148285Z",
     "iopub.status.idle": "2023-01-08T21:13:16.406142Z",
     "shell.execute_reply": "2023-01-08T21:13:16.404966Z"
    },
    "papermill": {
     "duration": 0.273855,
     "end_time": "2023-01-08T21:13:16.409083",
     "exception": false,
     "start_time": "2023-01-08T21:13:16.135228",
     "status": "completed"
    },
    "tags": []
   },
   "outputs": [
    {
     "data": {
      "text/plain": [
       "<AxesSubplot:xlabel='Embarked', ylabel='count'>"
      ]
     },
     "execution_count": 7,
     "metadata": {},
     "output_type": "execute_result"
    },
    {
     "data": {
      "image/png": "[encoded data removed]",
      "text/plain": [
       "<Figure size 432x288 with 1 Axes>"
      ]
     },
     "metadata": {
      "needs_background": "light"
     },
     "output_type": "display_data"
    }
   ],
   "source": [
    "sns.countplot(data = train_df, x = 'Embarked', hue='Survived')"
   ]
  },
  {
   "cell_type": "markdown",
   "id": "e08169d9",
   "metadata": {
    "papermill": {
     "duration": 0.011178,
     "end_time": "2023-01-08T21:13:16.432264",
     "exception": false,
     "start_time": "2023-01-08T21:13:16.421086",
     "status": "completed"
    },
    "tags": []
   },
   "source": [
    "### Total Survival by Gender"
   ]
  },
  {
   "cell_type": "code",
   "execution_count": 8,
   "id": "82701f09",
   "metadata": {
    "execution": {
     "iopub.execute_input": "2023-01-08T21:13:16.458768Z",
     "iopub.status.busy": "2023-01-08T21:13:16.456782Z",
     "iopub.status.idle": "2023-01-08T21:13:16.675540Z",
     "shell.execute_reply": "2023-01-08T21:13:16.674693Z"
    },
    "papermill": {
     "duration": 0.234395,
     "end_time": "2023-01-08T21:13:16.678242",
     "exception": false,
     "start_time": "2023-01-08T21:13:16.443847",
     "status": "completed"
    },
    "tags": []
   },
   "outputs": [
    {
     "data": {
      "text/plain": [
       "<AxesSubplot:xlabel='Sex', ylabel='count'>"
      ]
     },
     "execution_count": 8,
     "metadata": {},
     "output_type": "execute_result"
    },
    {
     "data": {
      "image/png": "[encoded data removed]",
      "text/plain": [
       "<Figure size 432x288 with 1 Axes>"
      ]
     },
     "metadata": {
      "needs_background": "light"
     },
     "output_type": "display_data"
    }
   ],
   "source": [
    "sns.countplot(data = train_df, x = 'Sex', hue='Survived')"
   ]
  },
  {
   "cell_type": "markdown",
   "id": "73196971",
   "metadata": {
    "papermill": {
     "duration": 0.011327,
     "end_time": "2023-01-08T21:13:16.701286",
     "exception": false,
     "start_time": "2023-01-08T21:13:16.689959",
     "status": "completed"
    },
    "tags": []
   },
   "source": [
    "### Total Survival Based on Age"
   ]
  },
  {
   "cell_type": "code",
   "execution_count": 9,
   "id": "d805e844",
   "metadata": {
    "execution": {
     "iopub.execute_input": "2023-01-08T21:13:16.726269Z",
     "iopub.status.busy": "2023-01-08T21:13:16.725872Z",
     "iopub.status.idle": "2023-01-08T21:13:16.941355Z",
     "shell.execute_reply": "2023-01-08T21:13:16.940103Z"
    },
    "papermill": {
     "duration": 0.231168,
     "end_time": "2023-01-08T21:13:16.943989",
     "exception": false,
     "start_time": "2023-01-08T21:13:16.712821",
     "status": "completed"
    },
    "tags": []
   },
   "outputs": [
    {
     "data": {
      "image/png": "[encoded data removed]",
      "text/plain": [
       "<Figure size 432x288 with 1 Axes>"
      ]
     },
     "metadata": {
      "needs_background": "light"
     },
     "output_type": "display_data"
    }
   ],
   "source": [
    "sns.boxplot(data = train_df , y = 'Age', x = 'Survived');"
   ]
  },
  {
   "cell_type": "markdown",
   "id": "ad254090",
   "metadata": {
    "papermill": {
     "duration": 0.011867,
     "end_time": "2023-01-08T21:13:16.968461",
     "exception": false,
     "start_time": "2023-01-08T21:13:16.956594",
     "status": "completed"
    },
    "tags": []
   },
   "source": [
    "### Correlation Between Data"
   ]
  },
  {
   "cell_type": "code",
   "execution_count": 10,
   "id": "5b1ebc7e",
   "metadata": {
    "execution": {
     "iopub.execute_input": "2023-01-08T21:13:16.994395Z",
     "iopub.status.busy": "2023-01-08T21:13:16.993980Z",
     "iopub.status.idle": "2023-01-08T21:13:17.010446Z",
     "shell.execute_reply": "2023-01-08T21:13:17.009361Z"
    },
    "papermill": {
     "duration": 0.032545,
     "end_time": "2023-01-08T21:13:17.013064",
     "exception": false,
     "start_time": "2023-01-08T21:13:16.980519",
     "status": "completed"
    },
    "tags": []
   },
   "outputs": [
    {
     "data": {
      "text/html": [
       "<div>\n",
       "<style scoped>\n",
       "    .dataframe tbody tr th:only-of-type {\n",
       "        vertical-align: middle;\n",
       "    }\n",
       "\n",
       "    .dataframe tbody tr th {\n",
       "        vertical-align: top;\n",
       "    }\n",
       "\n",
       "    .dataframe thead th {\n",
       "        text-align: right;\n",
       "    }\n",
       "</style>\n",
       "<table border=\"1\" class=\"dataframe\">\n",
       "  <thead>\n",
       "    <tr style=\"text-align: right;\">\n",
       "      <th></th>\n",
       "      <th>PassengerId</th>\n",
       "      <th>Survived</th>\n",
       "      <th>Pclass</th>\n",
       "      <th>Age</th>\n",
       "      <th>SibSp</th>\n",
       "      <th>Parch</th>\n",
       "      <th>Fare</th>\n",
       "    </tr>\n",
       "  </thead>\n",
       "  <tbody>\n",
       "    <tr>\n",
       "      <th>PassengerId</th>\n",
       "      <td>1.000000</td>\n",
       "      <td>-0.005007</td>\n",
       "      <td>-0.035144</td>\n",
       "      <td>0.036847</td>\n",
       "      <td>-0.057527</td>\n",
       "      <td>-0.001652</td>\n",
       "      <td>0.012658</td>\n",
       "    </tr>\n",
       "    <tr>\n",
       "      <th>Survived</th>\n",
       "      <td>-0.005007</td>\n",
       "      <td>1.000000</td>\n",
       "      <td>-0.338481</td>\n",
       "      <td>-0.077221</td>\n",
       "      <td>-0.035322</td>\n",
       "      <td>0.081629</td>\n",
       "      <td>0.257307</td>\n",
       "    </tr>\n",
       "    <tr>\n",
       "      <th>Pclass</th>\n",
       "      <td>-0.035144</td>\n",
       "      <td>-0.338481</td>\n",
       "      <td>1.000000</td>\n",
       "      <td>-0.369226</td>\n",
       "      <td>0.083081</td>\n",
       "      <td>0.018443</td>\n",
       "      <td>-0.549500</td>\n",
       "    </tr>\n",
       "    <tr>\n",
       "      <th>Age</th>\n",
       "      <td>0.036847</td>\n",
       "      <td>-0.077221</td>\n",
       "      <td>-0.369226</td>\n",
       "      <td>1.000000</td>\n",
       "      <td>-0.308247</td>\n",
       "      <td>-0.189119</td>\n",
       "      <td>0.096067</td>\n",
       "    </tr>\n",
       "    <tr>\n",
       "      <th>SibSp</th>\n",
       "      <td>-0.057527</td>\n",
       "      <td>-0.035322</td>\n",
       "      <td>0.083081</td>\n",
       "      <td>-0.308247</td>\n",
       "      <td>1.000000</td>\n",
       "      <td>0.414838</td>\n",
       "      <td>0.159651</td>\n",
       "    </tr>\n",
       "    <tr>\n",
       "      <th>Parch</th>\n",
       "      <td>-0.001652</td>\n",
       "      <td>0.081629</td>\n",
       "      <td>0.018443</td>\n",
       "      <td>-0.189119</td>\n",
       "      <td>0.414838</td>\n",
       "      <td>1.000000</td>\n",
       "      <td>0.216225</td>\n",
       "    </tr>\n",
       "    <tr>\n",
       "      <th>Fare</th>\n",
       "      <td>0.012658</td>\n",
       "      <td>0.257307</td>\n",
       "      <td>-0.549500</td>\n",
       "      <td>0.096067</td>\n",
       "      <td>0.159651</td>\n",
       "      <td>0.216225</td>\n",
       "      <td>1.000000</td>\n",
       "    </tr>\n",
       "  </tbody>\n",
       "</table>\n",
       "</div>"
      ],
      "text/plain": [
       "             PassengerId  Survived    Pclass       Age     SibSp     Parch  \\\n",
       "PassengerId     1.000000 -0.005007 -0.035144  0.036847 -0.057527 -0.001652   \n",
       "Survived       -0.005007  1.000000 -0.338481 -0.077221 -0.035322  0.081629   \n",
       "Pclass         -0.035144 -0.338481  1.000000 -0.369226  0.083081  0.018443   \n",
       "Age             0.036847 -0.077221 -0.369226  1.000000 -0.308247 -0.189119   \n",
       "SibSp          -0.057527 -0.035322  0.083081 -0.308247  1.000000  0.414838   \n",
       "Parch          -0.001652  0.081629  0.018443 -0.189119  0.414838  1.000000   \n",
       "Fare            0.012658  0.257307 -0.549500  0.096067  0.159651  0.216225   \n",
       "\n",
       "                 Fare  \n",
       "PassengerId  0.012658  \n",
       "Survived     0.257307  \n",
       "Pclass      -0.549500  \n",
       "Age          0.096067  \n",
       "SibSp        0.159651  \n",
       "Parch        0.216225  \n",
       "Fare         1.000000  "
      ]
     },
     "execution_count": 10,
     "metadata": {},
     "output_type": "execute_result"
    }
   ],
   "source": [
    "train_df.corr()"
   ]
  },
  {
   "cell_type": "code",
   "execution_count": 11,
   "id": "d5fe11a0",
   "metadata": {
    "execution": {
     "iopub.execute_input": "2023-01-08T21:13:17.039517Z",
     "iopub.status.busy": "2023-01-08T21:13:17.038829Z",
     "iopub.status.idle": "2023-01-08T21:13:17.639942Z",
     "shell.execute_reply": "2023-01-08T21:13:17.638810Z"
    },
    "papermill": {
     "duration": 0.617118,
     "end_time": "2023-01-08T21:13:17.642622",
     "exception": false,
     "start_time": "2023-01-08T21:13:17.025504",
     "status": "completed"
    },
    "tags": []
   },
   "outputs": [
    {
     "data": {
      "image/png": "[encoded data removed]",
      "text/plain": [
       "<Figure size 432x288 with 2 Axes>"
      ]
     },
     "metadata": {
      "needs_background": "light"
     },
     "output_type": "display_data"
    }
   ],
   "source": [
    "sns.heatmap(train_df.corr(), annot=True);\n",
    "plt.title(\"Heatmap\", fontsize=16);"
   ]
  },
  {
   "cell_type": "markdown",
   "id": "3f237350",
   "metadata": {
    "papermill": {
     "duration": 0.01264,
     "end_time": "2023-01-08T21:13:17.668447",
     "exception": false,
     "start_time": "2023-01-08T21:13:17.655807",
     "status": "completed"
    },
    "tags": []
   },
   "source": [
    "# Data Cleansing"
   ]
  },
  {
   "cell_type": "markdown",
   "id": "949b8598",
   "metadata": {
    "papermill": {
     "duration": 0.012676,
     "end_time": "2023-01-08T21:13:17.694208",
     "exception": false,
     "start_time": "2023-01-08T21:13:17.681532",
     "status": "completed"
    },
    "tags": []
   },
   "source": [
    "### Drop Features"
   ]
  },
  {
   "cell_type": "code",
   "execution_count": 12,
   "id": "311e7b8a",
   "metadata": {
    "execution": {
     "iopub.execute_input": "2023-01-08T21:13:17.722729Z",
     "iopub.status.busy": "2023-01-08T21:13:17.721567Z",
     "iopub.status.idle": "2023-01-08T21:13:17.872899Z",
     "shell.execute_reply": "2023-01-08T21:13:17.871920Z"
    },
    "papermill": {
     "duration": 0.168295,
     "end_time": "2023-01-08T21:13:17.875612",
     "exception": false,
     "start_time": "2023-01-08T21:13:17.707317",
     "status": "completed"
    },
    "tags": []
   },
   "outputs": [],
   "source": [
    "from tables import index\n",
    "\n",
    "#Function to Drop row and columns\n",
    "def removeNaN(raw_data):\n",
    "\n",
    "  df = raw_data\n",
    "  \n",
    "  print(\"Data Frame Size Before Removing NaN : {}\".format(df.shape))\n",
    "\n",
    "  #Check for Null value\n",
    "  nullCheck = df.isnull().sum() / len(df)\n",
    "  cols = nullCheck[nullCheck > 0].index\n",
    "\n",
    "  for col in cols:\n",
    "    if df.dtypes[col] in ['int64','float64']:\n",
    "      df[col].fillna(df[col].median(), inplace=True)\n",
    "    else:\n",
    "        nullList = [index for index, row in df.iterrows() if row.isnull().any()]\n",
    "        df.drop(nullList, inplace = True)\n",
    "        #df[col].fillna(\"NA\", inplace=True)\n",
    "    \n",
    "  print(\"Data Frame Size after removing NaN : {}\".format(df.shape))\n",
    "  return df\n",
    "\n",
    "def dropFeatureWithTrashold(raw_data, type,drop_column):\n",
    "    \n",
    "    df = raw_data\n",
    "    print(\"Data Frame Size Before Removing Feature with More Then 50% NaN Value : {}\".format(df.shape))\n",
    "    \n",
    "    #Features with more then 50% of NaN value\n",
    "    nullCheck_list = [] \n",
    "    if type =='train':\n",
    "        nullCheck = df.isnull().sum() / len(df) \n",
    "        \n",
    "        cols = nullCheck[nullCheck > 0.5].index\n",
    "        for col in cols:\n",
    "            nullCheck_list.append(col)\n",
    "            print(\"Features with More then 50% for NaN value : {}\".format(col))\n",
    "    else:\n",
    "        nullCheck_list = drop_column\n",
    "  \n",
    "    #Dropping columns with more then 50% NaN value\n",
    "    df.drop(nullCheck_list, axis= 1, inplace = True)\n",
    "    \n",
    "    print(\"Data Frame Size After Removing Feature with More Then 50% NaN Value : {}\".format(df.shape))\n",
    "    \n",
    "    if type == 'train':\n",
    "        return df, nullCheck_list\n",
    "    else:\n",
    "        return df\n",
    "\n",
    "def reomveIrrelevantFeatures(raw_data):\n",
    "    \n",
    "    df = raw_data\n",
    "    \n",
    "    print(\"Data Frame Size Before Removing Irrelevant Features : {}\".format(df.shape))\n",
    "    \n",
    "    # Removed irrelevant columns\n",
    "    dropList = ['PassengerId','Name','Ticket']\n",
    "    df.drop(dropList, axis=1, inplace=True)\n",
    "    \n",
    "    print(\"Data Frame Size After Removing Irrelevant Features : {}\".format(df.shape))\n",
    "    \n",
    "    return df\n",
    "\n",
    "def removeDuplicateRow(raw_data):\n",
    "    df = raw_data\n",
    "    \n",
    "    # Finding Any duplicate row in dataset\n",
    "    print(\"Data Frame Size Before Removing Duplicate Rows : {}\".format(df.shape)) \n",
    "    dup_row = df[df.duplicated()]\n",
    "    if len(dup_row) > 0:\n",
    "        print(\"Total Duplicate Row : {}\".format(len(dup_row)))\n",
    "        df = df.drop_duplicates()  \n",
    "        print(\"Data Frame Size After Removing Duplicate Rows : {}\".format(df.shape))\n",
    "    else:\n",
    "        print(\"No Duplicate Row in Dataset\")\n",
    "    \n",
    "    return df"
   ]
  },
  {
   "cell_type": "code",
   "execution_count": 13,
   "id": "fb64a877",
   "metadata": {
    "execution": {
     "iopub.execute_input": "2023-01-08T21:13:17.904716Z",
     "iopub.status.busy": "2023-01-08T21:13:17.904292Z",
     "iopub.status.idle": "2023-01-08T21:13:18.084003Z",
     "shell.execute_reply": "2023-01-08T21:13:18.082745Z"
    },
    "papermill": {
     "duration": 0.197347,
     "end_time": "2023-01-08T21:13:18.086726",
     "exception": false,
     "start_time": "2023-01-08T21:13:17.889379",
     "status": "completed"
    },
    "tags": []
   },
   "outputs": [
    {
     "name": "stdout",
     "output_type": "stream",
     "text": [
      "Data Frame Size Before Removing Feature with More Then 50% NaN Value : (891, 12)\n",
      "Features with More then 50% for NaN value : Cabin\n",
      "Data Frame Size After Removing Feature with More Then 50% NaN Value : (891, 11)\n",
      "Data Frame Size Before Removing Irrelevant Features : (891, 11)\n",
      "Data Frame Size After Removing Irrelevant Features : (891, 8)\n",
      "Data Frame Size Before Removing NaN : (891, 8)\n",
      "Data Frame Size after removing NaN : (889, 8)\n",
      "Data Frame Size Before Removing Duplicate Rows : (889, 8)\n",
      "Total Duplicate Row : 116\n",
      "Data Frame Size After Removing Duplicate Rows : (773, 8)\n"
     ]
    }
   ],
   "source": [
    "df_train = train_df.copy()\n",
    "\n",
    "df_train_dfwt , null_list = dropFeatureWithTrashold(df_train,type='train', drop_column=None)\n",
    "\n",
    "df_train_irr = reomveIrrelevantFeatures(df_train_dfwt)\n",
    "\n",
    "df_train_clns = removeNaN(df_train_irr)\n",
    "\n",
    "df_train = removeDuplicateRow(df_train_clns)\n"
   ]
  },
  {
   "cell_type": "code",
   "execution_count": 14,
   "id": "11c92794",
   "metadata": {
    "execution": {
     "iopub.execute_input": "2023-01-08T21:13:18.114538Z",
     "iopub.status.busy": "2023-01-08T21:13:18.114163Z",
     "iopub.status.idle": "2023-01-08T21:13:18.128316Z",
     "shell.execute_reply": "2023-01-08T21:13:18.127140Z"
    },
    "papermill": {
     "duration": 0.03055,
     "end_time": "2023-01-08T21:13:18.130524",
     "exception": false,
     "start_time": "2023-01-08T21:13:18.099974",
     "status": "completed"
    },
    "tags": []
   },
   "outputs": [
    {
     "data": {
      "text/html": [
       "<div>\n",
       "<style scoped>\n",
       "    .dataframe tbody tr th:only-of-type {\n",
       "        vertical-align: middle;\n",
       "    }\n",
       "\n",
       "    .dataframe tbody tr th {\n",
       "        vertical-align: top;\n",
       "    }\n",
       "\n",
       "    .dataframe thead th {\n",
       "        text-align: right;\n",
       "    }\n",
       "</style>\n",
       "<table border=\"1\" class=\"dataframe\">\n",
       "  <thead>\n",
       "    <tr style=\"text-align: right;\">\n",
       "      <th></th>\n",
       "      <th>Survived</th>\n",
       "      <th>Pclass</th>\n",
       "      <th>Sex</th>\n",
       "      <th>Age</th>\n",
       "      <th>SibSp</th>\n",
       "      <th>Parch</th>\n",
       "      <th>Fare</th>\n",
       "      <th>Embarked</th>\n",
       "    </tr>\n",
       "  </thead>\n",
       "  <tbody>\n",
       "    <tr>\n",
       "      <th>0</th>\n",
       "      <td>0</td>\n",
       "      <td>3</td>\n",
       "      <td>male</td>\n",
       "      <td>22.0</td>\n",
       "      <td>1</td>\n",
       "      <td>0</td>\n",
       "      <td>7.2500</td>\n",
       "      <td>S</td>\n",
       "    </tr>\n",
       "    <tr>\n",
       "      <th>1</th>\n",
       "      <td>1</td>\n",
       "      <td>1</td>\n",
       "      <td>female</td>\n",
       "      <td>38.0</td>\n",
       "      <td>1</td>\n",
       "      <td>0</td>\n",
       "      <td>71.2833</td>\n",
       "      <td>C</td>\n",
       "    </tr>\n",
       "    <tr>\n",
       "      <th>2</th>\n",
       "      <td>1</td>\n",
       "      <td>3</td>\n",
       "      <td>female</td>\n",
       "      <td>26.0</td>\n",
       "      <td>0</td>\n",
       "      <td>0</td>\n",
       "      <td>7.9250</td>\n",
       "      <td>S</td>\n",
       "    </tr>\n",
       "    <tr>\n",
       "      <th>3</th>\n",
       "      <td>1</td>\n",
       "      <td>1</td>\n",
       "      <td>female</td>\n",
       "      <td>35.0</td>\n",
       "      <td>1</td>\n",
       "      <td>0</td>\n",
       "      <td>53.1000</td>\n",
       "      <td>S</td>\n",
       "    </tr>\n",
       "    <tr>\n",
       "      <th>4</th>\n",
       "      <td>0</td>\n",
       "      <td>3</td>\n",
       "      <td>male</td>\n",
       "      <td>35.0</td>\n",
       "      <td>0</td>\n",
       "      <td>0</td>\n",
       "      <td>8.0500</td>\n",
       "      <td>S</td>\n",
       "    </tr>\n",
       "  </tbody>\n",
       "</table>\n",
       "</div>"
      ],
      "text/plain": [
       "   Survived  Pclass     Sex   Age  SibSp  Parch     Fare Embarked\n",
       "0         0       3    male  22.0      1      0   7.2500        S\n",
       "1         1       1  female  38.0      1      0  71.2833        C\n",
       "2         1       3  female  26.0      0      0   7.9250        S\n",
       "3         1       1  female  35.0      1      0  53.1000        S\n",
       "4         0       3    male  35.0      0      0   8.0500        S"
      ]
     },
     "execution_count": 14,
     "metadata": {},
     "output_type": "execute_result"
    }
   ],
   "source": [
    "df_train.head()"
   ]
  },
  {
   "cell_type": "code",
   "execution_count": 15,
   "id": "dce18325",
   "metadata": {
    "execution": {
     "iopub.execute_input": "2023-01-08T21:13:18.159038Z",
     "iopub.status.busy": "2023-01-08T21:13:18.158631Z",
     "iopub.status.idle": "2023-01-08T21:13:18.170489Z",
     "shell.execute_reply": "2023-01-08T21:13:18.169314Z"
    },
    "papermill": {
     "duration": 0.029478,
     "end_time": "2023-01-08T21:13:18.173626",
     "exception": false,
     "start_time": "2023-01-08T21:13:18.144148",
     "status": "completed"
    },
    "tags": []
   },
   "outputs": [
    {
     "name": "stdout",
     "output_type": "stream",
     "text": [
      "Data Frame Size Before Removing Feature with More Then 50% NaN Value : (418, 11)\n",
      "Data Frame Size After Removing Feature with More Then 50% NaN Value : (418, 10)\n",
      "Data Frame Size Before Removing Irrelevant Features : (418, 10)\n",
      "Data Frame Size After Removing Irrelevant Features : (418, 7)\n",
      "Data Frame Size Before Removing NaN : (418, 7)\n",
      "Data Frame Size after removing NaN : (418, 7)\n"
     ]
    }
   ],
   "source": [
    "df_test = test_df.copy()\n",
    "\n",
    "df_test_dfwt = dropFeatureWithTrashold(df_test,type='test', drop_column=null_list)\n",
    "\n",
    "df_test_rif = reomveIrrelevantFeatures(df_test_dfwt)\n",
    "\n",
    "df_test_clns = removeNaN(df_test_rif)\n",
    "\n",
    "#df_test = removeDuplicateRow(df_test_clns)"
   ]
  },
  {
   "cell_type": "code",
   "execution_count": 16,
   "id": "9d894483",
   "metadata": {
    "execution": {
     "iopub.execute_input": "2023-01-08T21:13:18.203212Z",
     "iopub.status.busy": "2023-01-08T21:13:18.202577Z",
     "iopub.status.idle": "2023-01-08T21:13:18.215705Z",
     "shell.execute_reply": "2023-01-08T21:13:18.214391Z"
    },
    "papermill": {
     "duration": 0.030415,
     "end_time": "2023-01-08T21:13:18.218250",
     "exception": false,
     "start_time": "2023-01-08T21:13:18.187835",
     "status": "completed"
    },
    "tags": []
   },
   "outputs": [
    {
     "data": {
      "text/html": [
       "<div>\n",
       "<style scoped>\n",
       "    .dataframe tbody tr th:only-of-type {\n",
       "        vertical-align: middle;\n",
       "    }\n",
       "\n",
       "    .dataframe tbody tr th {\n",
       "        vertical-align: top;\n",
       "    }\n",
       "\n",
       "    .dataframe thead th {\n",
       "        text-align: right;\n",
       "    }\n",
       "</style>\n",
       "<table border=\"1\" class=\"dataframe\">\n",
       "  <thead>\n",
       "    <tr style=\"text-align: right;\">\n",
       "      <th></th>\n",
       "      <th>Pclass</th>\n",
       "      <th>Sex</th>\n",
       "      <th>Age</th>\n",
       "      <th>SibSp</th>\n",
       "      <th>Parch</th>\n",
       "      <th>Fare</th>\n",
       "      <th>Embarked</th>\n",
       "    </tr>\n",
       "  </thead>\n",
       "  <tbody>\n",
       "    <tr>\n",
       "      <th>0</th>\n",
       "      <td>3</td>\n",
       "      <td>male</td>\n",
       "      <td>34.5</td>\n",
       "      <td>0</td>\n",
       "      <td>0</td>\n",
       "      <td>7.8292</td>\n",
       "      <td>Q</td>\n",
       "    </tr>\n",
       "    <tr>\n",
       "      <th>1</th>\n",
       "      <td>3</td>\n",
       "      <td>female</td>\n",
       "      <td>47.0</td>\n",
       "      <td>1</td>\n",
       "      <td>0</td>\n",
       "      <td>7.0000</td>\n",
       "      <td>S</td>\n",
       "    </tr>\n",
       "    <tr>\n",
       "      <th>2</th>\n",
       "      <td>2</td>\n",
       "      <td>male</td>\n",
       "      <td>62.0</td>\n",
       "      <td>0</td>\n",
       "      <td>0</td>\n",
       "      <td>9.6875</td>\n",
       "      <td>Q</td>\n",
       "    </tr>\n",
       "    <tr>\n",
       "      <th>3</th>\n",
       "      <td>3</td>\n",
       "      <td>male</td>\n",
       "      <td>27.0</td>\n",
       "      <td>0</td>\n",
       "      <td>0</td>\n",
       "      <td>8.6625</td>\n",
       "      <td>S</td>\n",
       "    </tr>\n",
       "    <tr>\n",
       "      <th>4</th>\n",
       "      <td>3</td>\n",
       "      <td>female</td>\n",
       "      <td>22.0</td>\n",
       "      <td>1</td>\n",
       "      <td>1</td>\n",
       "      <td>12.2875</td>\n",
       "      <td>S</td>\n",
       "    </tr>\n",
       "  </tbody>\n",
       "</table>\n",
       "</div>"
      ],
      "text/plain": [
       "   Pclass     Sex   Age  SibSp  Parch     Fare Embarked\n",
       "0       3    male  34.5      0      0   7.8292        Q\n",
       "1       3  female  47.0      1      0   7.0000        S\n",
       "2       2    male  62.0      0      0   9.6875        Q\n",
       "3       3    male  27.0      0      0   8.6625        S\n",
       "4       3  female  22.0      1      1  12.2875        S"
      ]
     },
     "execution_count": 16,
     "metadata": {},
     "output_type": "execute_result"
    }
   ],
   "source": [
    "df_test.head()"
   ]
  },
  {
   "cell_type": "markdown",
   "id": "61d4ed82",
   "metadata": {
    "papermill": {
     "duration": 0.013317,
     "end_time": "2023-01-08T21:13:18.245561",
     "exception": false,
     "start_time": "2023-01-08T21:13:18.232244",
     "status": "completed"
    },
    "tags": []
   },
   "source": [
    "### Standardization and Dummy Varaibles"
   ]
  },
  {
   "cell_type": "code",
   "execution_count": 17,
   "id": "0142fd91",
   "metadata": {
    "execution": {
     "iopub.execute_input": "2023-01-08T21:13:18.274787Z",
     "iopub.status.busy": "2023-01-08T21:13:18.274373Z",
     "iopub.status.idle": "2023-01-08T21:13:18.424796Z",
     "shell.execute_reply": "2023-01-08T21:13:18.423639Z"
    },
    "papermill": {
     "duration": 0.168167,
     "end_time": "2023-01-08T21:13:18.427509",
     "exception": false,
     "start_time": "2023-01-08T21:13:18.259342",
     "status": "completed"
    },
    "tags": []
   },
   "outputs": [],
   "source": [
    "from sklearn import preprocessing\n",
    "\n",
    "# Function to Normalized data\n",
    "def normalizing_data(raw_data):\n",
    "  \n",
    "  df = raw_data\n",
    "\n",
    "  dummy_dataype = ['object']\n",
    "  zz_dataype = ['int64','float64']\n",
    "    \n",
    "  dummy_feature_list = []\n",
    "  zz_feature_list = []\n",
    "  \n",
    "  dependent_var = ['Survived']\n",
    "  stnd_list = ['dummy','zz']\n",
    "\n",
    "  features = df.columns\n",
    "  \n",
    "  for each in stnd_list:\n",
    "    if each == 'dummy':\n",
    "      for feature in features:\n",
    "        if (df.dtypes[feature] in dummy_dataype):\n",
    "          dummy_feature_list.append(feature)\n",
    "          print(\"Dummy Varaibles : {} \".format(feature))\n",
    "\n",
    "          dummy = pd.get_dummies(df[feature], drop_first=True)\n",
    "          df = pd.concat([df, dummy], axis=1)\n",
    "    else:\n",
    "      for feature in features:\n",
    "        if (df.dtypes[feature] in zz_dataype) and ( feature not in dependent_var):\n",
    "          zz_feature_list.append(feature)\n",
    "          print(\"ZZ varaibles for Scaling  : {} \".format(feature))\n",
    "          \n",
    "          df[feature] = preprocessing.scale(df[feature])\n",
    "\n",
    "  #Dropping Dummy Varaibles\n",
    "  df.drop(dummy_feature_list, axis=1, inplace=True)\n",
    "\n",
    "  return df"
   ]
  },
  {
   "cell_type": "code",
   "execution_count": 18,
   "id": "42524358",
   "metadata": {
    "execution": {
     "iopub.execute_input": "2023-01-08T21:13:18.456549Z",
     "iopub.status.busy": "2023-01-08T21:13:18.456159Z",
     "iopub.status.idle": "2023-01-08T21:13:18.474213Z",
     "shell.execute_reply": "2023-01-08T21:13:18.472712Z"
    },
    "papermill": {
     "duration": 0.035561,
     "end_time": "2023-01-08T21:13:18.476912",
     "exception": false,
     "start_time": "2023-01-08T21:13:18.441351",
     "status": "completed"
    },
    "tags": []
   },
   "outputs": [
    {
     "name": "stdout",
     "output_type": "stream",
     "text": [
      "Dummy Varaibles : Sex \n",
      "Dummy Varaibles : Embarked \n",
      "ZZ varaibles for Scaling  : Pclass \n",
      "ZZ varaibles for Scaling  : Age \n",
      "ZZ varaibles for Scaling  : SibSp \n",
      "ZZ varaibles for Scaling  : Parch \n",
      "ZZ varaibles for Scaling  : Fare \n"
     ]
    }
   ],
   "source": [
    "df_train = normalizing_data(df_train)"
   ]
  },
  {
   "cell_type": "markdown",
   "id": "6cda1eed",
   "metadata": {
    "papermill": {
     "duration": 0.013482,
     "end_time": "2023-01-08T21:13:18.504306",
     "exception": false,
     "start_time": "2023-01-08T21:13:18.490824",
     "status": "completed"
    },
    "tags": []
   },
   "source": [
    "### Sanity Check"
   ]
  },
  {
   "cell_type": "code",
   "execution_count": 19,
   "id": "a7558f24",
   "metadata": {
    "execution": {
     "iopub.execute_input": "2023-01-08T21:13:18.533216Z",
     "iopub.status.busy": "2023-01-08T21:13:18.532831Z",
     "iopub.status.idle": "2023-01-08T21:13:18.543065Z",
     "shell.execute_reply": "2023-01-08T21:13:18.541880Z"
    },
    "papermill": {
     "duration": 0.027872,
     "end_time": "2023-01-08T21:13:18.545638",
     "exception": false,
     "start_time": "2023-01-08T21:13:18.517766",
     "status": "completed"
    },
    "tags": []
   },
   "outputs": [
    {
     "data": {
      "text/plain": [
       "Survived    0\n",
       "Pclass      0\n",
       "Age         0\n",
       "SibSp       0\n",
       "Parch       0\n",
       "Fare        0\n",
       "male        0\n",
       "Q           0\n",
       "S           0\n",
       "dtype: int64"
      ]
     },
     "execution_count": 19,
     "metadata": {},
     "output_type": "execute_result"
    }
   ],
   "source": [
    "df_train.isnull().sum().sort_values(ascending=False)"
   ]
  },
  {
   "cell_type": "code",
   "execution_count": 20,
   "id": "ca5f1469",
   "metadata": {
    "execution": {
     "iopub.execute_input": "2023-01-08T21:13:18.575103Z",
     "iopub.status.busy": "2023-01-08T21:13:18.574721Z",
     "iopub.status.idle": "2023-01-08T21:13:18.583967Z",
     "shell.execute_reply": "2023-01-08T21:13:18.583140Z"
    },
    "papermill": {
     "duration": 0.02612,
     "end_time": "2023-01-08T21:13:18.585918",
     "exception": false,
     "start_time": "2023-01-08T21:13:18.559798",
     "status": "completed"
    },
    "tags": []
   },
   "outputs": [
    {
     "data": {
      "text/plain": [
       "Pclass      0\n",
       "Sex         0\n",
       "Age         0\n",
       "SibSp       0\n",
       "Parch       0\n",
       "Fare        0\n",
       "Embarked    0\n",
       "dtype: int64"
      ]
     },
     "execution_count": 20,
     "metadata": {},
     "output_type": "execute_result"
    }
   ],
   "source": [
    "df_test.isnull().sum().sort_values(ascending=False)"
   ]
  },
  {
   "cell_type": "code",
   "execution_count": 21,
   "id": "3858cea5",
   "metadata": {
    "execution": {
     "iopub.execute_input": "2023-01-08T21:13:18.616605Z",
     "iopub.status.busy": "2023-01-08T21:13:18.615985Z",
     "iopub.status.idle": "2023-01-08T21:13:18.629073Z",
     "shell.execute_reply": "2023-01-08T21:13:18.628292Z"
    },
    "papermill": {
     "duration": 0.030424,
     "end_time": "2023-01-08T21:13:18.631255",
     "exception": false,
     "start_time": "2023-01-08T21:13:18.600831",
     "status": "completed"
    },
    "tags": []
   },
   "outputs": [
    {
     "data": {
      "text/html": [
       "<div>\n",
       "<style scoped>\n",
       "    .dataframe tbody tr th:only-of-type {\n",
       "        vertical-align: middle;\n",
       "    }\n",
       "\n",
       "    .dataframe tbody tr th {\n",
       "        vertical-align: top;\n",
       "    }\n",
       "\n",
       "    .dataframe thead th {\n",
       "        text-align: right;\n",
       "    }\n",
       "</style>\n",
       "<table border=\"1\" class=\"dataframe\">\n",
       "  <thead>\n",
       "    <tr style=\"text-align: right;\">\n",
       "      <th></th>\n",
       "      <th>Survived</th>\n",
       "      <th>Pclass</th>\n",
       "      <th>Age</th>\n",
       "      <th>SibSp</th>\n",
       "      <th>Parch</th>\n",
       "      <th>Fare</th>\n",
       "      <th>male</th>\n",
       "      <th>Q</th>\n",
       "      <th>S</th>\n",
       "    </tr>\n",
       "  </thead>\n",
       "  <tbody>\n",
       "    <tr>\n",
       "      <th>0</th>\n",
       "      <td>0</td>\n",
       "      <td>0.880906</td>\n",
       "      <td>-0.548619</td>\n",
       "      <td>0.474055</td>\n",
       "      <td>-0.501565</td>\n",
       "      <td>-0.525112</td>\n",
       "      <td>1</td>\n",
       "      <td>0</td>\n",
       "      <td>1</td>\n",
       "    </tr>\n",
       "    <tr>\n",
       "      <th>1</th>\n",
       "      <td>1</td>\n",
       "      <td>-1.467164</td>\n",
       "      <td>0.617360</td>\n",
       "      <td>0.474055</td>\n",
       "      <td>-0.501565</td>\n",
       "      <td>0.697085</td>\n",
       "      <td>0</td>\n",
       "      <td>0</td>\n",
       "      <td>0</td>\n",
       "    </tr>\n",
       "    <tr>\n",
       "      <th>2</th>\n",
       "      <td>1</td>\n",
       "      <td>0.880906</td>\n",
       "      <td>-0.257124</td>\n",
       "      <td>-0.535434</td>\n",
       "      <td>-0.501565</td>\n",
       "      <td>-0.512228</td>\n",
       "      <td>0</td>\n",
       "      <td>0</td>\n",
       "      <td>1</td>\n",
       "    </tr>\n",
       "    <tr>\n",
       "      <th>3</th>\n",
       "      <td>1</td>\n",
       "      <td>-1.467164</td>\n",
       "      <td>0.398739</td>\n",
       "      <td>0.474055</td>\n",
       "      <td>-0.501565</td>\n",
       "      <td>0.350022</td>\n",
       "      <td>0</td>\n",
       "      <td>0</td>\n",
       "      <td>1</td>\n",
       "    </tr>\n",
       "    <tr>\n",
       "      <th>4</th>\n",
       "      <td>0</td>\n",
       "      <td>0.880906</td>\n",
       "      <td>0.398739</td>\n",
       "      <td>-0.535434</td>\n",
       "      <td>-0.501565</td>\n",
       "      <td>-0.509842</td>\n",
       "      <td>1</td>\n",
       "      <td>0</td>\n",
       "      <td>1</td>\n",
       "    </tr>\n",
       "  </tbody>\n",
       "</table>\n",
       "</div>"
      ],
      "text/plain": [
       "   Survived    Pclass       Age     SibSp     Parch      Fare  male  Q  S\n",
       "0         0  0.880906 -0.548619  0.474055 -0.501565 -0.525112     1  0  1\n",
       "1         1 -1.467164  0.617360  0.474055 -0.501565  0.697085     0  0  0\n",
       "2         1  0.880906 -0.257124 -0.535434 -0.501565 -0.512228     0  0  1\n",
       "3         1 -1.467164  0.398739  0.474055 -0.501565  0.350022     0  0  1\n",
       "4         0  0.880906  0.398739 -0.535434 -0.501565 -0.509842     1  0  1"
      ]
     },
     "execution_count": 21,
     "metadata": {},
     "output_type": "execute_result"
    }
   ],
   "source": [
    "df_train.head()"
   ]
  },
  {
   "cell_type": "code",
   "execution_count": 22,
   "id": "e3640d36",
   "metadata": {
    "execution": {
     "iopub.execute_input": "2023-01-08T21:13:18.661436Z",
     "iopub.status.busy": "2023-01-08T21:13:18.660847Z",
     "iopub.status.idle": "2023-01-08T21:13:18.666113Z",
     "shell.execute_reply": "2023-01-08T21:13:18.664768Z"
    },
    "papermill": {
     "duration": 0.023177,
     "end_time": "2023-01-08T21:13:18.668591",
     "exception": false,
     "start_time": "2023-01-08T21:13:18.645414",
     "status": "completed"
    },
    "tags": []
   },
   "outputs": [
    {
     "name": "stdout",
     "output_type": "stream",
     "text": [
      "Train Dataset Shape : (773, 9)\n"
     ]
    }
   ],
   "source": [
    "print(\"Train Dataset Shape : {}\".format(df_train.shape))"
   ]
  },
  {
   "cell_type": "markdown",
   "id": "6328f32a",
   "metadata": {
    "papermill": {
     "duration": 0.013737,
     "end_time": "2023-01-08T21:13:18.696900",
     "exception": false,
     "start_time": "2023-01-08T21:13:18.683163",
     "status": "completed"
    },
    "tags": []
   },
   "source": [
    "# Building the Model"
   ]
  },
  {
   "cell_type": "markdown",
   "id": "c61356e0",
   "metadata": {
    "papermill": {
     "duration": 0.013785,
     "end_time": "2023-01-08T21:13:18.724901",
     "exception": false,
     "start_time": "2023-01-08T21:13:18.711116",
     "status": "completed"
    },
    "tags": []
   },
   "source": [
    "### Preparing the Data"
   ]
  },
  {
   "cell_type": "code",
   "execution_count": 23,
   "id": "013a02d4",
   "metadata": {
    "execution": {
     "iopub.execute_input": "2023-01-08T21:13:18.754955Z",
     "iopub.status.busy": "2023-01-08T21:13:18.754547Z",
     "iopub.status.idle": "2023-01-08T21:13:18.761768Z",
     "shell.execute_reply": "2023-01-08T21:13:18.760668Z"
    },
    "papermill": {
     "duration": 0.025357,
     "end_time": "2023-01-08T21:13:18.764373",
     "exception": false,
     "start_time": "2023-01-08T21:13:18.739016",
     "status": "completed"
    },
    "tags": []
   },
   "outputs": [
    {
     "name": "stdout",
     "output_type": "stream",
     "text": [
      "X Shape : (773, 8)\n",
      "y Shape : (773,)\n"
     ]
    }
   ],
   "source": [
    "y = df_train['Survived']\n",
    "X = df_train.drop(['Survived'], axis = 1)\n",
    "\n",
    "print(\"X Shape : {}\".format(X.shape))\n",
    "print(\"y Shape : {}\".format(y.shape))"
   ]
  },
  {
   "cell_type": "markdown",
   "id": "e11e3565",
   "metadata": {
    "papermill": {
     "duration": 0.013764,
     "end_time": "2023-01-08T21:13:18.792100",
     "exception": false,
     "start_time": "2023-01-08T21:13:18.778336",
     "status": "completed"
    },
    "tags": []
   },
   "source": [
    "### Decission Tree Classifier"
   ]
  },
  {
   "cell_type": "code",
   "execution_count": 24,
   "id": "1e83b251",
   "metadata": {
    "execution": {
     "iopub.execute_input": "2023-01-08T21:13:18.822013Z",
     "iopub.status.busy": "2023-01-08T21:13:18.821599Z",
     "iopub.status.idle": "2023-01-08T21:13:19.041941Z",
     "shell.execute_reply": "2023-01-08T21:13:19.040666Z"
    },
    "papermill": {
     "duration": 0.23818,
     "end_time": "2023-01-08T21:13:19.044609",
     "exception": false,
     "start_time": "2023-01-08T21:13:18.806429",
     "status": "completed"
    },
    "tags": []
   },
   "outputs": [
    {
     "name": "stdout",
     "output_type": "stream",
     "text": [
      "Model Accurcy : 0.8451612903225807\n",
      "F1 Score      : 0.7894736842105264\n"
     ]
    }
   ],
   "source": [
    "from sklearn.tree import DecisionTreeClassifier\n",
    "from sklearn.model_selection import train_test_split\n",
    "from sklearn.metrics import accuracy_score, f1_score\n",
    "\n",
    "#Spliting Data into Test and Train\n",
    "X_train, X_test, y_train, y_test = train_test_split(X, y, test_size= 0.20, random_state = 123)\n",
    "\n",
    "dt = DecisionTreeClassifier(criterion='entropy' ,random_state=1234, max_depth=5)\n",
    "dt.fit(X_train, y_train)\n",
    "\n",
    "y_pred = dt.predict(X_test)\n",
    "\n",
    "score = accuracy_score(y_pred, y_test)\n",
    "\n",
    "print(\"Model Accurcy : {}\".format(score))\n",
    "print(\"F1 Score      : {}\".format(f1_score(y_pred, y_test)))"
   ]
  },
  {
   "cell_type": "code",
   "execution_count": 25,
   "id": "b026ddef",
   "metadata": {
    "execution": {
     "iopub.execute_input": "2023-01-08T21:13:19.075546Z",
     "iopub.status.busy": "2023-01-08T21:13:19.074907Z",
     "iopub.status.idle": "2023-01-08T21:13:19.330966Z",
     "shell.execute_reply": "2023-01-08T21:13:19.329502Z"
    },
    "papermill": {
     "duration": 0.274005,
     "end_time": "2023-01-08T21:13:19.333390",
     "exception": false,
     "start_time": "2023-01-08T21:13:19.059385",
     "status": "completed"
    },
    "tags": []
   },
   "outputs": [
    {
     "data": {
      "image/png": "[encoded data removed]",
      "text/plain": [
       "<Figure size 432x288 with 2 Axes>"
      ]
     },
     "metadata": {
      "needs_background": "light"
     },
     "output_type": "display_data"
    },
    {
     "name": "stdout",
     "output_type": "stream",
     "text": [
      "              precision    recall  f1-score   support\n",
      "\n",
      "           0       0.86      0.90      0.88        96\n",
      "           1       0.82      0.76      0.79        59\n",
      "\n",
      "    accuracy                           0.85       155\n",
      "   macro avg       0.84      0.83      0.83       155\n",
      "weighted avg       0.84      0.85      0.84       155\n",
      "\n"
     ]
    }
   ],
   "source": [
    "from sklearn.metrics import classification_report\n",
    "import seaborn as sn\n",
    "\n",
    "# Confusion Metrix\n",
    "confusion_matrix = pd.crosstab(y_test, y_pred, rownames=['Actual'], colnames=['Predicted'])\n",
    "sn.heatmap(confusion_matrix, annot=True)\n",
    "plt.show()\n",
    "\n",
    "stats = classification_report(y_test, y_pred)\n",
    "print(stats)"
   ]
  },
  {
   "cell_type": "code",
   "execution_count": 26,
   "id": "3e5656a7",
   "metadata": {
    "execution": {
     "iopub.execute_input": "2023-01-08T21:13:19.364375Z",
     "iopub.status.busy": "2023-01-08T21:13:19.363534Z",
     "iopub.status.idle": "2023-01-08T21:13:19.375189Z",
     "shell.execute_reply": "2023-01-08T21:13:19.373875Z"
    },
    "papermill": {
     "duration": 0.029891,
     "end_time": "2023-01-08T21:13:19.377730",
     "exception": false,
     "start_time": "2023-01-08T21:13:19.347839",
     "status": "completed"
    },
    "tags": []
   },
   "outputs": [
    {
     "name": "stdout",
     "output_type": "stream",
     "text": [
      "Training Accuracy : 0.8187702265372169\n",
      "Testing Accuracy : 0.8451612903225807\n"
     ]
    }
   ],
   "source": [
    "# Checking for Overfit or Underfit of the model\n",
    "print(\"Training Accuracy : {}\".format(dt.score(X_train, y_train)))\n",
    "print(\"Testing Accuracy : {}\".format(dt.score(X_test, y_test)))"
   ]
  },
  {
   "cell_type": "markdown",
   "id": "7a17da38",
   "metadata": {
    "papermill": {
     "duration": 0.014031,
     "end_time": "2023-01-08T21:13:19.406740",
     "exception": false,
     "start_time": "2023-01-08T21:13:19.392709",
     "status": "completed"
    },
    "tags": []
   },
   "source": [
    "# Predicting Test Data"
   ]
  },
  {
   "cell_type": "code",
   "execution_count": 27,
   "id": "d5b759bf",
   "metadata": {
    "execution": {
     "iopub.execute_input": "2023-01-08T21:13:19.438299Z",
     "iopub.status.busy": "2023-01-08T21:13:19.437246Z",
     "iopub.status.idle": "2023-01-08T21:13:19.453736Z",
     "shell.execute_reply": "2023-01-08T21:13:19.452461Z"
    },
    "papermill": {
     "duration": 0.034688,
     "end_time": "2023-01-08T21:13:19.456153",
     "exception": false,
     "start_time": "2023-01-08T21:13:19.421465",
     "status": "completed"
    },
    "tags": []
   },
   "outputs": [
    {
     "name": "stdout",
     "output_type": "stream",
     "text": [
      "Dummy Varaibles : Sex \n",
      "Dummy Varaibles : Embarked \n",
      "ZZ varaibles for Scaling  : Pclass \n",
      "ZZ varaibles for Scaling  : Age \n",
      "ZZ varaibles for Scaling  : SibSp \n",
      "ZZ varaibles for Scaling  : Parch \n",
      "ZZ varaibles for Scaling  : Fare \n"
     ]
    }
   ],
   "source": [
    "test = df_test.copy()\n",
    "df_test_norm = normalizing_data(test)"
   ]
  },
  {
   "cell_type": "code",
   "execution_count": 28,
   "id": "4bd3e46d",
   "metadata": {
    "execution": {
     "iopub.execute_input": "2023-01-08T21:13:19.487617Z",
     "iopub.status.busy": "2023-01-08T21:13:19.487236Z",
     "iopub.status.idle": "2023-01-08T21:13:19.492846Z",
     "shell.execute_reply": "2023-01-08T21:13:19.491688Z"
    },
    "papermill": {
     "duration": 0.024176,
     "end_time": "2023-01-08T21:13:19.495378",
     "exception": false,
     "start_time": "2023-01-08T21:13:19.471202",
     "status": "completed"
    },
    "tags": []
   },
   "outputs": [
    {
     "name": "stdout",
     "output_type": "stream",
     "text": [
      "Raw Test Data : (418, 7)\n",
      "Normalized Test Data : (418, 8)\n"
     ]
    }
   ],
   "source": [
    "print(\"Raw Test Data : {}\".format(test.shape))\n",
    "print(\"Normalized Test Data : {}\".format(df_test_norm.shape))"
   ]
  },
  {
   "cell_type": "code",
   "execution_count": 29,
   "id": "834570e2",
   "metadata": {
    "execution": {
     "iopub.execute_input": "2023-01-08T21:13:19.526692Z",
     "iopub.status.busy": "2023-01-08T21:13:19.526282Z",
     "iopub.status.idle": "2023-01-08T21:13:19.540509Z",
     "shell.execute_reply": "2023-01-08T21:13:19.539438Z"
    },
    "papermill": {
     "duration": 0.032654,
     "end_time": "2023-01-08T21:13:19.542860",
     "exception": false,
     "start_time": "2023-01-08T21:13:19.510206",
     "status": "completed"
    },
    "tags": []
   },
   "outputs": [
    {
     "data": {
      "text/html": [
       "<div>\n",
       "<style scoped>\n",
       "    .dataframe tbody tr th:only-of-type {\n",
       "        vertical-align: middle;\n",
       "    }\n",
       "\n",
       "    .dataframe tbody tr th {\n",
       "        vertical-align: top;\n",
       "    }\n",
       "\n",
       "    .dataframe thead th {\n",
       "        text-align: right;\n",
       "    }\n",
       "</style>\n",
       "<table border=\"1\" class=\"dataframe\">\n",
       "  <thead>\n",
       "    <tr style=\"text-align: right;\">\n",
       "      <th></th>\n",
       "      <th>Pclass</th>\n",
       "      <th>Age</th>\n",
       "      <th>SibSp</th>\n",
       "      <th>Parch</th>\n",
       "      <th>Fare</th>\n",
       "      <th>male</th>\n",
       "      <th>Q</th>\n",
       "      <th>S</th>\n",
       "    </tr>\n",
       "  </thead>\n",
       "  <tbody>\n",
       "    <tr>\n",
       "      <th>0</th>\n",
       "      <td>0.873482</td>\n",
       "      <td>0.386231</td>\n",
       "      <td>-0.499470</td>\n",
       "      <td>-0.400248</td>\n",
       "      <td>-0.497413</td>\n",
       "      <td>1</td>\n",
       "      <td>1</td>\n",
       "      <td>0</td>\n",
       "    </tr>\n",
       "    <tr>\n",
       "      <th>1</th>\n",
       "      <td>0.873482</td>\n",
       "      <td>1.371370</td>\n",
       "      <td>0.616992</td>\n",
       "      <td>-0.400248</td>\n",
       "      <td>-0.512278</td>\n",
       "      <td>0</td>\n",
       "      <td>0</td>\n",
       "      <td>1</td>\n",
       "    </tr>\n",
       "    <tr>\n",
       "      <th>2</th>\n",
       "      <td>-0.315819</td>\n",
       "      <td>2.553537</td>\n",
       "      <td>-0.499470</td>\n",
       "      <td>-0.400248</td>\n",
       "      <td>-0.464100</td>\n",
       "      <td>1</td>\n",
       "      <td>1</td>\n",
       "      <td>0</td>\n",
       "    </tr>\n",
       "    <tr>\n",
       "      <th>3</th>\n",
       "      <td>0.873482</td>\n",
       "      <td>-0.204852</td>\n",
       "      <td>-0.499470</td>\n",
       "      <td>-0.400248</td>\n",
       "      <td>-0.482475</td>\n",
       "      <td>1</td>\n",
       "      <td>0</td>\n",
       "      <td>1</td>\n",
       "    </tr>\n",
       "    <tr>\n",
       "      <th>4</th>\n",
       "      <td>0.873482</td>\n",
       "      <td>-0.598908</td>\n",
       "      <td>0.616992</td>\n",
       "      <td>0.619896</td>\n",
       "      <td>-0.417492</td>\n",
       "      <td>0</td>\n",
       "      <td>0</td>\n",
       "      <td>1</td>\n",
       "    </tr>\n",
       "  </tbody>\n",
       "</table>\n",
       "</div>"
      ],
      "text/plain": [
       "     Pclass       Age     SibSp     Parch      Fare  male  Q  S\n",
       "0  0.873482  0.386231 -0.499470 -0.400248 -0.497413     1  1  0\n",
       "1  0.873482  1.371370  0.616992 -0.400248 -0.512278     0  0  1\n",
       "2 -0.315819  2.553537 -0.499470 -0.400248 -0.464100     1  1  0\n",
       "3  0.873482 -0.204852 -0.499470 -0.400248 -0.482475     1  0  1\n",
       "4  0.873482 -0.598908  0.616992  0.619896 -0.417492     0  0  1"
      ]
     },
     "execution_count": 29,
     "metadata": {},
     "output_type": "execute_result"
    }
   ],
   "source": [
    "df_test_norm.head()"
   ]
  },
  {
   "cell_type": "code",
   "execution_count": 30,
   "id": "6051c185",
   "metadata": {
    "execution": {
     "iopub.execute_input": "2023-01-08T21:13:19.574312Z",
     "iopub.status.busy": "2023-01-08T21:13:19.573931Z",
     "iopub.status.idle": "2023-01-08T21:13:19.580881Z",
     "shell.execute_reply": "2023-01-08T21:13:19.579744Z"
    },
    "papermill": {
     "duration": 0.025954,
     "end_time": "2023-01-08T21:13:19.583487",
     "exception": false,
     "start_time": "2023-01-08T21:13:19.557533",
     "status": "completed"
    },
    "tags": []
   },
   "outputs": [],
   "source": [
    "y_pred = dt.predict(df_test_norm)"
   ]
  },
  {
   "cell_type": "code",
   "execution_count": 31,
   "id": "46f4adb7",
   "metadata": {
    "execution": {
     "iopub.execute_input": "2023-01-08T21:13:19.616432Z",
     "iopub.status.busy": "2023-01-08T21:13:19.615728Z",
     "iopub.status.idle": "2023-01-08T21:13:19.623561Z",
     "shell.execute_reply": "2023-01-08T21:13:19.622485Z"
    },
    "papermill": {
     "duration": 0.026635,
     "end_time": "2023-01-08T21:13:19.626079",
     "exception": false,
     "start_time": "2023-01-08T21:13:19.599444",
     "status": "completed"
    },
    "tags": []
   },
   "outputs": [
    {
     "data": {
      "text/plain": [
       "array([0, 0, 0, 0, 1, 1, 1, 0, 1, 0, 0, 0, 1, 0, 1, 1, 0, 0, 1, 0, 0, 1,\n",
       "       1, 0, 1, 0, 1, 0, 0, 0, 0, 0, 1, 1, 0, 0, 1, 1, 0, 0, 0, 0, 0, 1,\n",
       "       1, 0, 0, 0, 1, 1, 0, 0, 1, 1, 0, 0, 0, 0, 0, 1, 0, 0, 0, 1, 0, 1,\n",
       "       1, 0, 0, 1, 1, 0, 1, 0, 1, 0, 0, 1, 0, 1, 1, 0, 0, 0, 0, 0, 1, 1,\n",
       "       1, 1, 1, 0, 1, 0, 0, 0, 1, 0, 1, 0, 1, 0, 0, 0, 1, 0, 0, 0, 0, 0,\n",
       "       0, 1, 1, 1, 1, 0, 0, 1, 0, 1, 1, 0, 1, 0, 0, 1, 0, 1, 0, 0, 0, 0,\n",
       "       0, 0, 0, 0, 0, 0, 1, 0, 0, 1, 0, 0, 0, 0, 0, 0, 0, 0, 1, 0, 0, 1,\n",
       "       0, 0, 1, 1, 0, 1, 1, 1, 1, 0, 0, 1, 0, 0, 1, 1, 0, 0, 0, 0, 0, 1,\n",
       "       1, 0, 1, 1, 0, 0, 1, 0, 1, 0, 1, 0, 0, 0, 0, 0, 1, 0, 1, 0, 1, 1,\n",
       "       0, 1, 1, 1, 0, 1, 0, 0, 1, 0, 1, 0, 0, 0, 0, 1, 0, 0, 1, 0, 1, 0,\n",
       "       1, 0, 1, 0, 1, 1, 0, 1, 0, 0, 1, 1, 0, 0, 0, 0, 0, 0, 1, 1, 1, 1,\n",
       "       0, 0, 0, 0, 1, 0, 1, 1, 1, 0, 0, 0, 0, 0, 0, 0, 1, 0, 0, 0, 1, 1,\n",
       "       0, 0, 0, 0, 1, 0, 0, 0, 1, 1, 0, 1, 0, 0, 0, 0, 1, 1, 1, 1, 1, 0,\n",
       "       0, 0, 0, 0, 0, 1, 0, 0, 0, 0, 1, 0, 0, 0, 0, 0, 0, 0, 1, 1, 0, 1,\n",
       "       0, 0, 0, 0, 0, 0, 1, 1, 0, 0, 0, 0, 0, 0, 0, 0, 1, 0, 1, 0, 0, 0,\n",
       "       1, 0, 0, 1, 0, 0, 0, 0, 0, 0, 0, 0, 0, 1, 0, 1, 0, 0, 0, 1, 1, 0,\n",
       "       0, 0, 1, 0, 1, 0, 0, 1, 0, 1, 1, 0, 1, 0, 0, 0, 1, 0, 0, 1, 0, 0,\n",
       "       1, 1, 1, 0, 0, 1, 0, 0, 1, 1, 0, 1, 0, 0, 0, 0, 0, 1, 1, 0, 0, 1,\n",
       "       0, 1, 0, 0, 1, 0, 1, 0, 0, 0, 0, 0, 1, 1, 1, 1, 1, 0, 1, 0, 0, 0])"
      ]
     },
     "execution_count": 31,
     "metadata": {},
     "output_type": "execute_result"
    }
   ],
   "source": [
    "y_pred"
   ]
  },
  {
   "cell_type": "code",
   "execution_count": 32,
   "id": "0dcdf1e2",
   "metadata": {
    "execution": {
     "iopub.execute_input": "2023-01-08T21:13:19.658719Z",
     "iopub.status.busy": "2023-01-08T21:13:19.658259Z",
     "iopub.status.idle": "2023-01-08T21:13:19.665916Z",
     "shell.execute_reply": "2023-01-08T21:13:19.664754Z"
    },
    "papermill": {
     "duration": 0.026781,
     "end_time": "2023-01-08T21:13:19.668282",
     "exception": false,
     "start_time": "2023-01-08T21:13:19.641501",
     "status": "completed"
    },
    "tags": []
   },
   "outputs": [],
   "source": [
    "# Adding Survived class with Test data to find the Actual Customer\n",
    "dependent_var = pd.DataFrame(y_pred, columns =['Survived'])\n",
    "customer_df = pd.concat([test_df, dependent_var], axis = 1)"
   ]
  },
  {
   "cell_type": "code",
   "execution_count": 33,
   "id": "cf600eba",
   "metadata": {
    "execution": {
     "iopub.execute_input": "2023-01-08T21:13:19.699972Z",
     "iopub.status.busy": "2023-01-08T21:13:19.699557Z",
     "iopub.status.idle": "2023-01-08T21:13:19.718066Z",
     "shell.execute_reply": "2023-01-08T21:13:19.716867Z"
    },
    "papermill": {
     "duration": 0.036972,
     "end_time": "2023-01-08T21:13:19.720432",
     "exception": false,
     "start_time": "2023-01-08T21:13:19.683460",
     "status": "completed"
    },
    "tags": []
   },
   "outputs": [
    {
     "data": {
      "text/html": [
       "<div>\n",
       "<style scoped>\n",
       "    .dataframe tbody tr th:only-of-type {\n",
       "        vertical-align: middle;\n",
       "    }\n",
       "\n",
       "    .dataframe tbody tr th {\n",
       "        vertical-align: top;\n",
       "    }\n",
       "\n",
       "    .dataframe thead th {\n",
       "        text-align: right;\n",
       "    }\n",
       "</style>\n",
       "<table border=\"1\" class=\"dataframe\">\n",
       "  <thead>\n",
       "    <tr style=\"text-align: right;\">\n",
       "      <th></th>\n",
       "      <th>PassengerId</th>\n",
       "      <th>Pclass</th>\n",
       "      <th>Name</th>\n",
       "      <th>Sex</th>\n",
       "      <th>Age</th>\n",
       "      <th>SibSp</th>\n",
       "      <th>Parch</th>\n",
       "      <th>Ticket</th>\n",
       "      <th>Fare</th>\n",
       "      <th>Cabin</th>\n",
       "      <th>Embarked</th>\n",
       "      <th>Survived</th>\n",
       "    </tr>\n",
       "  </thead>\n",
       "  <tbody>\n",
       "    <tr>\n",
       "      <th>0</th>\n",
       "      <td>892</td>\n",
       "      <td>3</td>\n",
       "      <td>Kelly, Mr. James</td>\n",
       "      <td>male</td>\n",
       "      <td>34.5</td>\n",
       "      <td>0</td>\n",
       "      <td>0</td>\n",
       "      <td>330911</td>\n",
       "      <td>7.8292</td>\n",
       "      <td>NaN</td>\n",
       "      <td>Q</td>\n",
       "      <td>0</td>\n",
       "    </tr>\n",
       "    <tr>\n",
       "      <th>1</th>\n",
       "      <td>893</td>\n",
       "      <td>3</td>\n",
       "      <td>Wilkes, Mrs. James (Ellen Needs)</td>\n",
       "      <td>female</td>\n",
       "      <td>47.0</td>\n",
       "      <td>1</td>\n",
       "      <td>0</td>\n",
       "      <td>363272</td>\n",
       "      <td>7.0000</td>\n",
       "      <td>NaN</td>\n",
       "      <td>S</td>\n",
       "      <td>0</td>\n",
       "    </tr>\n",
       "    <tr>\n",
       "      <th>2</th>\n",
       "      <td>894</td>\n",
       "      <td>2</td>\n",
       "      <td>Myles, Mr. Thomas Francis</td>\n",
       "      <td>male</td>\n",
       "      <td>62.0</td>\n",
       "      <td>0</td>\n",
       "      <td>0</td>\n",
       "      <td>240276</td>\n",
       "      <td>9.6875</td>\n",
       "      <td>NaN</td>\n",
       "      <td>Q</td>\n",
       "      <td>0</td>\n",
       "    </tr>\n",
       "    <tr>\n",
       "      <th>3</th>\n",
       "      <td>895</td>\n",
       "      <td>3</td>\n",
       "      <td>Wirz, Mr. Albert</td>\n",
       "      <td>male</td>\n",
       "      <td>27.0</td>\n",
       "      <td>0</td>\n",
       "      <td>0</td>\n",
       "      <td>315154</td>\n",
       "      <td>8.6625</td>\n",
       "      <td>NaN</td>\n",
       "      <td>S</td>\n",
       "      <td>0</td>\n",
       "    </tr>\n",
       "    <tr>\n",
       "      <th>4</th>\n",
       "      <td>896</td>\n",
       "      <td>3</td>\n",
       "      <td>Hirvonen, Mrs. Alexander (Helga E Lindqvist)</td>\n",
       "      <td>female</td>\n",
       "      <td>22.0</td>\n",
       "      <td>1</td>\n",
       "      <td>1</td>\n",
       "      <td>3101298</td>\n",
       "      <td>12.2875</td>\n",
       "      <td>NaN</td>\n",
       "      <td>S</td>\n",
       "      <td>1</td>\n",
       "    </tr>\n",
       "  </tbody>\n",
       "</table>\n",
       "</div>"
      ],
      "text/plain": [
       "   PassengerId  Pclass                                          Name     Sex  \\\n",
       "0          892       3                              Kelly, Mr. James    male   \n",
       "1          893       3              Wilkes, Mrs. James (Ellen Needs)  female   \n",
       "2          894       2                     Myles, Mr. Thomas Francis    male   \n",
       "3          895       3                              Wirz, Mr. Albert    male   \n",
       "4          896       3  Hirvonen, Mrs. Alexander (Helga E Lindqvist)  female   \n",
       "\n",
       "    Age  SibSp  Parch   Ticket     Fare Cabin Embarked  Survived  \n",
       "0  34.5      0      0   330911   7.8292   NaN        Q         0  \n",
       "1  47.0      1      0   363272   7.0000   NaN        S         0  \n",
       "2  62.0      0      0   240276   9.6875   NaN        Q         0  \n",
       "3  27.0      0      0   315154   8.6625   NaN        S         0  \n",
       "4  22.0      1      1  3101298  12.2875   NaN        S         1  "
      ]
     },
     "execution_count": 33,
     "metadata": {},
     "output_type": "execute_result"
    }
   ],
   "source": [
    "customer_df.head()"
   ]
  },
  {
   "cell_type": "code",
   "execution_count": 34,
   "id": "2785f388",
   "metadata": {
    "execution": {
     "iopub.execute_input": "2023-01-08T21:13:19.752615Z",
     "iopub.status.busy": "2023-01-08T21:13:19.752209Z",
     "iopub.status.idle": "2023-01-08T21:13:19.770756Z",
     "shell.execute_reply": "2023-01-08T21:13:19.769929Z"
    },
    "papermill": {
     "duration": 0.037147,
     "end_time": "2023-01-08T21:13:19.772990",
     "exception": false,
     "start_time": "2023-01-08T21:13:19.735843",
     "status": "completed"
    },
    "tags": []
   },
   "outputs": [
    {
     "data": {
      "text/html": [
       "<div>\n",
       "<style scoped>\n",
       "    .dataframe tbody tr th:only-of-type {\n",
       "        vertical-align: middle;\n",
       "    }\n",
       "\n",
       "    .dataframe tbody tr th {\n",
       "        vertical-align: top;\n",
       "    }\n",
       "\n",
       "    .dataframe thead th {\n",
       "        text-align: right;\n",
       "    }\n",
       "</style>\n",
       "<table border=\"1\" class=\"dataframe\">\n",
       "  <thead>\n",
       "    <tr style=\"text-align: right;\">\n",
       "      <th></th>\n",
       "      <th>PassengerId</th>\n",
       "      <th>Survived</th>\n",
       "    </tr>\n",
       "  </thead>\n",
       "  <tbody>\n",
       "    <tr>\n",
       "      <th>0</th>\n",
       "      <td>892</td>\n",
       "      <td>0</td>\n",
       "    </tr>\n",
       "    <tr>\n",
       "      <th>1</th>\n",
       "      <td>893</td>\n",
       "      <td>0</td>\n",
       "    </tr>\n",
       "    <tr>\n",
       "      <th>2</th>\n",
       "      <td>894</td>\n",
       "      <td>0</td>\n",
       "    </tr>\n",
       "    <tr>\n",
       "      <th>3</th>\n",
       "      <td>895</td>\n",
       "      <td>0</td>\n",
       "    </tr>\n",
       "    <tr>\n",
       "      <th>4</th>\n",
       "      <td>896</td>\n",
       "      <td>1</td>\n",
       "    </tr>\n",
       "    <tr>\n",
       "      <th>...</th>\n",
       "      <td>...</td>\n",
       "      <td>...</td>\n",
       "    </tr>\n",
       "    <tr>\n",
       "      <th>413</th>\n",
       "      <td>1305</td>\n",
       "      <td>0</td>\n",
       "    </tr>\n",
       "    <tr>\n",
       "      <th>414</th>\n",
       "      <td>1306</td>\n",
       "      <td>1</td>\n",
       "    </tr>\n",
       "    <tr>\n",
       "      <th>415</th>\n",
       "      <td>1307</td>\n",
       "      <td>0</td>\n",
       "    </tr>\n",
       "    <tr>\n",
       "      <th>416</th>\n",
       "      <td>1308</td>\n",
       "      <td>0</td>\n",
       "    </tr>\n",
       "    <tr>\n",
       "      <th>417</th>\n",
       "      <td>1309</td>\n",
       "      <td>0</td>\n",
       "    </tr>\n",
       "  </tbody>\n",
       "</table>\n",
       "<p>418 rows × 2 columns</p>\n",
       "</div>"
      ],
      "text/plain": [
       "     PassengerId  Survived\n",
       "0            892         0\n",
       "1            893         0\n",
       "2            894         0\n",
       "3            895         0\n",
       "4            896         1\n",
       "..           ...       ...\n",
       "413         1305         0\n",
       "414         1306         1\n",
       "415         1307         0\n",
       "416         1308         0\n",
       "417         1309         0\n",
       "\n",
       "[418 rows x 2 columns]"
      ]
     },
     "execution_count": 34,
     "metadata": {},
     "output_type": "execute_result"
    }
   ],
   "source": [
    "submission = customer_df.loc[:,['PassengerId','Survived']]\n",
    "\n",
    "submission.to_csv('submission.csv',index=False)\n",
    "\n",
    "pd.read_csv('submission.csv')"
   ]
  }
 ],
 "metadata": {
  "kernelspec": {
   "display_name": "Python 3",
   "language": "python",
   "name": "python3"
  },
  "language_info": {
   "codemirror_mode": {
    "name": "ipython",
    "version": 3
   },
   "file_extension": ".py",
   "mimetype": "text/x-python",
   "name": "python",
   "nbconvert_exporter": "python",
   "pygments_lexer": "ipython3",
   "version": "3.7.12"
  },
  "papermill": {
   "default_parameters": {},
   "duration": 14.939317,
   "end_time": "2023-01-08T21:13:20.510686",
   "environment_variables": {},
   "exception": null,
   "input_path": "__notebook__.ipynb",
   "output_path": "__notebook__.ipynb",
   "parameters": {},
   "start_time": "2023-01-08T21:13:05.571369",
   "version": "2.3.4"
  }
 },
 "nbformat": 4,
 "nbformat_minor": 5
}
