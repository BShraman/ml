{
 "cells": [
  {
   "cell_type": "code",
   "execution_count": 1,
   "id": "ddd695a0",
   "metadata": {
    "_cell_guid": "b1076dfc-b9ad-4769-8c92-a6c4dae69d19",
    "_uuid": "8f2839f25d086af736a60e9eeb907d3b93b6e0e5",
    "execution": {
     "iopub.execute_input": "2023-02-20T02:41:53.360411Z",
     "iopub.status.busy": "2023-02-20T02:41:53.359299Z",
     "iopub.status.idle": "2023-02-20T02:41:53.378150Z",
     "shell.execute_reply": "2023-02-20T02:41:53.376844Z"
    },
    "papermill": {
     "duration": 0.036993,
     "end_time": "2023-02-20T02:41:53.380992",
     "exception": false,
     "start_time": "2023-02-20T02:41:53.343999",
     "status": "completed"
    },
    "tags": []
   },
   "outputs": [
    {
     "name": "stdout",
     "output_type": "stream",
     "text": [
      "/kaggle/input/playground-series-s3e6/sample_submission.csv\n",
      "/kaggle/input/playground-series-s3e6/train.csv\n",
      "/kaggle/input/playground-series-s3e6/test.csv\n"
     ]
    }
   ],
   "source": [
    "# This Python 3 environment comes with many helpful analytics libraries installed\n",
    "# It is defined by the kaggle/python Docker image: https://github.com/kaggle/docker-python\n",
    "# For example, here's several helpful packages to load\n",
    "\n",
    "import numpy as np # linear algebra\n",
    "import pandas as pd # data processing, CSV file I/O (e.g. pd.read_csv)\n",
    "\n",
    "# Input data files are available in the read-only \"../input/\" directory\n",
    "# For example, running this (by clicking run or pressing Shift+Enter) will list all files under the input directory\n",
    "\n",
    "import os\n",
    "for dirname, _, filenames in os.walk('/kaggle/input'):\n",
    "    for filename in filenames:\n",
    "        print(os.path.join(dirname, filename))\n",
    "\n",
    "# You can write up to 20GB to the current directory (/kaggle/working/) that gets preserved as output when you create a version using \"Save & Run All\" \n",
    "# You can also write temporary files to /kaggle/temp/, but they won't be saved outside of the current session"
   ]
  },
  {
   "cell_type": "markdown",
   "id": "606ae399",
   "metadata": {
    "papermill": {
     "duration": 0.011194,
     "end_time": "2023-02-20T02:41:53.403751",
     "exception": false,
     "start_time": "2023-02-20T02:41:53.392557",
     "status": "completed"
    },
    "tags": []
   },
   "source": [
    "## Data Visualization and Wrangling"
   ]
  },
  {
   "cell_type": "code",
   "execution_count": 2,
   "id": "4dd58699",
   "metadata": {
    "execution": {
     "iopub.execute_input": "2023-02-20T02:41:53.429520Z",
     "iopub.status.busy": "2023-02-20T02:41:53.428779Z",
     "iopub.status.idle": "2023-02-20T02:41:53.565900Z",
     "shell.execute_reply": "2023-02-20T02:41:53.564628Z"
    },
    "papermill": {
     "duration": 0.153481,
     "end_time": "2023-02-20T02:41:53.569045",
     "exception": false,
     "start_time": "2023-02-20T02:41:53.415564",
     "status": "completed"
    },
    "tags": []
   },
   "outputs": [],
   "source": [
    "train = pd.read_csv(\"/kaggle/input/playground-series-s3e6/train.csv\")\n",
    "test = pd.read_csv(\"/kaggle/input/playground-series-s3e6/test.csv\")\n",
    "sample_submission = pd.read_csv(\"/kaggle/input/playground-series-s3e6/sample_submission.csv\")"
   ]
  },
  {
   "cell_type": "code",
   "execution_count": 3,
   "id": "ae03886d",
   "metadata": {
    "execution": {
     "iopub.execute_input": "2023-02-20T02:41:53.596488Z",
     "iopub.status.busy": "2023-02-20T02:41:53.594952Z",
     "iopub.status.idle": "2023-02-20T02:41:53.623369Z",
     "shell.execute_reply": "2023-02-20T02:41:53.622113Z"
    },
    "papermill": {
     "duration": 0.043687,
     "end_time": "2023-02-20T02:41:53.625918",
     "exception": false,
     "start_time": "2023-02-20T02:41:53.582231",
     "status": "completed"
    },
    "tags": []
   },
   "outputs": [
    {
     "data": {
      "text/html": [
       "<div>\n",
       "<style scoped>\n",
       "    .dataframe tbody tr th:only-of-type {\n",
       "        vertical-align: middle;\n",
       "    }\n",
       "\n",
       "    .dataframe tbody tr th {\n",
       "        vertical-align: top;\n",
       "    }\n",
       "\n",
       "    .dataframe thead th {\n",
       "        text-align: right;\n",
       "    }\n",
       "</style>\n",
       "<table border=\"1\" class=\"dataframe\">\n",
       "  <thead>\n",
       "    <tr style=\"text-align: right;\">\n",
       "      <th></th>\n",
       "      <th>id</th>\n",
       "      <th>squareMeters</th>\n",
       "      <th>numberOfRooms</th>\n",
       "      <th>hasYard</th>\n",
       "      <th>hasPool</th>\n",
       "      <th>floors</th>\n",
       "      <th>cityCode</th>\n",
       "      <th>cityPartRange</th>\n",
       "      <th>numPrevOwners</th>\n",
       "      <th>made</th>\n",
       "      <th>isNewBuilt</th>\n",
       "      <th>hasStormProtector</th>\n",
       "      <th>basement</th>\n",
       "      <th>attic</th>\n",
       "      <th>garage</th>\n",
       "      <th>hasStorageRoom</th>\n",
       "      <th>hasGuestRoom</th>\n",
       "      <th>price</th>\n",
       "    </tr>\n",
       "  </thead>\n",
       "  <tbody>\n",
       "    <tr>\n",
       "      <th>0</th>\n",
       "      <td>0</td>\n",
       "      <td>34291</td>\n",
       "      <td>24</td>\n",
       "      <td>1</td>\n",
       "      <td>0</td>\n",
       "      <td>47</td>\n",
       "      <td>35693</td>\n",
       "      <td>2</td>\n",
       "      <td>1</td>\n",
       "      <td>2000</td>\n",
       "      <td>0</td>\n",
       "      <td>1</td>\n",
       "      <td>8</td>\n",
       "      <td>5196</td>\n",
       "      <td>369</td>\n",
       "      <td>0</td>\n",
       "      <td>3</td>\n",
       "      <td>3436795.2</td>\n",
       "    </tr>\n",
       "    <tr>\n",
       "      <th>1</th>\n",
       "      <td>1</td>\n",
       "      <td>95145</td>\n",
       "      <td>60</td>\n",
       "      <td>0</td>\n",
       "      <td>1</td>\n",
       "      <td>60</td>\n",
       "      <td>34773</td>\n",
       "      <td>1</td>\n",
       "      <td>4</td>\n",
       "      <td>2000</td>\n",
       "      <td>0</td>\n",
       "      <td>1</td>\n",
       "      <td>729</td>\n",
       "      <td>4496</td>\n",
       "      <td>277</td>\n",
       "      <td>0</td>\n",
       "      <td>6</td>\n",
       "      <td>9519958.0</td>\n",
       "    </tr>\n",
       "    <tr>\n",
       "      <th>2</th>\n",
       "      <td>2</td>\n",
       "      <td>92661</td>\n",
       "      <td>45</td>\n",
       "      <td>1</td>\n",
       "      <td>1</td>\n",
       "      <td>62</td>\n",
       "      <td>45457</td>\n",
       "      <td>4</td>\n",
       "      <td>8</td>\n",
       "      <td>2020</td>\n",
       "      <td>1</td>\n",
       "      <td>1</td>\n",
       "      <td>7473</td>\n",
       "      <td>8953</td>\n",
       "      <td>245</td>\n",
       "      <td>1</td>\n",
       "      <td>9</td>\n",
       "      <td>9276448.1</td>\n",
       "    </tr>\n",
       "    <tr>\n",
       "      <th>3</th>\n",
       "      <td>3</td>\n",
       "      <td>97184</td>\n",
       "      <td>99</td>\n",
       "      <td>0</td>\n",
       "      <td>0</td>\n",
       "      <td>59</td>\n",
       "      <td>15113</td>\n",
       "      <td>1</td>\n",
       "      <td>1</td>\n",
       "      <td>2000</td>\n",
       "      <td>0</td>\n",
       "      <td>1</td>\n",
       "      <td>6424</td>\n",
       "      <td>8522</td>\n",
       "      <td>256</td>\n",
       "      <td>1</td>\n",
       "      <td>9</td>\n",
       "      <td>9725732.2</td>\n",
       "    </tr>\n",
       "    <tr>\n",
       "      <th>4</th>\n",
       "      <td>4</td>\n",
       "      <td>61752</td>\n",
       "      <td>100</td>\n",
       "      <td>0</td>\n",
       "      <td>0</td>\n",
       "      <td>57</td>\n",
       "      <td>64245</td>\n",
       "      <td>8</td>\n",
       "      <td>4</td>\n",
       "      <td>2018</td>\n",
       "      <td>1</td>\n",
       "      <td>0</td>\n",
       "      <td>7151</td>\n",
       "      <td>2786</td>\n",
       "      <td>863</td>\n",
       "      <td>0</td>\n",
       "      <td>7</td>\n",
       "      <td>6181908.8</td>\n",
       "    </tr>\n",
       "  </tbody>\n",
       "</table>\n",
       "</div>"
      ],
      "text/plain": [
       "   id  squareMeters  numberOfRooms  hasYard  hasPool  floors  cityCode  \\\n",
       "0   0         34291             24        1        0      47     35693   \n",
       "1   1         95145             60        0        1      60     34773   \n",
       "2   2         92661             45        1        1      62     45457   \n",
       "3   3         97184             99        0        0      59     15113   \n",
       "4   4         61752            100        0        0      57     64245   \n",
       "\n",
       "   cityPartRange  numPrevOwners  made  isNewBuilt  hasStormProtector  \\\n",
       "0              2              1  2000           0                  1   \n",
       "1              1              4  2000           0                  1   \n",
       "2              4              8  2020           1                  1   \n",
       "3              1              1  2000           0                  1   \n",
       "4              8              4  2018           1                  0   \n",
       "\n",
       "   basement  attic  garage  hasStorageRoom  hasGuestRoom      price  \n",
       "0         8   5196     369               0             3  3436795.2  \n",
       "1       729   4496     277               0             6  9519958.0  \n",
       "2      7473   8953     245               1             9  9276448.1  \n",
       "3      6424   8522     256               1             9  9725732.2  \n",
       "4      7151   2786     863               0             7  6181908.8  "
      ]
     },
     "execution_count": 3,
     "metadata": {},
     "output_type": "execute_result"
    }
   ],
   "source": [
    "train.head()"
   ]
  },
  {
   "cell_type": "code",
   "execution_count": 4,
   "id": "b69af5a5",
   "metadata": {
    "execution": {
     "iopub.execute_input": "2023-02-20T02:41:53.650852Z",
     "iopub.status.busy": "2023-02-20T02:41:53.650428Z",
     "iopub.status.idle": "2023-02-20T02:41:53.667620Z",
     "shell.execute_reply": "2023-02-20T02:41:53.666314Z"
    },
    "papermill": {
     "duration": 0.032497,
     "end_time": "2023-02-20T02:41:53.669956",
     "exception": false,
     "start_time": "2023-02-20T02:41:53.637459",
     "status": "completed"
    },
    "tags": []
   },
   "outputs": [
    {
     "data": {
      "text/html": [
       "<div>\n",
       "<style scoped>\n",
       "    .dataframe tbody tr th:only-of-type {\n",
       "        vertical-align: middle;\n",
       "    }\n",
       "\n",
       "    .dataframe tbody tr th {\n",
       "        vertical-align: top;\n",
       "    }\n",
       "\n",
       "    .dataframe thead th {\n",
       "        text-align: right;\n",
       "    }\n",
       "</style>\n",
       "<table border=\"1\" class=\"dataframe\">\n",
       "  <thead>\n",
       "    <tr style=\"text-align: right;\">\n",
       "      <th></th>\n",
       "      <th>id</th>\n",
       "      <th>squareMeters</th>\n",
       "      <th>numberOfRooms</th>\n",
       "      <th>hasYard</th>\n",
       "      <th>hasPool</th>\n",
       "      <th>floors</th>\n",
       "      <th>cityCode</th>\n",
       "      <th>cityPartRange</th>\n",
       "      <th>numPrevOwners</th>\n",
       "      <th>made</th>\n",
       "      <th>isNewBuilt</th>\n",
       "      <th>hasStormProtector</th>\n",
       "      <th>basement</th>\n",
       "      <th>attic</th>\n",
       "      <th>garage</th>\n",
       "      <th>hasStorageRoom</th>\n",
       "      <th>hasGuestRoom</th>\n",
       "    </tr>\n",
       "  </thead>\n",
       "  <tbody>\n",
       "    <tr>\n",
       "      <th>0</th>\n",
       "      <td>22730</td>\n",
       "      <td>47580</td>\n",
       "      <td>89</td>\n",
       "      <td>0</td>\n",
       "      <td>1</td>\n",
       "      <td>8</td>\n",
       "      <td>54830</td>\n",
       "      <td>5</td>\n",
       "      <td>3</td>\n",
       "      <td>1995</td>\n",
       "      <td>0</td>\n",
       "      <td>0</td>\n",
       "      <td>6885</td>\n",
       "      <td>8181</td>\n",
       "      <td>241</td>\n",
       "      <td>0</td>\n",
       "      <td>8</td>\n",
       "    </tr>\n",
       "    <tr>\n",
       "      <th>1</th>\n",
       "      <td>22731</td>\n",
       "      <td>62083</td>\n",
       "      <td>38</td>\n",
       "      <td>0</td>\n",
       "      <td>0</td>\n",
       "      <td>87</td>\n",
       "      <td>8576</td>\n",
       "      <td>10</td>\n",
       "      <td>3</td>\n",
       "      <td>1994</td>\n",
       "      <td>1</td>\n",
       "      <td>1</td>\n",
       "      <td>4601</td>\n",
       "      <td>9237</td>\n",
       "      <td>393</td>\n",
       "      <td>1</td>\n",
       "      <td>4</td>\n",
       "    </tr>\n",
       "    <tr>\n",
       "      <th>2</th>\n",
       "      <td>22732</td>\n",
       "      <td>90499</td>\n",
       "      <td>75</td>\n",
       "      <td>1</td>\n",
       "      <td>1</td>\n",
       "      <td>37</td>\n",
       "      <td>62454</td>\n",
       "      <td>9</td>\n",
       "      <td>6</td>\n",
       "      <td>1997</td>\n",
       "      <td>0</td>\n",
       "      <td>1</td>\n",
       "      <td>7454</td>\n",
       "      <td>2680</td>\n",
       "      <td>305</td>\n",
       "      <td>0</td>\n",
       "      <td>2</td>\n",
       "    </tr>\n",
       "    <tr>\n",
       "      <th>3</th>\n",
       "      <td>22733</td>\n",
       "      <td>16354</td>\n",
       "      <td>47</td>\n",
       "      <td>1</td>\n",
       "      <td>1</td>\n",
       "      <td>9</td>\n",
       "      <td>9262</td>\n",
       "      <td>6</td>\n",
       "      <td>5</td>\n",
       "      <td>2019</td>\n",
       "      <td>1</td>\n",
       "      <td>1</td>\n",
       "      <td>705</td>\n",
       "      <td>5097</td>\n",
       "      <td>122</td>\n",
       "      <td>1</td>\n",
       "      <td>5</td>\n",
       "    </tr>\n",
       "    <tr>\n",
       "      <th>4</th>\n",
       "      <td>22734</td>\n",
       "      <td>67510</td>\n",
       "      <td>8</td>\n",
       "      <td>0</td>\n",
       "      <td>0</td>\n",
       "      <td>55</td>\n",
       "      <td>24112</td>\n",
       "      <td>3</td>\n",
       "      <td>7</td>\n",
       "      <td>2014</td>\n",
       "      <td>1</td>\n",
       "      <td>1</td>\n",
       "      <td>3715</td>\n",
       "      <td>7979</td>\n",
       "      <td>401</td>\n",
       "      <td>1</td>\n",
       "      <td>9</td>\n",
       "    </tr>\n",
       "  </tbody>\n",
       "</table>\n",
       "</div>"
      ],
      "text/plain": [
       "      id  squareMeters  numberOfRooms  hasYard  hasPool  floors  cityCode  \\\n",
       "0  22730         47580             89        0        1       8     54830   \n",
       "1  22731         62083             38        0        0      87      8576   \n",
       "2  22732         90499             75        1        1      37     62454   \n",
       "3  22733         16354             47        1        1       9      9262   \n",
       "4  22734         67510              8        0        0      55     24112   \n",
       "\n",
       "   cityPartRange  numPrevOwners  made  isNewBuilt  hasStormProtector  \\\n",
       "0              5              3  1995           0                  0   \n",
       "1             10              3  1994           1                  1   \n",
       "2              9              6  1997           0                  1   \n",
       "3              6              5  2019           1                  1   \n",
       "4              3              7  2014           1                  1   \n",
       "\n",
       "   basement  attic  garage  hasStorageRoom  hasGuestRoom  \n",
       "0      6885   8181     241               0             8  \n",
       "1      4601   9237     393               1             4  \n",
       "2      7454   2680     305               0             2  \n",
       "3       705   5097     122               1             5  \n",
       "4      3715   7979     401               1             9  "
      ]
     },
     "execution_count": 4,
     "metadata": {},
     "output_type": "execute_result"
    }
   ],
   "source": [
    "test.head()"
   ]
  },
  {
   "cell_type": "markdown",
   "id": "e9ae0d73",
   "metadata": {
    "papermill": {
     "duration": 0.011551,
     "end_time": "2023-02-20T02:41:53.693501",
     "exception": false,
     "start_time": "2023-02-20T02:41:53.681950",
     "status": "completed"
    },
    "tags": []
   },
   "source": [
    "### Dropping Unrelate Features"
   ]
  },
  {
   "cell_type": "code",
   "execution_count": 5,
   "id": "bf40d27f",
   "metadata": {
    "execution": {
     "iopub.execute_input": "2023-02-20T02:41:53.719355Z",
     "iopub.status.busy": "2023-02-20T02:41:53.718887Z",
     "iopub.status.idle": "2023-02-20T02:41:53.742289Z",
     "shell.execute_reply": "2023-02-20T02:41:53.741370Z"
    },
    "papermill": {
     "duration": 0.039411,
     "end_time": "2023-02-20T02:41:53.744878",
     "exception": false,
     "start_time": "2023-02-20T02:41:53.705467",
     "status": "completed"
    },
    "tags": []
   },
   "outputs": [],
   "source": [
    "drop_clomumns = ['id','cityCode']\n",
    "train_df = train.drop(drop_clomumns, axis=1)\n",
    "test_df = test.drop(drop_clomumns, axis=1)"
   ]
  },
  {
   "cell_type": "code",
   "execution_count": 6,
   "id": "5fae93f7",
   "metadata": {
    "execution": {
     "iopub.execute_input": "2023-02-20T02:41:53.770585Z",
     "iopub.status.busy": "2023-02-20T02:41:53.770098Z",
     "iopub.status.idle": "2023-02-20T02:41:53.793459Z",
     "shell.execute_reply": "2023-02-20T02:41:53.792482Z"
    },
    "papermill": {
     "duration": 0.039721,
     "end_time": "2023-02-20T02:41:53.796530",
     "exception": false,
     "start_time": "2023-02-20T02:41:53.756809",
     "status": "completed"
    },
    "tags": []
   },
   "outputs": [
    {
     "name": "stdout",
     "output_type": "stream",
     "text": [
      "<class 'pandas.core.frame.DataFrame'>\n",
      "RangeIndex: 22730 entries, 0 to 22729\n",
      "Data columns (total 16 columns):\n",
      " #   Column             Non-Null Count  Dtype  \n",
      "---  ------             --------------  -----  \n",
      " 0   squareMeters       22730 non-null  int64  \n",
      " 1   numberOfRooms      22730 non-null  int64  \n",
      " 2   hasYard            22730 non-null  int64  \n",
      " 3   hasPool            22730 non-null  int64  \n",
      " 4   floors             22730 non-null  int64  \n",
      " 5   cityPartRange      22730 non-null  int64  \n",
      " 6   numPrevOwners      22730 non-null  int64  \n",
      " 7   made               22730 non-null  int64  \n",
      " 8   isNewBuilt         22730 non-null  int64  \n",
      " 9   hasStormProtector  22730 non-null  int64  \n",
      " 10  basement           22730 non-null  int64  \n",
      " 11  attic              22730 non-null  int64  \n",
      " 12  garage             22730 non-null  int64  \n",
      " 13  hasStorageRoom     22730 non-null  int64  \n",
      " 14  hasGuestRoom       22730 non-null  int64  \n",
      " 15  price              22730 non-null  float64\n",
      "dtypes: float64(1), int64(15)\n",
      "memory usage: 2.8 MB\n"
     ]
    }
   ],
   "source": [
    "train_df.info()"
   ]
  },
  {
   "cell_type": "code",
   "execution_count": 7,
   "id": "04b0e3c8",
   "metadata": {
    "execution": {
     "iopub.execute_input": "2023-02-20T02:41:53.823577Z",
     "iopub.status.busy": "2023-02-20T02:41:53.822714Z",
     "iopub.status.idle": "2023-02-20T02:41:53.839289Z",
     "shell.execute_reply": "2023-02-20T02:41:53.838098Z"
    },
    "papermill": {
     "duration": 0.032749,
     "end_time": "2023-02-20T02:41:53.842005",
     "exception": false,
     "start_time": "2023-02-20T02:41:53.809256",
     "status": "completed"
    },
    "tags": []
   },
   "outputs": [
    {
     "data": {
      "text/html": [
       "<div>\n",
       "<style scoped>\n",
       "    .dataframe tbody tr th:only-of-type {\n",
       "        vertical-align: middle;\n",
       "    }\n",
       "\n",
       "    .dataframe tbody tr th {\n",
       "        vertical-align: top;\n",
       "    }\n",
       "\n",
       "    .dataframe thead th {\n",
       "        text-align: right;\n",
       "    }\n",
       "</style>\n",
       "<table border=\"1\" class=\"dataframe\">\n",
       "  <thead>\n",
       "    <tr style=\"text-align: right;\">\n",
       "      <th></th>\n",
       "      <th>squareMeters</th>\n",
       "      <th>numberOfRooms</th>\n",
       "      <th>hasYard</th>\n",
       "      <th>hasPool</th>\n",
       "      <th>floors</th>\n",
       "      <th>cityPartRange</th>\n",
       "      <th>numPrevOwners</th>\n",
       "      <th>made</th>\n",
       "      <th>isNewBuilt</th>\n",
       "      <th>hasStormProtector</th>\n",
       "      <th>basement</th>\n",
       "      <th>attic</th>\n",
       "      <th>garage</th>\n",
       "      <th>hasStorageRoom</th>\n",
       "      <th>hasGuestRoom</th>\n",
       "      <th>price</th>\n",
       "    </tr>\n",
       "  </thead>\n",
       "  <tbody>\n",
       "    <tr>\n",
       "      <th>0</th>\n",
       "      <td>34291</td>\n",
       "      <td>24</td>\n",
       "      <td>1</td>\n",
       "      <td>0</td>\n",
       "      <td>47</td>\n",
       "      <td>2</td>\n",
       "      <td>1</td>\n",
       "      <td>2000</td>\n",
       "      <td>0</td>\n",
       "      <td>1</td>\n",
       "      <td>8</td>\n",
       "      <td>5196</td>\n",
       "      <td>369</td>\n",
       "      <td>0</td>\n",
       "      <td>3</td>\n",
       "      <td>3436795.2</td>\n",
       "    </tr>\n",
       "    <tr>\n",
       "      <th>1</th>\n",
       "      <td>95145</td>\n",
       "      <td>60</td>\n",
       "      <td>0</td>\n",
       "      <td>1</td>\n",
       "      <td>60</td>\n",
       "      <td>1</td>\n",
       "      <td>4</td>\n",
       "      <td>2000</td>\n",
       "      <td>0</td>\n",
       "      <td>1</td>\n",
       "      <td>729</td>\n",
       "      <td>4496</td>\n",
       "      <td>277</td>\n",
       "      <td>0</td>\n",
       "      <td>6</td>\n",
       "      <td>9519958.0</td>\n",
       "    </tr>\n",
       "    <tr>\n",
       "      <th>2</th>\n",
       "      <td>92661</td>\n",
       "      <td>45</td>\n",
       "      <td>1</td>\n",
       "      <td>1</td>\n",
       "      <td>62</td>\n",
       "      <td>4</td>\n",
       "      <td>8</td>\n",
       "      <td>2020</td>\n",
       "      <td>1</td>\n",
       "      <td>1</td>\n",
       "      <td>7473</td>\n",
       "      <td>8953</td>\n",
       "      <td>245</td>\n",
       "      <td>1</td>\n",
       "      <td>9</td>\n",
       "      <td>9276448.1</td>\n",
       "    </tr>\n",
       "    <tr>\n",
       "      <th>3</th>\n",
       "      <td>97184</td>\n",
       "      <td>99</td>\n",
       "      <td>0</td>\n",
       "      <td>0</td>\n",
       "      <td>59</td>\n",
       "      <td>1</td>\n",
       "      <td>1</td>\n",
       "      <td>2000</td>\n",
       "      <td>0</td>\n",
       "      <td>1</td>\n",
       "      <td>6424</td>\n",
       "      <td>8522</td>\n",
       "      <td>256</td>\n",
       "      <td>1</td>\n",
       "      <td>9</td>\n",
       "      <td>9725732.2</td>\n",
       "    </tr>\n",
       "    <tr>\n",
       "      <th>4</th>\n",
       "      <td>61752</td>\n",
       "      <td>100</td>\n",
       "      <td>0</td>\n",
       "      <td>0</td>\n",
       "      <td>57</td>\n",
       "      <td>8</td>\n",
       "      <td>4</td>\n",
       "      <td>2018</td>\n",
       "      <td>1</td>\n",
       "      <td>0</td>\n",
       "      <td>7151</td>\n",
       "      <td>2786</td>\n",
       "      <td>863</td>\n",
       "      <td>0</td>\n",
       "      <td>7</td>\n",
       "      <td>6181908.8</td>\n",
       "    </tr>\n",
       "  </tbody>\n",
       "</table>\n",
       "</div>"
      ],
      "text/plain": [
       "   squareMeters  numberOfRooms  hasYard  hasPool  floors  cityPartRange  \\\n",
       "0         34291             24        1        0      47              2   \n",
       "1         95145             60        0        1      60              1   \n",
       "2         92661             45        1        1      62              4   \n",
       "3         97184             99        0        0      59              1   \n",
       "4         61752            100        0        0      57              8   \n",
       "\n",
       "   numPrevOwners  made  isNewBuilt  hasStormProtector  basement  attic  \\\n",
       "0              1  2000           0                  1         8   5196   \n",
       "1              4  2000           0                  1       729   4496   \n",
       "2              8  2020           1                  1      7473   8953   \n",
       "3              1  2000           0                  1      6424   8522   \n",
       "4              4  2018           1                  0      7151   2786   \n",
       "\n",
       "   garage  hasStorageRoom  hasGuestRoom      price  \n",
       "0     369               0             3  3436795.2  \n",
       "1     277               0             6  9519958.0  \n",
       "2     245               1             9  9276448.1  \n",
       "3     256               1             9  9725732.2  \n",
       "4     863               0             7  6181908.8  "
      ]
     },
     "execution_count": 7,
     "metadata": {},
     "output_type": "execute_result"
    }
   ],
   "source": [
    "train_df.head()"
   ]
  },
  {
   "cell_type": "code",
   "execution_count": 8,
   "id": "128489b1",
   "metadata": {
    "execution": {
     "iopub.execute_input": "2023-02-20T02:41:53.868851Z",
     "iopub.status.busy": "2023-02-20T02:41:53.868402Z",
     "iopub.status.idle": "2023-02-20T02:41:53.878490Z",
     "shell.execute_reply": "2023-02-20T02:41:53.877036Z"
    },
    "papermill": {
     "duration": 0.02659,
     "end_time": "2023-02-20T02:41:53.880921",
     "exception": false,
     "start_time": "2023-02-20T02:41:53.854331",
     "status": "completed"
    },
    "tags": []
   },
   "outputs": [
    {
     "data": {
      "text/plain": [
       "0        2000\n",
       "1        2000\n",
       "2        2020\n",
       "3        2000\n",
       "4        2018\n",
       "         ... \n",
       "22725    2000\n",
       "22726    2015\n",
       "22727    2014\n",
       "22728    2000\n",
       "22729    2018\n",
       "Name: made, Length: 22730, dtype: int64"
      ]
     },
     "execution_count": 8,
     "metadata": {},
     "output_type": "execute_result"
    }
   ],
   "source": [
    "train_df['made']"
   ]
  },
  {
   "cell_type": "markdown",
   "id": "6dcbc724",
   "metadata": {
    "papermill": {
     "duration": 0.011984,
     "end_time": "2023-02-20T02:41:53.905362",
     "exception": false,
     "start_time": "2023-02-20T02:41:53.893378",
     "status": "completed"
    },
    "tags": []
   },
   "source": [
    "### NaN Value"
   ]
  },
  {
   "cell_type": "code",
   "execution_count": 9,
   "id": "146b3f58",
   "metadata": {
    "execution": {
     "iopub.execute_input": "2023-02-20T02:41:53.932059Z",
     "iopub.status.busy": "2023-02-20T02:41:53.931512Z",
     "iopub.status.idle": "2023-02-20T02:41:53.943100Z",
     "shell.execute_reply": "2023-02-20T02:41:53.941419Z"
    },
    "papermill": {
     "duration": 0.027849,
     "end_time": "2023-02-20T02:41:53.945526",
     "exception": false,
     "start_time": "2023-02-20T02:41:53.917677",
     "status": "completed"
    },
    "tags": []
   },
   "outputs": [
    {
     "data": {
      "text/plain": [
       "squareMeters         0\n",
       "numberOfRooms        0\n",
       "hasYard              0\n",
       "hasPool              0\n",
       "floors               0\n",
       "cityPartRange        0\n",
       "numPrevOwners        0\n",
       "made                 0\n",
       "isNewBuilt           0\n",
       "hasStormProtector    0\n",
       "basement             0\n",
       "attic                0\n",
       "garage               0\n",
       "hasStorageRoom       0\n",
       "hasGuestRoom         0\n",
       "price                0\n",
       "dtype: int64"
      ]
     },
     "execution_count": 9,
     "metadata": {},
     "output_type": "execute_result"
    }
   ],
   "source": [
    "## Finding NaN Value\n",
    "train_df.isnull().sum()"
   ]
  },
  {
   "cell_type": "code",
   "execution_count": 10,
   "id": "f3d0a4a7",
   "metadata": {
    "execution": {
     "iopub.execute_input": "2023-02-20T02:41:53.972542Z",
     "iopub.status.busy": "2023-02-20T02:41:53.972081Z",
     "iopub.status.idle": "2023-02-20T02:41:53.982053Z",
     "shell.execute_reply": "2023-02-20T02:41:53.980816Z"
    },
    "papermill": {
     "duration": 0.026323,
     "end_time": "2023-02-20T02:41:53.984360",
     "exception": false,
     "start_time": "2023-02-20T02:41:53.958037",
     "status": "completed"
    },
    "tags": []
   },
   "outputs": [
    {
     "data": {
      "text/plain": [
       "squareMeters         0\n",
       "numberOfRooms        0\n",
       "hasYard              0\n",
       "hasPool              0\n",
       "floors               0\n",
       "cityPartRange        0\n",
       "numPrevOwners        0\n",
       "made                 0\n",
       "isNewBuilt           0\n",
       "hasStormProtector    0\n",
       "basement             0\n",
       "attic                0\n",
       "garage               0\n",
       "hasStorageRoom       0\n",
       "hasGuestRoom         0\n",
       "dtype: int64"
      ]
     },
     "execution_count": 10,
     "metadata": {},
     "output_type": "execute_result"
    }
   ],
   "source": [
    "test_df.isnull().sum()"
   ]
  },
  {
   "cell_type": "markdown",
   "id": "c4b6de34",
   "metadata": {
    "papermill": {
     "duration": 0.012336,
     "end_time": "2023-02-20T02:41:54.009690",
     "exception": false,
     "start_time": "2023-02-20T02:41:53.997354",
     "status": "completed"
    },
    "tags": []
   },
   "source": [
    "### Duplicate Value"
   ]
  },
  {
   "cell_type": "code",
   "execution_count": 11,
   "id": "fd55cd16",
   "metadata": {
    "execution": {
     "iopub.execute_input": "2023-02-20T02:41:54.037787Z",
     "iopub.status.busy": "2023-02-20T02:41:54.037326Z",
     "iopub.status.idle": "2023-02-20T02:41:54.061926Z",
     "shell.execute_reply": "2023-02-20T02:41:54.060593Z"
    },
    "papermill": {
     "duration": 0.041467,
     "end_time": "2023-02-20T02:41:54.064311",
     "exception": false,
     "start_time": "2023-02-20T02:41:54.022844",
     "status": "completed"
    },
    "tags": []
   },
   "outputs": [
    {
     "data": {
      "text/html": [
       "<div>\n",
       "<style scoped>\n",
       "    .dataframe tbody tr th:only-of-type {\n",
       "        vertical-align: middle;\n",
       "    }\n",
       "\n",
       "    .dataframe tbody tr th {\n",
       "        vertical-align: top;\n",
       "    }\n",
       "\n",
       "    .dataframe thead th {\n",
       "        text-align: right;\n",
       "    }\n",
       "</style>\n",
       "<table border=\"1\" class=\"dataframe\">\n",
       "  <thead>\n",
       "    <tr style=\"text-align: right;\">\n",
       "      <th></th>\n",
       "      <th>squareMeters</th>\n",
       "      <th>numberOfRooms</th>\n",
       "      <th>hasYard</th>\n",
       "      <th>hasPool</th>\n",
       "      <th>floors</th>\n",
       "      <th>cityPartRange</th>\n",
       "      <th>numPrevOwners</th>\n",
       "      <th>made</th>\n",
       "      <th>isNewBuilt</th>\n",
       "      <th>hasStormProtector</th>\n",
       "      <th>basement</th>\n",
       "      <th>attic</th>\n",
       "      <th>garage</th>\n",
       "      <th>hasStorageRoom</th>\n",
       "      <th>hasGuestRoom</th>\n",
       "      <th>price</th>\n",
       "    </tr>\n",
       "  </thead>\n",
       "  <tbody>\n",
       "  </tbody>\n",
       "</table>\n",
       "</div>"
      ],
      "text/plain": [
       "Empty DataFrame\n",
       "Columns: [squareMeters, numberOfRooms, hasYard, hasPool, floors, cityPartRange, numPrevOwners, made, isNewBuilt, hasStormProtector, basement, attic, garage, hasStorageRoom, hasGuestRoom, price]\n",
       "Index: []"
      ]
     },
     "execution_count": 11,
     "metadata": {},
     "output_type": "execute_result"
    }
   ],
   "source": [
    "### Finding any Duplicate Value\n",
    "train_df[train_df.duplicated()]"
   ]
  },
  {
   "cell_type": "code",
   "execution_count": 12,
   "id": "d76366c1",
   "metadata": {
    "execution": {
     "iopub.execute_input": "2023-02-20T02:41:54.091953Z",
     "iopub.status.busy": "2023-02-20T02:41:54.091536Z",
     "iopub.status.idle": "2023-02-20T02:41:54.111434Z",
     "shell.execute_reply": "2023-02-20T02:41:54.110296Z"
    },
    "papermill": {
     "duration": 0.036497,
     "end_time": "2023-02-20T02:41:54.113741",
     "exception": false,
     "start_time": "2023-02-20T02:41:54.077244",
     "status": "completed"
    },
    "tags": []
   },
   "outputs": [
    {
     "data": {
      "text/html": [
       "<div>\n",
       "<style scoped>\n",
       "    .dataframe tbody tr th:only-of-type {\n",
       "        vertical-align: middle;\n",
       "    }\n",
       "\n",
       "    .dataframe tbody tr th {\n",
       "        vertical-align: top;\n",
       "    }\n",
       "\n",
       "    .dataframe thead th {\n",
       "        text-align: right;\n",
       "    }\n",
       "</style>\n",
       "<table border=\"1\" class=\"dataframe\">\n",
       "  <thead>\n",
       "    <tr style=\"text-align: right;\">\n",
       "      <th></th>\n",
       "      <th>squareMeters</th>\n",
       "      <th>numberOfRooms</th>\n",
       "      <th>hasYard</th>\n",
       "      <th>hasPool</th>\n",
       "      <th>floors</th>\n",
       "      <th>cityPartRange</th>\n",
       "      <th>numPrevOwners</th>\n",
       "      <th>made</th>\n",
       "      <th>isNewBuilt</th>\n",
       "      <th>hasStormProtector</th>\n",
       "      <th>basement</th>\n",
       "      <th>attic</th>\n",
       "      <th>garage</th>\n",
       "      <th>hasStorageRoom</th>\n",
       "      <th>hasGuestRoom</th>\n",
       "    </tr>\n",
       "  </thead>\n",
       "  <tbody>\n",
       "  </tbody>\n",
       "</table>\n",
       "</div>"
      ],
      "text/plain": [
       "Empty DataFrame\n",
       "Columns: [squareMeters, numberOfRooms, hasYard, hasPool, floors, cityPartRange, numPrevOwners, made, isNewBuilt, hasStormProtector, basement, attic, garage, hasStorageRoom, hasGuestRoom]\n",
       "Index: []"
      ]
     },
     "execution_count": 12,
     "metadata": {},
     "output_type": "execute_result"
    }
   ],
   "source": [
    "test_df[test_df.duplicated()]"
   ]
  },
  {
   "cell_type": "markdown",
   "id": "5bba98f0",
   "metadata": {
    "papermill": {
     "duration": 0.012691,
     "end_time": "2023-02-20T02:41:54.139445",
     "exception": false,
     "start_time": "2023-02-20T02:41:54.126754",
     "status": "completed"
    },
    "tags": []
   },
   "source": [
    "### Finding Outliers"
   ]
  },
  {
   "cell_type": "code",
   "execution_count": 13,
   "id": "056669da",
   "metadata": {
    "execution": {
     "iopub.execute_input": "2023-02-20T02:41:54.167304Z",
     "iopub.status.busy": "2023-02-20T02:41:54.166839Z",
     "iopub.status.idle": "2023-02-20T02:41:54.175888Z",
     "shell.execute_reply": "2023-02-20T02:41:54.175096Z"
    },
    "papermill": {
     "duration": 0.025726,
     "end_time": "2023-02-20T02:41:54.178104",
     "exception": false,
     "start_time": "2023-02-20T02:41:54.152378",
     "status": "completed"
    },
    "tags": []
   },
   "outputs": [
    {
     "data": {
      "text/plain": [
       "array([ 2000,  2020,  2018,  1998,  2017,  2003,  1994,  1993,  2009,\n",
       "        2014,  2011,  1996,  2015,  2004,  2019,  2008,  2005,  2007,\n",
       "        2016,  1995,  2006,  1997,  2013,  2021,  1999,  2001,  1990,\n",
       "        2010,  1991,  2012,  1992, 10000,  2002])"
      ]
     },
     "execution_count": 13,
     "metadata": {},
     "output_type": "execute_result"
    }
   ],
   "source": [
    "train_df['made'].unique()"
   ]
  },
  {
   "cell_type": "code",
   "execution_count": 14,
   "id": "6486ca6e",
   "metadata": {
    "execution": {
     "iopub.execute_input": "2023-02-20T02:41:54.206326Z",
     "iopub.status.busy": "2023-02-20T02:41:54.205889Z",
     "iopub.status.idle": "2023-02-20T02:41:54.217977Z",
     "shell.execute_reply": "2023-02-20T02:41:54.216652Z"
    },
    "papermill": {
     "duration": 0.029546,
     "end_time": "2023-02-20T02:41:54.220806",
     "exception": false,
     "start_time": "2023-02-20T02:41:54.191260",
     "status": "completed"
    },
    "tags": []
   },
   "outputs": [],
   "source": [
    "mask = train_df.index[train_df['made'] > 2023].tolist()\n",
    "\n",
    "train_df.drop(mask,inplace=True)"
   ]
  },
  {
   "cell_type": "code",
   "execution_count": 15,
   "id": "b23a217d",
   "metadata": {
    "execution": {
     "iopub.execute_input": "2023-02-20T02:41:54.249344Z",
     "iopub.status.busy": "2023-02-20T02:41:54.248848Z",
     "iopub.status.idle": "2023-02-20T02:41:54.257451Z",
     "shell.execute_reply": "2023-02-20T02:41:54.256022Z"
    },
    "papermill": {
     "duration": 0.025906,
     "end_time": "2023-02-20T02:41:54.260003",
     "exception": false,
     "start_time": "2023-02-20T02:41:54.234097",
     "status": "completed"
    },
    "tags": []
   },
   "outputs": [],
   "source": [
    "mask = test_df.index[test_df['made'] > 2023].tolist()\n",
    "\n",
    "test_df.drop(mask,inplace=True)"
   ]
  },
  {
   "cell_type": "code",
   "execution_count": 16,
   "id": "6a58ec38",
   "metadata": {
    "execution": {
     "iopub.execute_input": "2023-02-20T02:41:54.288246Z",
     "iopub.status.busy": "2023-02-20T02:41:54.287733Z",
     "iopub.status.idle": "2023-02-20T02:41:55.784543Z",
     "shell.execute_reply": "2023-02-20T02:41:55.783503Z"
    },
    "papermill": {
     "duration": 1.514176,
     "end_time": "2023-02-20T02:41:55.787246",
     "exception": false,
     "start_time": "2023-02-20T02:41:54.273070",
     "status": "completed"
    },
    "tags": []
   },
   "outputs": [
    {
     "data": {
      "image/png": "[encoded data removed]",
      "text/plain": [
       "<Figure size 432x288 with 1 Axes>"
      ]
     },
     "metadata": {
      "needs_background": "light"
     },
     "output_type": "display_data"
    }
   ],
   "source": [
    "import matplotlib.pyplot as plt\n",
    "import seaborn as sns\n",
    "\n",
    "plt.xlabel('made')\n",
    "sns.histplot(data=train_df , x='made');"
   ]
  },
  {
   "cell_type": "markdown",
   "id": "15a4481a",
   "metadata": {
    "papermill": {
     "duration": 0.018682,
     "end_time": "2023-02-20T02:41:55.821165",
     "exception": false,
     "start_time": "2023-02-20T02:41:55.802483",
     "status": "completed"
    },
    "tags": []
   },
   "source": [
    "### Price Distribution"
   ]
  },
  {
   "cell_type": "code",
   "execution_count": 17,
   "id": "2ccb385a",
   "metadata": {
    "execution": {
     "iopub.execute_input": "2023-02-20T02:41:55.853995Z",
     "iopub.status.busy": "2023-02-20T02:41:55.852902Z",
     "iopub.status.idle": "2023-02-20T02:41:56.127133Z",
     "shell.execute_reply": "2023-02-20T02:41:56.125742Z"
    },
    "papermill": {
     "duration": 0.294343,
     "end_time": "2023-02-20T02:41:56.129775",
     "exception": false,
     "start_time": "2023-02-20T02:41:55.835432",
     "status": "completed"
    },
    "tags": []
   },
   "outputs": [
    {
     "data": {
      "image/png": "[encoded data removed]",
      "text/plain": [
       "<Figure size 432x288 with 1 Axes>"
      ]
     },
     "metadata": {
      "needs_background": "light"
     },
     "output_type": "display_data"
    }
   ],
   "source": [
    "plt.xlabel('price')\n",
    "sns.histplot(data=train_df , x='price');"
   ]
  },
  {
   "cell_type": "code",
   "execution_count": 18,
   "id": "5ea3abed",
   "metadata": {
    "execution": {
     "iopub.execute_input": "2023-02-20T02:41:56.166413Z",
     "iopub.status.busy": "2023-02-20T02:41:56.165280Z",
     "iopub.status.idle": "2023-02-20T02:41:58.990166Z",
     "shell.execute_reply": "2023-02-20T02:41:58.989075Z"
    },
    "papermill": {
     "duration": 2.845136,
     "end_time": "2023-02-20T02:41:58.993287",
     "exception": false,
     "start_time": "2023-02-20T02:41:56.148151",
     "status": "completed"
    },
    "tags": []
   },
   "outputs": [
    {
     "data": {
      "text/plain": [
       "array([[<AxesSubplot:title={'center':'squareMeters'}>,\n",
       "        <AxesSubplot:title={'center':'numberOfRooms'}>,\n",
       "        <AxesSubplot:title={'center':'hasYard'}>,\n",
       "        <AxesSubplot:title={'center':'hasPool'}>],\n",
       "       [<AxesSubplot:title={'center':'floors'}>,\n",
       "        <AxesSubplot:title={'center':'cityPartRange'}>,\n",
       "        <AxesSubplot:title={'center':'numPrevOwners'}>,\n",
       "        <AxesSubplot:title={'center':'made'}>],\n",
       "       [<AxesSubplot:title={'center':'isNewBuilt'}>,\n",
       "        <AxesSubplot:title={'center':'hasStormProtector'}>,\n",
       "        <AxesSubplot:title={'center':'basement'}>,\n",
       "        <AxesSubplot:title={'center':'attic'}>],\n",
       "       [<AxesSubplot:title={'center':'garage'}>,\n",
       "        <AxesSubplot:title={'center':'hasStorageRoom'}>,\n",
       "        <AxesSubplot:title={'center':'hasGuestRoom'}>,\n",
       "        <AxesSubplot:title={'center':'price'}>]], dtype=object)"
      ]
     },
     "execution_count": 18,
     "metadata": {},
     "output_type": "execute_result"
    },
    {
     "data": {
      "image/png": "[encoded data removed]",
      "text/plain": [
       "<Figure size 1440x1440 with 16 Axes>"
      ]
     },
     "metadata": {
      "needs_background": "light"
     },
     "output_type": "display_data"
    }
   ],
   "source": [
    "train_df.hist(figsize=(20, 20), bins=25)"
   ]
  },
  {
   "cell_type": "markdown",
   "id": "43dc0b92",
   "metadata": {
    "papermill": {
     "duration": 0.0151,
     "end_time": "2023-02-20T02:41:59.024470",
     "exception": false,
     "start_time": "2023-02-20T02:41:59.009370",
     "status": "completed"
    },
    "tags": []
   },
   "source": [
    "### Correlation Between Data"
   ]
  },
  {
   "cell_type": "code",
   "execution_count": 19,
   "id": "30617970",
   "metadata": {
    "execution": {
     "iopub.execute_input": "2023-02-20T02:41:59.057997Z",
     "iopub.status.busy": "2023-02-20T02:41:59.056758Z",
     "iopub.status.idle": "2023-02-20T02:41:59.107578Z",
     "shell.execute_reply": "2023-02-20T02:41:59.106141Z"
    },
    "papermill": {
     "duration": 0.070601,
     "end_time": "2023-02-20T02:41:59.110351",
     "exception": false,
     "start_time": "2023-02-20T02:41:59.039750",
     "status": "completed"
    },
    "tags": []
   },
   "outputs": [
    {
     "data": {
      "text/html": [
       "<div>\n",
       "<style scoped>\n",
       "    .dataframe tbody tr th:only-of-type {\n",
       "        vertical-align: middle;\n",
       "    }\n",
       "\n",
       "    .dataframe tbody tr th {\n",
       "        vertical-align: top;\n",
       "    }\n",
       "\n",
       "    .dataframe thead th {\n",
       "        text-align: right;\n",
       "    }\n",
       "</style>\n",
       "<table border=\"1\" class=\"dataframe\">\n",
       "  <thead>\n",
       "    <tr style=\"text-align: right;\">\n",
       "      <th></th>\n",
       "      <th>squareMeters</th>\n",
       "      <th>numberOfRooms</th>\n",
       "      <th>hasYard</th>\n",
       "      <th>hasPool</th>\n",
       "      <th>floors</th>\n",
       "      <th>cityPartRange</th>\n",
       "      <th>numPrevOwners</th>\n",
       "      <th>made</th>\n",
       "      <th>isNewBuilt</th>\n",
       "      <th>hasStormProtector</th>\n",
       "      <th>basement</th>\n",
       "      <th>attic</th>\n",
       "      <th>garage</th>\n",
       "      <th>hasStorageRoom</th>\n",
       "      <th>hasGuestRoom</th>\n",
       "      <th>price</th>\n",
       "    </tr>\n",
       "  </thead>\n",
       "  <tbody>\n",
       "    <tr>\n",
       "      <th>squareMeters</th>\n",
       "      <td>1.000000</td>\n",
       "      <td>0.056686</td>\n",
       "      <td>-0.006441</td>\n",
       "      <td>-0.001550</td>\n",
       "      <td>0.017768</td>\n",
       "      <td>0.002684</td>\n",
       "      <td>-0.000158</td>\n",
       "      <td>0.081092</td>\n",
       "      <td>0.010383</td>\n",
       "      <td>0.017919</td>\n",
       "      <td>-0.018965</td>\n",
       "      <td>-0.008419</td>\n",
       "      <td>-0.063875</td>\n",
       "      <td>0.006083</td>\n",
       "      <td>-0.005718</td>\n",
       "      <td>0.591701</td>\n",
       "    </tr>\n",
       "    <tr>\n",
       "      <th>numberOfRooms</th>\n",
       "      <td>0.056686</td>\n",
       "      <td>1.000000</td>\n",
       "      <td>-0.000989</td>\n",
       "      <td>0.000264</td>\n",
       "      <td>0.044125</td>\n",
       "      <td>0.012282</td>\n",
       "      <td>0.021985</td>\n",
       "      <td>-0.035041</td>\n",
       "      <td>-0.008922</td>\n",
       "      <td>0.011734</td>\n",
       "      <td>0.023590</td>\n",
       "      <td>0.027277</td>\n",
       "      <td>0.066895</td>\n",
       "      <td>-0.007617</td>\n",
       "      <td>-0.015936</td>\n",
       "      <td>0.091570</td>\n",
       "    </tr>\n",
       "    <tr>\n",
       "      <th>hasYard</th>\n",
       "      <td>-0.006441</td>\n",
       "      <td>-0.000989</td>\n",
       "      <td>1.000000</td>\n",
       "      <td>-0.068600</td>\n",
       "      <td>-0.010548</td>\n",
       "      <td>-0.002119</td>\n",
       "      <td>-0.002428</td>\n",
       "      <td>0.000144</td>\n",
       "      <td>0.001634</td>\n",
       "      <td>0.005021</td>\n",
       "      <td>-0.011810</td>\n",
       "      <td>-0.003336</td>\n",
       "      <td>-0.001242</td>\n",
       "      <td>0.006688</td>\n",
       "      <td>-0.007904</td>\n",
       "      <td>-0.002423</td>\n",
       "    </tr>\n",
       "    <tr>\n",
       "      <th>hasPool</th>\n",
       "      <td>-0.001550</td>\n",
       "      <td>0.000264</td>\n",
       "      <td>-0.068600</td>\n",
       "      <td>1.000000</td>\n",
       "      <td>-0.000472</td>\n",
       "      <td>-0.002589</td>\n",
       "      <td>0.000447</td>\n",
       "      <td>-0.001404</td>\n",
       "      <td>0.033027</td>\n",
       "      <td>0.014966</td>\n",
       "      <td>0.003226</td>\n",
       "      <td>-0.001014</td>\n",
       "      <td>0.007163</td>\n",
       "      <td>0.016263</td>\n",
       "      <td>-0.006895</td>\n",
       "      <td>0.006136</td>\n",
       "    </tr>\n",
       "    <tr>\n",
       "      <th>floors</th>\n",
       "      <td>0.017768</td>\n",
       "      <td>0.044125</td>\n",
       "      <td>-0.010548</td>\n",
       "      <td>-0.000472</td>\n",
       "      <td>1.000000</td>\n",
       "      <td>0.000892</td>\n",
       "      <td>0.009165</td>\n",
       "      <td>-0.029440</td>\n",
       "      <td>-0.005735</td>\n",
       "      <td>-0.002372</td>\n",
       "      <td>0.007809</td>\n",
       "      <td>-0.006302</td>\n",
       "      <td>0.023917</td>\n",
       "      <td>-0.007899</td>\n",
       "      <td>-0.020746</td>\n",
       "      <td>0.038270</td>\n",
       "    </tr>\n",
       "    <tr>\n",
       "      <th>cityPartRange</th>\n",
       "      <td>0.002684</td>\n",
       "      <td>0.012282</td>\n",
       "      <td>-0.002119</td>\n",
       "      <td>-0.002589</td>\n",
       "      <td>0.000892</td>\n",
       "      <td>1.000000</td>\n",
       "      <td>0.021585</td>\n",
       "      <td>0.009850</td>\n",
       "      <td>0.002350</td>\n",
       "      <td>-0.000359</td>\n",
       "      <td>0.000340</td>\n",
       "      <td>0.010343</td>\n",
       "      <td>-0.001869</td>\n",
       "      <td>0.003578</td>\n",
       "      <td>0.018316</td>\n",
       "      <td>-0.009461</td>\n",
       "    </tr>\n",
       "    <tr>\n",
       "      <th>numPrevOwners</th>\n",
       "      <td>-0.000158</td>\n",
       "      <td>0.021985</td>\n",
       "      <td>-0.002428</td>\n",
       "      <td>0.000447</td>\n",
       "      <td>0.009165</td>\n",
       "      <td>0.021585</td>\n",
       "      <td>1.000000</td>\n",
       "      <td>0.016040</td>\n",
       "      <td>-0.001054</td>\n",
       "      <td>-0.013019</td>\n",
       "      <td>-0.005596</td>\n",
       "      <td>0.001048</td>\n",
       "      <td>-0.004894</td>\n",
       "      <td>0.000999</td>\n",
       "      <td>0.013179</td>\n",
       "      <td>-0.008562</td>\n",
       "    </tr>\n",
       "    <tr>\n",
       "      <th>made</th>\n",
       "      <td>0.081092</td>\n",
       "      <td>-0.035041</td>\n",
       "      <td>0.000144</td>\n",
       "      <td>-0.001404</td>\n",
       "      <td>-0.029440</td>\n",
       "      <td>0.009850</td>\n",
       "      <td>0.016040</td>\n",
       "      <td>1.000000</td>\n",
       "      <td>-0.000098</td>\n",
       "      <td>-0.002929</td>\n",
       "      <td>0.034554</td>\n",
       "      <td>0.025501</td>\n",
       "      <td>0.031637</td>\n",
       "      <td>-0.011608</td>\n",
       "      <td>0.023859</td>\n",
       "      <td>0.123189</td>\n",
       "    </tr>\n",
       "    <tr>\n",
       "      <th>isNewBuilt</th>\n",
       "      <td>0.010383</td>\n",
       "      <td>-0.008922</td>\n",
       "      <td>0.001634</td>\n",
       "      <td>0.033027</td>\n",
       "      <td>-0.005735</td>\n",
       "      <td>0.002350</td>\n",
       "      <td>-0.001054</td>\n",
       "      <td>-0.000098</td>\n",
       "      <td>1.000000</td>\n",
       "      <td>0.024006</td>\n",
       "      <td>-0.001747</td>\n",
       "      <td>-0.000071</td>\n",
       "      <td>0.010853</td>\n",
       "      <td>0.027493</td>\n",
       "      <td>0.010499</td>\n",
       "      <td>0.008136</td>\n",
       "    </tr>\n",
       "    <tr>\n",
       "      <th>hasStormProtector</th>\n",
       "      <td>0.017919</td>\n",
       "      <td>0.011734</td>\n",
       "      <td>0.005021</td>\n",
       "      <td>0.014966</td>\n",
       "      <td>-0.002372</td>\n",
       "      <td>-0.000359</td>\n",
       "      <td>-0.013019</td>\n",
       "      <td>-0.002929</td>\n",
       "      <td>0.024006</td>\n",
       "      <td>1.000000</td>\n",
       "      <td>-0.017585</td>\n",
       "      <td>-0.001355</td>\n",
       "      <td>0.020522</td>\n",
       "      <td>0.017531</td>\n",
       "      <td>-0.001690</td>\n",
       "      <td>0.020567</td>\n",
       "    </tr>\n",
       "    <tr>\n",
       "      <th>basement</th>\n",
       "      <td>-0.018965</td>\n",
       "      <td>0.023590</td>\n",
       "      <td>-0.011810</td>\n",
       "      <td>0.003226</td>\n",
       "      <td>0.007809</td>\n",
       "      <td>0.000340</td>\n",
       "      <td>-0.005596</td>\n",
       "      <td>0.034554</td>\n",
       "      <td>-0.001747</td>\n",
       "      <td>-0.017585</td>\n",
       "      <td>1.000000</td>\n",
       "      <td>0.015383</td>\n",
       "      <td>-0.017751</td>\n",
       "      <td>-0.016625</td>\n",
       "      <td>0.010950</td>\n",
       "      <td>-0.034973</td>\n",
       "    </tr>\n",
       "    <tr>\n",
       "      <th>attic</th>\n",
       "      <td>-0.008419</td>\n",
       "      <td>0.027277</td>\n",
       "      <td>-0.003336</td>\n",
       "      <td>-0.001014</td>\n",
       "      <td>-0.006302</td>\n",
       "      <td>0.010343</td>\n",
       "      <td>0.001048</td>\n",
       "      <td>0.025501</td>\n",
       "      <td>-0.000071</td>\n",
       "      <td>-0.001355</td>\n",
       "      <td>0.015383</td>\n",
       "      <td>1.000000</td>\n",
       "      <td>-0.027018</td>\n",
       "      <td>-0.002335</td>\n",
       "      <td>0.012557</td>\n",
       "      <td>-0.006997</td>\n",
       "    </tr>\n",
       "    <tr>\n",
       "      <th>garage</th>\n",
       "      <td>-0.063875</td>\n",
       "      <td>0.066895</td>\n",
       "      <td>-0.001242</td>\n",
       "      <td>0.007163</td>\n",
       "      <td>0.023917</td>\n",
       "      <td>-0.001869</td>\n",
       "      <td>-0.004894</td>\n",
       "      <td>0.031637</td>\n",
       "      <td>0.010853</td>\n",
       "      <td>0.020522</td>\n",
       "      <td>-0.017751</td>\n",
       "      <td>-0.027018</td>\n",
       "      <td>1.000000</td>\n",
       "      <td>0.034641</td>\n",
       "      <td>0.003879</td>\n",
       "      <td>-0.120029</td>\n",
       "    </tr>\n",
       "    <tr>\n",
       "      <th>hasStorageRoom</th>\n",
       "      <td>0.006083</td>\n",
       "      <td>-0.007617</td>\n",
       "      <td>0.006688</td>\n",
       "      <td>0.016263</td>\n",
       "      <td>-0.007899</td>\n",
       "      <td>0.003578</td>\n",
       "      <td>0.000999</td>\n",
       "      <td>-0.011608</td>\n",
       "      <td>0.027493</td>\n",
       "      <td>0.017531</td>\n",
       "      <td>-0.016625</td>\n",
       "      <td>-0.002335</td>\n",
       "      <td>0.034641</td>\n",
       "      <td>1.000000</td>\n",
       "      <td>0.009289</td>\n",
       "      <td>0.001684</td>\n",
       "    </tr>\n",
       "    <tr>\n",
       "      <th>hasGuestRoom</th>\n",
       "      <td>-0.005718</td>\n",
       "      <td>-0.015936</td>\n",
       "      <td>-0.007904</td>\n",
       "      <td>-0.006895</td>\n",
       "      <td>-0.020746</td>\n",
       "      <td>0.018316</td>\n",
       "      <td>0.013179</td>\n",
       "      <td>0.023859</td>\n",
       "      <td>0.010499</td>\n",
       "      <td>-0.001690</td>\n",
       "      <td>0.010950</td>\n",
       "      <td>0.012557</td>\n",
       "      <td>0.003879</td>\n",
       "      <td>0.009289</td>\n",
       "      <td>1.000000</td>\n",
       "      <td>-0.009146</td>\n",
       "    </tr>\n",
       "    <tr>\n",
       "      <th>price</th>\n",
       "      <td>0.591701</td>\n",
       "      <td>0.091570</td>\n",
       "      <td>-0.002423</td>\n",
       "      <td>0.006136</td>\n",
       "      <td>0.038270</td>\n",
       "      <td>-0.009461</td>\n",
       "      <td>-0.008562</td>\n",
       "      <td>0.123189</td>\n",
       "      <td>0.008136</td>\n",
       "      <td>0.020567</td>\n",
       "      <td>-0.034973</td>\n",
       "      <td>-0.006997</td>\n",
       "      <td>-0.120029</td>\n",
       "      <td>0.001684</td>\n",
       "      <td>-0.009146</td>\n",
       "      <td>1.000000</td>\n",
       "    </tr>\n",
       "  </tbody>\n",
       "</table>\n",
       "</div>"
      ],
      "text/plain": [
       "                   squareMeters  numberOfRooms   hasYard   hasPool    floors  \\\n",
       "squareMeters           1.000000       0.056686 -0.006441 -0.001550  0.017768   \n",
       "numberOfRooms          0.056686       1.000000 -0.000989  0.000264  0.044125   \n",
       "hasYard               -0.006441      -0.000989  1.000000 -0.068600 -0.010548   \n",
       "hasPool               -0.001550       0.000264 -0.068600  1.000000 -0.000472   \n",
       "floors                 0.017768       0.044125 -0.010548 -0.000472  1.000000   \n",
       "cityPartRange          0.002684       0.012282 -0.002119 -0.002589  0.000892   \n",
       "numPrevOwners         -0.000158       0.021985 -0.002428  0.000447  0.009165   \n",
       "made                   0.081092      -0.035041  0.000144 -0.001404 -0.029440   \n",
       "isNewBuilt             0.010383      -0.008922  0.001634  0.033027 -0.005735   \n",
       "hasStormProtector      0.017919       0.011734  0.005021  0.014966 -0.002372   \n",
       "basement              -0.018965       0.023590 -0.011810  0.003226  0.007809   \n",
       "attic                 -0.008419       0.027277 -0.003336 -0.001014 -0.006302   \n",
       "garage                -0.063875       0.066895 -0.001242  0.007163  0.023917   \n",
       "hasStorageRoom         0.006083      -0.007617  0.006688  0.016263 -0.007899   \n",
       "hasGuestRoom          -0.005718      -0.015936 -0.007904 -0.006895 -0.020746   \n",
       "price                  0.591701       0.091570 -0.002423  0.006136  0.038270   \n",
       "\n",
       "                   cityPartRange  numPrevOwners      made  isNewBuilt  \\\n",
       "squareMeters            0.002684      -0.000158  0.081092    0.010383   \n",
       "numberOfRooms           0.012282       0.021985 -0.035041   -0.008922   \n",
       "hasYard                -0.002119      -0.002428  0.000144    0.001634   \n",
       "hasPool                -0.002589       0.000447 -0.001404    0.033027   \n",
       "floors                  0.000892       0.009165 -0.029440   -0.005735   \n",
       "cityPartRange           1.000000       0.021585  0.009850    0.002350   \n",
       "numPrevOwners           0.021585       1.000000  0.016040   -0.001054   \n",
       "made                    0.009850       0.016040  1.000000   -0.000098   \n",
       "isNewBuilt              0.002350      -0.001054 -0.000098    1.000000   \n",
       "hasStormProtector      -0.000359      -0.013019 -0.002929    0.024006   \n",
       "basement                0.000340      -0.005596  0.034554   -0.001747   \n",
       "attic                   0.010343       0.001048  0.025501   -0.000071   \n",
       "garage                 -0.001869      -0.004894  0.031637    0.010853   \n",
       "hasStorageRoom          0.003578       0.000999 -0.011608    0.027493   \n",
       "hasGuestRoom            0.018316       0.013179  0.023859    0.010499   \n",
       "price                  -0.009461      -0.008562  0.123189    0.008136   \n",
       "\n",
       "                   hasStormProtector  basement     attic    garage  \\\n",
       "squareMeters                0.017919 -0.018965 -0.008419 -0.063875   \n",
       "numberOfRooms               0.011734  0.023590  0.027277  0.066895   \n",
       "hasYard                     0.005021 -0.011810 -0.003336 -0.001242   \n",
       "hasPool                     0.014966  0.003226 -0.001014  0.007163   \n",
       "floors                     -0.002372  0.007809 -0.006302  0.023917   \n",
       "cityPartRange              -0.000359  0.000340  0.010343 -0.001869   \n",
       "numPrevOwners              -0.013019 -0.005596  0.001048 -0.004894   \n",
       "made                       -0.002929  0.034554  0.025501  0.031637   \n",
       "isNewBuilt                  0.024006 -0.001747 -0.000071  0.010853   \n",
       "hasStormProtector           1.000000 -0.017585 -0.001355  0.020522   \n",
       "basement                   -0.017585  1.000000  0.015383 -0.017751   \n",
       "attic                      -0.001355  0.015383  1.000000 -0.027018   \n",
       "garage                      0.020522 -0.017751 -0.027018  1.000000   \n",
       "hasStorageRoom              0.017531 -0.016625 -0.002335  0.034641   \n",
       "hasGuestRoom               -0.001690  0.010950  0.012557  0.003879   \n",
       "price                       0.020567 -0.034973 -0.006997 -0.120029   \n",
       "\n",
       "                   hasStorageRoom  hasGuestRoom     price  \n",
       "squareMeters             0.006083     -0.005718  0.591701  \n",
       "numberOfRooms           -0.007617     -0.015936  0.091570  \n",
       "hasYard                  0.006688     -0.007904 -0.002423  \n",
       "hasPool                  0.016263     -0.006895  0.006136  \n",
       "floors                  -0.007899     -0.020746  0.038270  \n",
       "cityPartRange            0.003578      0.018316 -0.009461  \n",
       "numPrevOwners            0.000999      0.013179 -0.008562  \n",
       "made                    -0.011608      0.023859  0.123189  \n",
       "isNewBuilt               0.027493      0.010499  0.008136  \n",
       "hasStormProtector        0.017531     -0.001690  0.020567  \n",
       "basement                -0.016625      0.010950 -0.034973  \n",
       "attic                   -0.002335      0.012557 -0.006997  \n",
       "garage                   0.034641      0.003879 -0.120029  \n",
       "hasStorageRoom           1.000000      0.009289  0.001684  \n",
       "hasGuestRoom             0.009289      1.000000 -0.009146  \n",
       "price                    0.001684     -0.009146  1.000000  "
      ]
     },
     "execution_count": 19,
     "metadata": {},
     "output_type": "execute_result"
    }
   ],
   "source": [
    "import matplotlib.pyplot as plt\n",
    "import seaborn as sns\n",
    "\n",
    "train_df.corr()"
   ]
  },
  {
   "cell_type": "code",
   "execution_count": 20,
   "id": "aeec0999",
   "metadata": {
    "execution": {
     "iopub.execute_input": "2023-02-20T02:41:59.144887Z",
     "iopub.status.busy": "2023-02-20T02:41:59.144150Z",
     "iopub.status.idle": "2023-02-20T02:42:00.574420Z",
     "shell.execute_reply": "2023-02-20T02:42:00.573134Z"
    },
    "papermill": {
     "duration": 1.452419,
     "end_time": "2023-02-20T02:42:00.578760",
     "exception": false,
     "start_time": "2023-02-20T02:41:59.126341",
     "status": "completed"
    },
    "tags": []
   },
   "outputs": [
    {
     "data": {
      "image/png": "[encoded data removed]",
      "text/plain": [
       "<Figure size 432x288 with 2 Axes>"
      ]
     },
     "metadata": {
      "needs_background": "light"
     },
     "output_type": "display_data"
    }
   ],
   "source": [
    "sns.heatmap(train_df.corr(), annot=True);\n",
    "plt.title(\"Heatmap\", fontsize=16);"
   ]
  },
  {
   "cell_type": "markdown",
   "id": "815d8d36",
   "metadata": {
    "papermill": {
     "duration": 0.018009,
     "end_time": "2023-02-20T02:42:00.615526",
     "exception": false,
     "start_time": "2023-02-20T02:42:00.597517",
     "status": "completed"
    },
    "tags": []
   },
   "source": [
    "### Standardization Varaibles and Dummy Variables"
   ]
  },
  {
   "cell_type": "code",
   "execution_count": 21,
   "id": "aada80fd",
   "metadata": {
    "execution": {
     "iopub.execute_input": "2023-02-20T02:42:00.653977Z",
     "iopub.status.busy": "2023-02-20T02:42:00.653263Z",
     "iopub.status.idle": "2023-02-20T02:42:00.661490Z",
     "shell.execute_reply": "2023-02-20T02:42:00.660424Z"
    },
    "papermill": {
     "duration": 0.030609,
     "end_time": "2023-02-20T02:42:00.663762",
     "exception": false,
     "start_time": "2023-02-20T02:42:00.633153",
     "status": "completed"
    },
    "tags": []
   },
   "outputs": [
    {
     "data": {
      "text/plain": [
       "array([2000, 2020, 2018, 1998, 2017, 2003, 1994, 1993, 2009, 2014, 2011,\n",
       "       1996, 2015, 2004, 2019, 2008, 2005, 2007, 2016, 1995, 2006, 1997,\n",
       "       2013, 2021, 1999, 2001, 1990, 2010, 1991, 2012, 1992, 2002])"
      ]
     },
     "execution_count": 21,
     "metadata": {},
     "output_type": "execute_result"
    }
   ],
   "source": [
    "train_df['made'].unique()"
   ]
  },
  {
   "cell_type": "code",
   "execution_count": 22,
   "id": "c35c307c",
   "metadata": {
    "execution": {
     "iopub.execute_input": "2023-02-20T02:42:00.703878Z",
     "iopub.status.busy": "2023-02-20T02:42:00.703021Z",
     "iopub.status.idle": "2023-02-20T02:42:00.878135Z",
     "shell.execute_reply": "2023-02-20T02:42:00.876916Z"
    },
    "papermill": {
     "duration": 0.197439,
     "end_time": "2023-02-20T02:42:00.880844",
     "exception": false,
     "start_time": "2023-02-20T02:42:00.683405",
     "status": "completed"
    },
    "tags": []
   },
   "outputs": [
    {
     "data": {
      "image/png": "[encoded data removed]",
      "text/plain": [
       "<Figure size 432x288 with 1 Axes>"
      ]
     },
     "metadata": {
      "needs_background": "light"
     },
     "output_type": "display_data"
    }
   ],
   "source": [
    "sns.boxplot(data = train_df , y = 'made');"
   ]
  },
  {
   "cell_type": "code",
   "execution_count": 23,
   "id": "a1b0cb90",
   "metadata": {
    "execution": {
     "iopub.execute_input": "2023-02-20T02:42:00.920690Z",
     "iopub.status.busy": "2023-02-20T02:42:00.919442Z",
     "iopub.status.idle": "2023-02-20T02:42:00.944543Z",
     "shell.execute_reply": "2023-02-20T02:42:00.943269Z"
    },
    "papermill": {
     "duration": 0.048498,
     "end_time": "2023-02-20T02:42:00.947701",
     "exception": false,
     "start_time": "2023-02-20T02:42:00.899203",
     "status": "completed"
    },
    "tags": []
   },
   "outputs": [],
   "source": [
    "## Converting Numerical data into Object\n",
    "\n",
    "# define custom function to categorize Made\n",
    "def categorize_made(made):\n",
    "    if made < 2000:\n",
    "        return 'Old'\n",
    "    elif (made < 2010 and made > 2000):\n",
    "        return 'New'\n",
    "    else:\n",
    "        return 'Newer'  \n",
    "    \n",
    "train_df['made'] = train_df['made'].apply(categorize_made)\n",
    "test_df['made'] = test_df['made'].apply(categorize_made)"
   ]
  },
  {
   "cell_type": "code",
   "execution_count": 24,
   "id": "bfd0542c",
   "metadata": {
    "execution": {
     "iopub.execute_input": "2023-02-20T02:42:00.987365Z",
     "iopub.status.busy": "2023-02-20T02:42:00.986165Z",
     "iopub.status.idle": "2023-02-20T02:42:00.996594Z",
     "shell.execute_reply": "2023-02-20T02:42:00.995438Z"
    },
    "papermill": {
     "duration": 0.032644,
     "end_time": "2023-02-20T02:42:00.999254",
     "exception": false,
     "start_time": "2023-02-20T02:42:00.966610",
     "status": "completed"
    },
    "tags": []
   },
   "outputs": [
    {
     "data": {
      "text/plain": [
       "array(['Newer', 'Old', 'New'], dtype=object)"
      ]
     },
     "execution_count": 24,
     "metadata": {},
     "output_type": "execute_result"
    }
   ],
   "source": [
    "train_df['made'].unique()"
   ]
  },
  {
   "cell_type": "markdown",
   "id": "49a60727",
   "metadata": {
    "papermill": {
     "duration": 0.018366,
     "end_time": "2023-02-20T02:42:01.036167",
     "exception": false,
     "start_time": "2023-02-20T02:42:01.017801",
     "status": "completed"
    },
    "tags": []
   },
   "source": [
    "### Data Normalization"
   ]
  },
  {
   "cell_type": "code",
   "execution_count": 25,
   "id": "0a65674b",
   "metadata": {
    "execution": {
     "iopub.execute_input": "2023-02-20T02:42:01.076331Z",
     "iopub.status.busy": "2023-02-20T02:42:01.074978Z",
     "iopub.status.idle": "2023-02-20T02:42:01.101910Z",
     "shell.execute_reply": "2023-02-20T02:42:01.100456Z"
    },
    "papermill": {
     "duration": 0.050365,
     "end_time": "2023-02-20T02:42:01.104996",
     "exception": false,
     "start_time": "2023-02-20T02:42:01.054631",
     "status": "completed"
    },
    "tags": []
   },
   "outputs": [],
   "source": [
    "# Dummy Variables\n",
    "def getDummy(raw_data):\n",
    "    df = raw_data\n",
    "    dummy = pd.get_dummies(df['made'], drop_first=True)\n",
    "    df = pd.concat([df, dummy], axis=1)\n",
    "    #Dropping Dummy Varaibles\n",
    "    df.drop(['made'], axis=1, inplace=True)\n",
    "    \n",
    "    return df\n",
    "\n",
    "train_df = getDummy(train_df)\n",
    "test_df = getDummy(test_df)"
   ]
  },
  {
   "cell_type": "code",
   "execution_count": 26,
   "id": "84e03dc8",
   "metadata": {
    "execution": {
     "iopub.execute_input": "2023-02-20T02:42:01.144189Z",
     "iopub.status.busy": "2023-02-20T02:42:01.143759Z",
     "iopub.status.idle": "2023-02-20T02:42:01.161633Z",
     "shell.execute_reply": "2023-02-20T02:42:01.160515Z"
    },
    "papermill": {
     "duration": 0.040354,
     "end_time": "2023-02-20T02:42:01.164012",
     "exception": false,
     "start_time": "2023-02-20T02:42:01.123658",
     "status": "completed"
    },
    "tags": []
   },
   "outputs": [
    {
     "data": {
      "text/html": [
       "<div>\n",
       "<style scoped>\n",
       "    .dataframe tbody tr th:only-of-type {\n",
       "        vertical-align: middle;\n",
       "    }\n",
       "\n",
       "    .dataframe tbody tr th {\n",
       "        vertical-align: top;\n",
       "    }\n",
       "\n",
       "    .dataframe thead th {\n",
       "        text-align: right;\n",
       "    }\n",
       "</style>\n",
       "<table border=\"1\" class=\"dataframe\">\n",
       "  <thead>\n",
       "    <tr style=\"text-align: right;\">\n",
       "      <th></th>\n",
       "      <th>squareMeters</th>\n",
       "      <th>numberOfRooms</th>\n",
       "      <th>hasYard</th>\n",
       "      <th>hasPool</th>\n",
       "      <th>floors</th>\n",
       "      <th>cityPartRange</th>\n",
       "      <th>numPrevOwners</th>\n",
       "      <th>isNewBuilt</th>\n",
       "      <th>hasStormProtector</th>\n",
       "      <th>basement</th>\n",
       "      <th>attic</th>\n",
       "      <th>garage</th>\n",
       "      <th>hasStorageRoom</th>\n",
       "      <th>hasGuestRoom</th>\n",
       "      <th>price</th>\n",
       "      <th>Newer</th>\n",
       "      <th>Old</th>\n",
       "    </tr>\n",
       "  </thead>\n",
       "  <tbody>\n",
       "    <tr>\n",
       "      <th>0</th>\n",
       "      <td>34291</td>\n",
       "      <td>24</td>\n",
       "      <td>1</td>\n",
       "      <td>0</td>\n",
       "      <td>47</td>\n",
       "      <td>2</td>\n",
       "      <td>1</td>\n",
       "      <td>0</td>\n",
       "      <td>1</td>\n",
       "      <td>8</td>\n",
       "      <td>5196</td>\n",
       "      <td>369</td>\n",
       "      <td>0</td>\n",
       "      <td>3</td>\n",
       "      <td>3436795.2</td>\n",
       "      <td>1</td>\n",
       "      <td>0</td>\n",
       "    </tr>\n",
       "    <tr>\n",
       "      <th>1</th>\n",
       "      <td>95145</td>\n",
       "      <td>60</td>\n",
       "      <td>0</td>\n",
       "      <td>1</td>\n",
       "      <td>60</td>\n",
       "      <td>1</td>\n",
       "      <td>4</td>\n",
       "      <td>0</td>\n",
       "      <td>1</td>\n",
       "      <td>729</td>\n",
       "      <td>4496</td>\n",
       "      <td>277</td>\n",
       "      <td>0</td>\n",
       "      <td>6</td>\n",
       "      <td>9519958.0</td>\n",
       "      <td>1</td>\n",
       "      <td>0</td>\n",
       "    </tr>\n",
       "    <tr>\n",
       "      <th>2</th>\n",
       "      <td>92661</td>\n",
       "      <td>45</td>\n",
       "      <td>1</td>\n",
       "      <td>1</td>\n",
       "      <td>62</td>\n",
       "      <td>4</td>\n",
       "      <td>8</td>\n",
       "      <td>1</td>\n",
       "      <td>1</td>\n",
       "      <td>7473</td>\n",
       "      <td>8953</td>\n",
       "      <td>245</td>\n",
       "      <td>1</td>\n",
       "      <td>9</td>\n",
       "      <td>9276448.1</td>\n",
       "      <td>1</td>\n",
       "      <td>0</td>\n",
       "    </tr>\n",
       "    <tr>\n",
       "      <th>3</th>\n",
       "      <td>97184</td>\n",
       "      <td>99</td>\n",
       "      <td>0</td>\n",
       "      <td>0</td>\n",
       "      <td>59</td>\n",
       "      <td>1</td>\n",
       "      <td>1</td>\n",
       "      <td>0</td>\n",
       "      <td>1</td>\n",
       "      <td>6424</td>\n",
       "      <td>8522</td>\n",
       "      <td>256</td>\n",
       "      <td>1</td>\n",
       "      <td>9</td>\n",
       "      <td>9725732.2</td>\n",
       "      <td>1</td>\n",
       "      <td>0</td>\n",
       "    </tr>\n",
       "    <tr>\n",
       "      <th>4</th>\n",
       "      <td>61752</td>\n",
       "      <td>100</td>\n",
       "      <td>0</td>\n",
       "      <td>0</td>\n",
       "      <td>57</td>\n",
       "      <td>8</td>\n",
       "      <td>4</td>\n",
       "      <td>1</td>\n",
       "      <td>0</td>\n",
       "      <td>7151</td>\n",
       "      <td>2786</td>\n",
       "      <td>863</td>\n",
       "      <td>0</td>\n",
       "      <td>7</td>\n",
       "      <td>6181908.8</td>\n",
       "      <td>1</td>\n",
       "      <td>0</td>\n",
       "    </tr>\n",
       "  </tbody>\n",
       "</table>\n",
       "</div>"
      ],
      "text/plain": [
       "   squareMeters  numberOfRooms  hasYard  hasPool  floors  cityPartRange  \\\n",
       "0         34291             24        1        0      47              2   \n",
       "1         95145             60        0        1      60              1   \n",
       "2         92661             45        1        1      62              4   \n",
       "3         97184             99        0        0      59              1   \n",
       "4         61752            100        0        0      57              8   \n",
       "\n",
       "   numPrevOwners  isNewBuilt  hasStormProtector  basement  attic  garage  \\\n",
       "0              1           0                  1         8   5196     369   \n",
       "1              4           0                  1       729   4496     277   \n",
       "2              8           1                  1      7473   8953     245   \n",
       "3              1           0                  1      6424   8522     256   \n",
       "4              4           1                  0      7151   2786     863   \n",
       "\n",
       "   hasStorageRoom  hasGuestRoom      price  Newer  Old  \n",
       "0               0             3  3436795.2      1    0  \n",
       "1               0             6  9519958.0      1    0  \n",
       "2               1             9  9276448.1      1    0  \n",
       "3               1             9  9725732.2      1    0  \n",
       "4               0             7  6181908.8      1    0  "
      ]
     },
     "execution_count": 26,
     "metadata": {},
     "output_type": "execute_result"
    }
   ],
   "source": [
    "train_df.head()"
   ]
  },
  {
   "cell_type": "code",
   "execution_count": 27,
   "id": "8d74edd8",
   "metadata": {
    "execution": {
     "iopub.execute_input": "2023-02-20T02:42:01.204519Z",
     "iopub.status.busy": "2023-02-20T02:42:01.204019Z",
     "iopub.status.idle": "2023-02-20T02:42:01.361024Z",
     "shell.execute_reply": "2023-02-20T02:42:01.359849Z"
    },
    "papermill": {
     "duration": 0.180604,
     "end_time": "2023-02-20T02:42:01.363869",
     "exception": false,
     "start_time": "2023-02-20T02:42:01.183265",
     "status": "completed"
    },
    "tags": []
   },
   "outputs": [],
   "source": [
    "from sklearn import preprocessing\n",
    "\n",
    "# Function to Normalized data\n",
    "def normalizing_data(raw_data):\n",
    "  \n",
    "  df = raw_data\n",
    "\n",
    "  zz_dataype = ['int64']\n",
    "    \n",
    "  zz_feature_list = []\n",
    "  \n",
    "  dependent_var = ['price']\n",
    "\n",
    "  features = df.columns\n",
    "    \n",
    "  for feature in features:\n",
    "    if (df.dtypes[feature] in zz_dataype) and ( feature not in dependent_var):\n",
    "        zz_feature_list.append(feature)\n",
    "        print(\"ZZ varaibles for Scaling  : {} \".format(feature))\n",
    "          \n",
    "        df[feature] = preprocessing.scale(df[feature])\n",
    "\n",
    "  return df"
   ]
  },
  {
   "cell_type": "code",
   "execution_count": 28,
   "id": "950ccf3a",
   "metadata": {
    "execution": {
     "iopub.execute_input": "2023-02-20T02:42:01.403026Z",
     "iopub.status.busy": "2023-02-20T02:42:01.402569Z",
     "iopub.status.idle": "2023-02-20T02:42:01.437054Z",
     "shell.execute_reply": "2023-02-20T02:42:01.435598Z"
    },
    "papermill": {
     "duration": 0.057207,
     "end_time": "2023-02-20T02:42:01.439721",
     "exception": false,
     "start_time": "2023-02-20T02:42:01.382514",
     "status": "completed"
    },
    "tags": []
   },
   "outputs": [
    {
     "name": "stdout",
     "output_type": "stream",
     "text": [
      "ZZ varaibles for Scaling  : squareMeters \n",
      "ZZ varaibles for Scaling  : numberOfRooms \n",
      "ZZ varaibles for Scaling  : hasYard \n",
      "ZZ varaibles for Scaling  : hasPool \n",
      "ZZ varaibles for Scaling  : floors \n",
      "ZZ varaibles for Scaling  : cityPartRange \n",
      "ZZ varaibles for Scaling  : numPrevOwners \n",
      "ZZ varaibles for Scaling  : isNewBuilt \n",
      "ZZ varaibles for Scaling  : hasStormProtector \n",
      "ZZ varaibles for Scaling  : basement \n",
      "ZZ varaibles for Scaling  : attic \n",
      "ZZ varaibles for Scaling  : garage \n",
      "ZZ varaibles for Scaling  : hasStorageRoom \n",
      "ZZ varaibles for Scaling  : hasGuestRoom \n"
     ]
    }
   ],
   "source": [
    "train_df = normalizing_data(train_df)"
   ]
  },
  {
   "cell_type": "code",
   "execution_count": 29,
   "id": "bea883c3",
   "metadata": {
    "execution": {
     "iopub.execute_input": "2023-02-20T02:42:01.480399Z",
     "iopub.status.busy": "2023-02-20T02:42:01.478969Z",
     "iopub.status.idle": "2023-02-20T02:42:01.510976Z",
     "shell.execute_reply": "2023-02-20T02:42:01.509012Z"
    },
    "papermill": {
     "duration": 0.055136,
     "end_time": "2023-02-20T02:42:01.513572",
     "exception": false,
     "start_time": "2023-02-20T02:42:01.458436",
     "status": "completed"
    },
    "tags": []
   },
   "outputs": [
    {
     "name": "stdout",
     "output_type": "stream",
     "text": [
      "ZZ varaibles for Scaling  : squareMeters \n",
      "ZZ varaibles for Scaling  : numberOfRooms \n",
      "ZZ varaibles for Scaling  : hasYard \n",
      "ZZ varaibles for Scaling  : hasPool \n",
      "ZZ varaibles for Scaling  : floors \n",
      "ZZ varaibles for Scaling  : cityPartRange \n",
      "ZZ varaibles for Scaling  : numPrevOwners \n",
      "ZZ varaibles for Scaling  : isNewBuilt \n",
      "ZZ varaibles for Scaling  : hasStormProtector \n",
      "ZZ varaibles for Scaling  : basement \n",
      "ZZ varaibles for Scaling  : attic \n",
      "ZZ varaibles for Scaling  : garage \n",
      "ZZ varaibles for Scaling  : hasStorageRoom \n",
      "ZZ varaibles for Scaling  : hasGuestRoom \n"
     ]
    }
   ],
   "source": [
    "test_df = normalizing_data(test_df)"
   ]
  },
  {
   "cell_type": "code",
   "execution_count": 30,
   "id": "7f7575b4",
   "metadata": {
    "execution": {
     "iopub.execute_input": "2023-02-20T02:42:01.554217Z",
     "iopub.status.busy": "2023-02-20T02:42:01.553811Z",
     "iopub.status.idle": "2023-02-20T02:42:01.577578Z",
     "shell.execute_reply": "2023-02-20T02:42:01.576231Z"
    },
    "papermill": {
     "duration": 0.047404,
     "end_time": "2023-02-20T02:42:01.580265",
     "exception": false,
     "start_time": "2023-02-20T02:42:01.532861",
     "status": "completed"
    },
    "tags": []
   },
   "outputs": [
    {
     "data": {
      "text/html": [
       "<div>\n",
       "<style scoped>\n",
       "    .dataframe tbody tr th:only-of-type {\n",
       "        vertical-align: middle;\n",
       "    }\n",
       "\n",
       "    .dataframe tbody tr th {\n",
       "        vertical-align: top;\n",
       "    }\n",
       "\n",
       "    .dataframe thead th {\n",
       "        text-align: right;\n",
       "    }\n",
       "</style>\n",
       "<table border=\"1\" class=\"dataframe\">\n",
       "  <thead>\n",
       "    <tr style=\"text-align: right;\">\n",
       "      <th></th>\n",
       "      <th>squareMeters</th>\n",
       "      <th>numberOfRooms</th>\n",
       "      <th>hasYard</th>\n",
       "      <th>hasPool</th>\n",
       "      <th>floors</th>\n",
       "      <th>cityPartRange</th>\n",
       "      <th>numPrevOwners</th>\n",
       "      <th>isNewBuilt</th>\n",
       "      <th>hasStormProtector</th>\n",
       "      <th>basement</th>\n",
       "      <th>attic</th>\n",
       "      <th>garage</th>\n",
       "      <th>hasStorageRoom</th>\n",
       "      <th>hasGuestRoom</th>\n",
       "      <th>price</th>\n",
       "      <th>Newer</th>\n",
       "      <th>Old</th>\n",
       "    </tr>\n",
       "  </thead>\n",
       "  <tbody>\n",
       "    <tr>\n",
       "      <th>0</th>\n",
       "      <td>-0.248133</td>\n",
       "      <td>-0.858676</td>\n",
       "      <td>1.049311</td>\n",
       "      <td>-0.909672</td>\n",
       "      <td>-0.006306</td>\n",
       "      <td>-1.308584</td>\n",
       "      <td>-1.703079</td>\n",
       "      <td>-0.937898</td>\n",
       "      <td>1.083425</td>\n",
       "      <td>-1.731327</td>\n",
       "      <td>0.041462</td>\n",
       "      <td>-0.587636</td>\n",
       "      <td>-0.926192</td>\n",
       "      <td>-0.704883</td>\n",
       "      <td>3436795.2</td>\n",
       "      <td>1</td>\n",
       "      <td>0</td>\n",
       "    </tr>\n",
       "    <tr>\n",
       "      <th>1</th>\n",
       "      <td>0.980660</td>\n",
       "      <td>0.416687</td>\n",
       "      <td>-0.953006</td>\n",
       "      <td>1.099297</td>\n",
       "      <td>0.265778</td>\n",
       "      <td>-1.673615</td>\n",
       "      <td>-0.597357</td>\n",
       "      <td>-0.937898</td>\n",
       "      <td>1.083425</td>\n",
       "      <td>-1.494710</td>\n",
       "      <td>-0.184532</td>\n",
       "      <td>-0.922379</td>\n",
       "      <td>-0.926192</td>\n",
       "      <td>0.277042</td>\n",
       "      <td>9519958.0</td>\n",
       "      <td>1</td>\n",
       "      <td>0</td>\n",
       "    </tr>\n",
       "    <tr>\n",
       "      <th>2</th>\n",
       "      <td>0.930502</td>\n",
       "      <td>-0.114714</td>\n",
       "      <td>1.049311</td>\n",
       "      <td>1.099297</td>\n",
       "      <td>0.307637</td>\n",
       "      <td>-0.578523</td>\n",
       "      <td>0.876939</td>\n",
       "      <td>1.066214</td>\n",
       "      <td>1.083425</td>\n",
       "      <td>0.718528</td>\n",
       "      <td>1.254407</td>\n",
       "      <td>-1.038812</td>\n",
       "      <td>1.079690</td>\n",
       "      <td>1.258967</td>\n",
       "      <td>9276448.1</td>\n",
       "      <td>1</td>\n",
       "      <td>0</td>\n",
       "    </tr>\n",
       "    <tr>\n",
       "      <th>3</th>\n",
       "      <td>1.021832</td>\n",
       "      <td>1.798330</td>\n",
       "      <td>-0.953006</td>\n",
       "      <td>-0.909672</td>\n",
       "      <td>0.244848</td>\n",
       "      <td>-1.673615</td>\n",
       "      <td>-1.703079</td>\n",
       "      <td>-0.937898</td>\n",
       "      <td>1.083425</td>\n",
       "      <td>0.374268</td>\n",
       "      <td>1.115259</td>\n",
       "      <td>-0.998788</td>\n",
       "      <td>1.079690</td>\n",
       "      <td>1.258967</td>\n",
       "      <td>9725732.2</td>\n",
       "      <td>1</td>\n",
       "      <td>0</td>\n",
       "    </tr>\n",
       "    <tr>\n",
       "      <th>4</th>\n",
       "      <td>0.306373</td>\n",
       "      <td>1.833757</td>\n",
       "      <td>-0.953006</td>\n",
       "      <td>-0.909672</td>\n",
       "      <td>0.202989</td>\n",
       "      <td>0.881599</td>\n",
       "      <td>-0.597357</td>\n",
       "      <td>1.066214</td>\n",
       "      <td>-0.922999</td>\n",
       "      <td>0.612854</td>\n",
       "      <td>-0.736605</td>\n",
       "      <td>1.209788</td>\n",
       "      <td>-0.926192</td>\n",
       "      <td>0.604350</td>\n",
       "      <td>6181908.8</td>\n",
       "      <td>1</td>\n",
       "      <td>0</td>\n",
       "    </tr>\n",
       "  </tbody>\n",
       "</table>\n",
       "</div>"
      ],
      "text/plain": [
       "   squareMeters  numberOfRooms   hasYard   hasPool    floors  cityPartRange  \\\n",
       "0     -0.248133      -0.858676  1.049311 -0.909672 -0.006306      -1.308584   \n",
       "1      0.980660       0.416687 -0.953006  1.099297  0.265778      -1.673615   \n",
       "2      0.930502      -0.114714  1.049311  1.099297  0.307637      -0.578523   \n",
       "3      1.021832       1.798330 -0.953006 -0.909672  0.244848      -1.673615   \n",
       "4      0.306373       1.833757 -0.953006 -0.909672  0.202989       0.881599   \n",
       "\n",
       "   numPrevOwners  isNewBuilt  hasStormProtector  basement     attic    garage  \\\n",
       "0      -1.703079   -0.937898           1.083425 -1.731327  0.041462 -0.587636   \n",
       "1      -0.597357   -0.937898           1.083425 -1.494710 -0.184532 -0.922379   \n",
       "2       0.876939    1.066214           1.083425  0.718528  1.254407 -1.038812   \n",
       "3      -1.703079   -0.937898           1.083425  0.374268  1.115259 -0.998788   \n",
       "4      -0.597357    1.066214          -0.922999  0.612854 -0.736605  1.209788   \n",
       "\n",
       "   hasStorageRoom  hasGuestRoom      price  Newer  Old  \n",
       "0       -0.926192     -0.704883  3436795.2      1    0  \n",
       "1       -0.926192      0.277042  9519958.0      1    0  \n",
       "2        1.079690      1.258967  9276448.1      1    0  \n",
       "3        1.079690      1.258967  9725732.2      1    0  \n",
       "4       -0.926192      0.604350  6181908.8      1    0  "
      ]
     },
     "execution_count": 30,
     "metadata": {},
     "output_type": "execute_result"
    }
   ],
   "source": [
    "train_df.head()"
   ]
  },
  {
   "cell_type": "markdown",
   "id": "813ee14b",
   "metadata": {
    "papermill": {
     "duration": 0.018959,
     "end_time": "2023-02-20T02:42:01.618469",
     "exception": false,
     "start_time": "2023-02-20T02:42:01.599510",
     "status": "completed"
    },
    "tags": []
   },
   "source": [
    "## Building Model"
   ]
  },
  {
   "cell_type": "code",
   "execution_count": 31,
   "id": "a93dc79d",
   "metadata": {
    "execution": {
     "iopub.execute_input": "2023-02-20T02:42:01.659508Z",
     "iopub.status.busy": "2023-02-20T02:42:01.659046Z",
     "iopub.status.idle": "2023-02-20T02:42:01.738679Z",
     "shell.execute_reply": "2023-02-20T02:42:01.737466Z"
    },
    "papermill": {
     "duration": 0.103371,
     "end_time": "2023-02-20T02:42:01.741568",
     "exception": false,
     "start_time": "2023-02-20T02:42:01.638197",
     "status": "completed"
    },
    "tags": []
   },
   "outputs": [],
   "source": [
    "from sklearn.model_selection import train_test_split\n",
    "## Spliting the data\n",
    "y = train_df['price']\n",
    "X = train_df.drop('price', axis=1)\n",
    "\n",
    "X_train, X_test, y_train, y_test = train_test_split(X, y, test_size= 0.20, random_state = 345)"
   ]
  },
  {
   "cell_type": "code",
   "execution_count": 32,
   "id": "931cf6b3",
   "metadata": {
    "execution": {
     "iopub.execute_input": "2023-02-20T02:42:01.782016Z",
     "iopub.status.busy": "2023-02-20T02:42:01.781609Z",
     "iopub.status.idle": "2023-02-20T02:42:01.788406Z",
     "shell.execute_reply": "2023-02-20T02:42:01.787057Z"
    },
    "papermill": {
     "duration": 0.030527,
     "end_time": "2023-02-20T02:42:01.791601",
     "exception": false,
     "start_time": "2023-02-20T02:42:01.761074",
     "status": "completed"
    },
    "tags": []
   },
   "outputs": [
    {
     "name": "stdout",
     "output_type": "stream",
     "text": [
      "X Train Shape : (18180, 16)\n",
      "y train Shape : (18180,)\n",
      "X Test Shape : (4545, 16)\n",
      "y Test Shape : (4545,)\n"
     ]
    }
   ],
   "source": [
    "print(\"X Train Shape : {}\".format(X_train.shape))\n",
    "print(\"y train Shape : {}\".format(y_train.shape))\n",
    "print(\"X Test Shape : {}\".format(X_test.shape))\n",
    "print(\"y Test Shape : {}\".format(y_test.shape))"
   ]
  },
  {
   "cell_type": "markdown",
   "id": "9984a677",
   "metadata": {
    "papermill": {
     "duration": 0.018847,
     "end_time": "2023-02-20T02:42:01.830728",
     "exception": false,
     "start_time": "2023-02-20T02:42:01.811881",
     "status": "completed"
    },
    "tags": []
   },
   "source": [
    "## DecisionTreeRegressor"
   ]
  },
  {
   "cell_type": "code",
   "execution_count": 33,
   "id": "08ca56ad",
   "metadata": {
    "execution": {
     "iopub.execute_input": "2023-02-20T02:42:01.872452Z",
     "iopub.status.busy": "2023-02-20T02:42:01.871961Z",
     "iopub.status.idle": "2023-02-20T02:42:02.209924Z",
     "shell.execute_reply": "2023-02-20T02:42:02.208767Z"
    },
    "papermill": {
     "duration": 0.362658,
     "end_time": "2023-02-20T02:42:02.212741",
     "exception": false,
     "start_time": "2023-02-20T02:42:01.850083",
     "status": "completed"
    },
    "tags": []
   },
   "outputs": [],
   "source": [
    "from sklearn.model_selection import train_test_split\n",
    "from sklearn.tree import DecisionTreeRegressor\n",
    "from sklearn.metrics import r2_score, mean_absolute_error, mean_squared_error,classification_report,accuracy_score\n",
    "\n",
    "mdl = DecisionTreeRegressor()\n",
    "\n",
    "# Training the model\n",
    "mdl.fit(X_train, y_train)\n",
    "pred = mdl.predict(X_test)"
   ]
  },
  {
   "cell_type": "code",
   "execution_count": 34,
   "id": "1886c3c0",
   "metadata": {
    "execution": {
     "iopub.execute_input": "2023-02-20T02:42:02.252763Z",
     "iopub.status.busy": "2023-02-20T02:42:02.252310Z",
     "iopub.status.idle": "2023-02-20T02:42:02.262414Z",
     "shell.execute_reply": "2023-02-20T02:42:02.261078Z"
    },
    "papermill": {
     "duration": 0.033196,
     "end_time": "2023-02-20T02:42:02.265048",
     "exception": false,
     "start_time": "2023-02-20T02:42:02.231852",
     "status": "completed"
    },
    "tags": []
   },
   "outputs": [
    {
     "name": "stdout",
     "output_type": "stream",
     "text": [
      "RMSE: 141638.90\n",
      "Variance Score R-Squared: 1.00\n",
      "MSE θ zero Intercept: 20061578325.00\n"
     ]
    }
   ],
   "source": [
    "print(\"RMSE: %.2f\" %(mean_squared_error(y_test, pred)) ** 0.5)\n",
    "print(\"Variance Score R-Squared: %.2f\" %r2_score(y_test,pred))\n",
    "print(\"MSE θ zero Intercept: %.2f\" %mean_squared_error(y_test, pred))\n"
   ]
  },
  {
   "cell_type": "code",
   "execution_count": 35,
   "id": "8a2f1e3b",
   "metadata": {
    "execution": {
     "iopub.execute_input": "2023-02-20T02:42:02.307460Z",
     "iopub.status.busy": "2023-02-20T02:42:02.306348Z",
     "iopub.status.idle": "2023-02-20T02:42:02.531809Z",
     "shell.execute_reply": "2023-02-20T02:42:02.530605Z"
    },
    "papermill": {
     "duration": 0.249118,
     "end_time": "2023-02-20T02:42:02.534413",
     "exception": false,
     "start_time": "2023-02-20T02:42:02.285295",
     "status": "completed"
    },
    "tags": []
   },
   "outputs": [
    {
     "data": {
      "image/png": "[encoded data removed]",
      "text/plain": [
       "<Figure size 432x288 with 1 Axes>"
      ]
     },
     "metadata": {
      "needs_background": "light"
     },
     "output_type": "display_data"
    }
   ],
   "source": [
    "plt.scatter(y_test, pred)\n",
    "plt.xlabel('Actual Values')\n",
    "plt.ylabel('Predicted Values')\n",
    "plt.show()"
   ]
  },
  {
   "cell_type": "markdown",
   "id": "6607102f",
   "metadata": {
    "papermill": {
     "duration": 0.01888,
     "end_time": "2023-02-20T02:42:02.573873",
     "exception": false,
     "start_time": "2023-02-20T02:42:02.554993",
     "status": "completed"
    },
    "tags": []
   },
   "source": [
    "### Prediction using test data\n"
   ]
  },
  {
   "cell_type": "code",
   "execution_count": 36,
   "id": "94a84c80",
   "metadata": {
    "execution": {
     "iopub.execute_input": "2023-02-20T02:42:02.615717Z",
     "iopub.status.busy": "2023-02-20T02:42:02.614464Z",
     "iopub.status.idle": "2023-02-20T02:42:02.630741Z",
     "shell.execute_reply": "2023-02-20T02:42:02.629676Z"
    },
    "papermill": {
     "duration": 0.040213,
     "end_time": "2023-02-20T02:42:02.633365",
     "exception": false,
     "start_time": "2023-02-20T02:42:02.593152",
     "status": "completed"
    },
    "tags": []
   },
   "outputs": [],
   "source": [
    "y_pred = mdl.predict(test_df)"
   ]
  },
  {
   "cell_type": "code",
   "execution_count": 37,
   "id": "f473f52a",
   "metadata": {
    "execution": {
     "iopub.execute_input": "2023-02-20T02:42:02.674681Z",
     "iopub.status.busy": "2023-02-20T02:42:02.674150Z",
     "iopub.status.idle": "2023-02-20T02:42:02.684281Z",
     "shell.execute_reply": "2023-02-20T02:42:02.682514Z"
    },
    "papermill": {
     "duration": 0.034367,
     "end_time": "2023-02-20T02:42:02.687188",
     "exception": false,
     "start_time": "2023-02-20T02:42:02.652821",
     "status": "completed"
    },
    "tags": []
   },
   "outputs": [],
   "source": [
    "dependent_var = pd.DataFrame(y_pred, columns =['price'])\n",
    "\n",
    "df = pd.concat([test,dependent_var],axis =1)"
   ]
  },
  {
   "cell_type": "code",
   "execution_count": 38,
   "id": "da10ff12",
   "metadata": {
    "execution": {
     "iopub.execute_input": "2023-02-20T02:42:02.741087Z",
     "iopub.status.busy": "2023-02-20T02:42:02.739978Z",
     "iopub.status.idle": "2023-02-20T02:42:02.748291Z",
     "shell.execute_reply": "2023-02-20T02:42:02.747069Z"
    },
    "papermill": {
     "duration": 0.042299,
     "end_time": "2023-02-20T02:42:02.751637",
     "exception": false,
     "start_time": "2023-02-20T02:42:02.709338",
     "status": "completed"
    },
    "tags": []
   },
   "outputs": [],
   "source": [
    "submission = df[[\"id\", \"price\"]]"
   ]
  },
  {
   "cell_type": "code",
   "execution_count": 39,
   "id": "9be8dab9",
   "metadata": {
    "execution": {
     "iopub.execute_input": "2023-02-20T02:42:02.801967Z",
     "iopub.status.busy": "2023-02-20T02:42:02.800583Z",
     "iopub.status.idle": "2023-02-20T02:42:02.813037Z",
     "shell.execute_reply": "2023-02-20T02:42:02.811795Z"
    },
    "papermill": {
     "duration": 0.036009,
     "end_time": "2023-02-20T02:42:02.815486",
     "exception": false,
     "start_time": "2023-02-20T02:42:02.779477",
     "status": "completed"
    },
    "tags": []
   },
   "outputs": [
    {
     "data": {
      "text/html": [
       "<div>\n",
       "<style scoped>\n",
       "    .dataframe tbody tr th:only-of-type {\n",
       "        vertical-align: middle;\n",
       "    }\n",
       "\n",
       "    .dataframe tbody tr th {\n",
       "        vertical-align: top;\n",
       "    }\n",
       "\n",
       "    .dataframe thead th {\n",
       "        text-align: right;\n",
       "    }\n",
       "</style>\n",
       "<table border=\"1\" class=\"dataframe\">\n",
       "  <thead>\n",
       "    <tr style=\"text-align: right;\">\n",
       "      <th></th>\n",
       "      <th>id</th>\n",
       "      <th>price</th>\n",
       "    </tr>\n",
       "  </thead>\n",
       "  <tbody>\n",
       "    <tr>\n",
       "      <th>0</th>\n",
       "      <td>22730</td>\n",
       "      <td>4984739.1</td>\n",
       "    </tr>\n",
       "    <tr>\n",
       "      <th>1</th>\n",
       "      <td>22731</td>\n",
       "      <td>7436951.4</td>\n",
       "    </tr>\n",
       "    <tr>\n",
       "      <th>2</th>\n",
       "      <td>22732</td>\n",
       "      <td>10004278.3</td>\n",
       "    </tr>\n",
       "    <tr>\n",
       "      <th>3</th>\n",
       "      <td>22733</td>\n",
       "      <td>10313.5</td>\n",
       "    </tr>\n",
       "    <tr>\n",
       "      <th>4</th>\n",
       "      <td>22734</td>\n",
       "      <td>8359050.2</td>\n",
       "    </tr>\n",
       "  </tbody>\n",
       "</table>\n",
       "</div>"
      ],
      "text/plain": [
       "      id       price\n",
       "0  22730   4984739.1\n",
       "1  22731   7436951.4\n",
       "2  22732  10004278.3\n",
       "3  22733     10313.5\n",
       "4  22734   8359050.2"
      ]
     },
     "execution_count": 39,
     "metadata": {},
     "output_type": "execute_result"
    }
   ],
   "source": [
    "submission.head()"
   ]
  },
  {
   "cell_type": "code",
   "execution_count": 40,
   "id": "94a412b3",
   "metadata": {
    "execution": {
     "iopub.execute_input": "2023-02-20T02:42:02.859215Z",
     "iopub.status.busy": "2023-02-20T02:42:02.858779Z",
     "iopub.status.idle": "2023-02-20T02:42:02.897243Z",
     "shell.execute_reply": "2023-02-20T02:42:02.896003Z"
    },
    "papermill": {
     "duration": 0.064402,
     "end_time": "2023-02-20T02:42:02.900211",
     "exception": false,
     "start_time": "2023-02-20T02:42:02.835809",
     "status": "completed"
    },
    "tags": []
   },
   "outputs": [],
   "source": [
    "submission.to_csv(\"submit.csv\", index=False)"
   ]
  }
 ],
 "metadata": {
  "kernelspec": {
   "display_name": "Python 3",
   "language": "python",
   "name": "python3"
  },
  "language_info": {
   "codemirror_mode": {
    "name": "ipython",
    "version": 3
   },
   "file_extension": ".py",
   "mimetype": "text/x-python",
   "name": "python",
   "nbconvert_exporter": "python",
   "pygments_lexer": "ipython3",
   "version": "3.7.12"
  },
  "papermill": {
   "default_parameters": {},
   "duration": 20.736294,
   "end_time": "2023-02-20T02:42:03.843321",
   "environment_variables": {},
   "exception": null,
   "input_path": "__notebook__.ipynb",
   "output_path": "__notebook__.ipynb",
   "parameters": {},
   "start_time": "2023-02-20T02:41:43.107027",
   "version": "2.3.4"
  }
 },
 "nbformat": 4,
 "nbformat_minor": 5
}
