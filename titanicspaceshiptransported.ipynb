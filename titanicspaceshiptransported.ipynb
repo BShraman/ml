{
 "cells": [
  {
   "cell_type": "markdown",
   "id": "5545a0c0",
   "metadata": {
    "papermill": {
     "duration": 0.011577,
     "end_time": "2023-01-20T02:41:05.731524",
     "exception": false,
     "start_time": "2023-01-20T02:41:05.719947",
     "status": "completed"
    },
    "tags": []
   },
   "source": [
    "# Importing Dataset"
   ]
  },
  {
   "cell_type": "code",
   "execution_count": 1,
   "id": "e2a6499a",
   "metadata": {
    "_cell_guid": "b1076dfc-b9ad-4769-8c92-a6c4dae69d19",
    "_uuid": "8f2839f25d086af736a60e9eeb907d3b93b6e0e5",
    "execution": {
     "iopub.execute_input": "2023-01-20T02:41:05.757153Z",
     "iopub.status.busy": "2023-01-20T02:41:05.756206Z",
     "iopub.status.idle": "2023-01-20T02:41:05.772832Z",
     "shell.execute_reply": "2023-01-20T02:41:05.771624Z"
    },
    "papermill": {
     "duration": 0.034257,
     "end_time": "2023-01-20T02:41:05.776275",
     "exception": false,
     "start_time": "2023-01-20T02:41:05.742018",
     "status": "completed"
    },
    "tags": []
   },
   "outputs": [
    {
     "name": "stdout",
     "output_type": "stream",
     "text": [
      "/kaggle/input/spaceship-titanic/sample_submission.csv\n",
      "/kaggle/input/spaceship-titanic/train.csv\n",
      "/kaggle/input/spaceship-titanic/test.csv\n"
     ]
    }
   ],
   "source": [
    "# This Python 3 environment comes with many helpful analytics libraries installed\n",
    "# It is defined by the kaggle/python Docker image: https://github.com/kaggle/docker-python\n",
    "# For example, here's several helpful packages to load\n",
    "\n",
    "import numpy as np # linear algebra\n",
    "import pandas as pd # data processing, CSV file I/O (e.g. pd.read_csv)\n",
    "\n",
    "# Input data files are available in the read-only \"../input/\" directory\n",
    "# For example, running this (by clicking run or pressing Shift+Enter) will list all files under the input directory\n",
    "\n",
    "import os\n",
    "for dirname, _, filenames in os.walk('/kaggle/input'):\n",
    "    for filename in filenames:\n",
    "        print(os.path.join(dirname, filename))\n",
    "\n",
    "# You can write up to 20GB to the current directory (/kaggle/working/) that gets preserved as output when you create a version using \"Save & Run All\" \n",
    "# You can also write temporary files to /kaggle/temp/, but they won't be saved outside of the current session"
   ]
  },
  {
   "cell_type": "code",
   "execution_count": 2,
   "id": "1df464e0",
   "metadata": {
    "execution": {
     "iopub.execute_input": "2023-01-20T02:41:05.800429Z",
     "iopub.status.busy": "2023-01-20T02:41:05.800040Z",
     "iopub.status.idle": "2023-01-20T02:41:05.873896Z",
     "shell.execute_reply": "2023-01-20T02:41:05.872839Z"
    },
    "papermill": {
     "duration": 0.0885,
     "end_time": "2023-01-20T02:41:05.876338",
     "exception": false,
     "start_time": "2023-01-20T02:41:05.787838",
     "status": "completed"
    },
    "tags": []
   },
   "outputs": [],
   "source": [
    "train = pd.read_csv(\"/kaggle/input/spaceship-titanic/train.csv\")\n",
    "test = pd.read_csv(\"/kaggle/input/spaceship-titanic/test.csv\")"
   ]
  },
  {
   "cell_type": "code",
   "execution_count": 3,
   "id": "e384a97a",
   "metadata": {
    "execution": {
     "iopub.execute_input": "2023-01-20T02:41:05.899433Z",
     "iopub.status.busy": "2023-01-20T02:41:05.899024Z",
     "iopub.status.idle": "2023-01-20T02:41:05.905371Z",
     "shell.execute_reply": "2023-01-20T02:41:05.904080Z"
    },
    "papermill": {
     "duration": 0.021334,
     "end_time": "2023-01-20T02:41:05.908180",
     "exception": false,
     "start_time": "2023-01-20T02:41:05.886846",
     "status": "completed"
    },
    "tags": []
   },
   "outputs": [
    {
     "name": "stdout",
     "output_type": "stream",
     "text": [
      "Train Dataset Shape : (8693, 14)\n",
      "Test Dataset Shape : (4277, 13)\n"
     ]
    }
   ],
   "source": [
    "print(\"Train Dataset Shape : {}\".format(train.shape))\n",
    "print(\"Test Dataset Shape : {}\".format(test.shape))"
   ]
  },
  {
   "cell_type": "markdown",
   "id": "72d6e1f0",
   "metadata": {
    "papermill": {
     "duration": 0.010697,
     "end_time": "2023-01-20T02:41:05.929440",
     "exception": false,
     "start_time": "2023-01-20T02:41:05.918743",
     "status": "completed"
    },
    "tags": []
   },
   "source": [
    "# Data Visualization and Wrangling "
   ]
  },
  {
   "cell_type": "code",
   "execution_count": 4,
   "id": "24cc0d2c",
   "metadata": {
    "execution": {
     "iopub.execute_input": "2023-01-20T02:41:05.953444Z",
     "iopub.status.busy": "2023-01-20T02:41:05.952366Z",
     "iopub.status.idle": "2023-01-20T02:41:05.983908Z",
     "shell.execute_reply": "2023-01-20T02:41:05.982685Z"
    },
    "papermill": {
     "duration": 0.046548,
     "end_time": "2023-01-20T02:41:05.986956",
     "exception": false,
     "start_time": "2023-01-20T02:41:05.940408",
     "status": "completed"
    },
    "tags": []
   },
   "outputs": [
    {
     "data": {
      "text/html": [
       "<div>\n",
       "<style scoped>\n",
       "    .dataframe tbody tr th:only-of-type {\n",
       "        vertical-align: middle;\n",
       "    }\n",
       "\n",
       "    .dataframe tbody tr th {\n",
       "        vertical-align: top;\n",
       "    }\n",
       "\n",
       "    .dataframe thead th {\n",
       "        text-align: right;\n",
       "    }\n",
       "</style>\n",
       "<table border=\"1\" class=\"dataframe\">\n",
       "  <thead>\n",
       "    <tr style=\"text-align: right;\">\n",
       "      <th></th>\n",
       "      <th>PassengerId</th>\n",
       "      <th>HomePlanet</th>\n",
       "      <th>CryoSleep</th>\n",
       "      <th>Cabin</th>\n",
       "      <th>Destination</th>\n",
       "      <th>Age</th>\n",
       "      <th>VIP</th>\n",
       "      <th>RoomService</th>\n",
       "      <th>FoodCourt</th>\n",
       "      <th>ShoppingMall</th>\n",
       "      <th>Spa</th>\n",
       "      <th>VRDeck</th>\n",
       "      <th>Name</th>\n",
       "      <th>Transported</th>\n",
       "    </tr>\n",
       "  </thead>\n",
       "  <tbody>\n",
       "    <tr>\n",
       "      <th>0</th>\n",
       "      <td>0001_01</td>\n",
       "      <td>Europa</td>\n",
       "      <td>False</td>\n",
       "      <td>B/0/P</td>\n",
       "      <td>TRAPPIST-1e</td>\n",
       "      <td>39.0</td>\n",
       "      <td>False</td>\n",
       "      <td>0.0</td>\n",
       "      <td>0.0</td>\n",
       "      <td>0.0</td>\n",
       "      <td>0.0</td>\n",
       "      <td>0.0</td>\n",
       "      <td>Maham Ofracculy</td>\n",
       "      <td>False</td>\n",
       "    </tr>\n",
       "    <tr>\n",
       "      <th>1</th>\n",
       "      <td>0002_01</td>\n",
       "      <td>Earth</td>\n",
       "      <td>False</td>\n",
       "      <td>F/0/S</td>\n",
       "      <td>TRAPPIST-1e</td>\n",
       "      <td>24.0</td>\n",
       "      <td>False</td>\n",
       "      <td>109.0</td>\n",
       "      <td>9.0</td>\n",
       "      <td>25.0</td>\n",
       "      <td>549.0</td>\n",
       "      <td>44.0</td>\n",
       "      <td>Juanna Vines</td>\n",
       "      <td>True</td>\n",
       "    </tr>\n",
       "    <tr>\n",
       "      <th>2</th>\n",
       "      <td>0003_01</td>\n",
       "      <td>Europa</td>\n",
       "      <td>False</td>\n",
       "      <td>A/0/S</td>\n",
       "      <td>TRAPPIST-1e</td>\n",
       "      <td>58.0</td>\n",
       "      <td>True</td>\n",
       "      <td>43.0</td>\n",
       "      <td>3576.0</td>\n",
       "      <td>0.0</td>\n",
       "      <td>6715.0</td>\n",
       "      <td>49.0</td>\n",
       "      <td>Altark Susent</td>\n",
       "      <td>False</td>\n",
       "    </tr>\n",
       "    <tr>\n",
       "      <th>3</th>\n",
       "      <td>0003_02</td>\n",
       "      <td>Europa</td>\n",
       "      <td>False</td>\n",
       "      <td>A/0/S</td>\n",
       "      <td>TRAPPIST-1e</td>\n",
       "      <td>33.0</td>\n",
       "      <td>False</td>\n",
       "      <td>0.0</td>\n",
       "      <td>1283.0</td>\n",
       "      <td>371.0</td>\n",
       "      <td>3329.0</td>\n",
       "      <td>193.0</td>\n",
       "      <td>Solam Susent</td>\n",
       "      <td>False</td>\n",
       "    </tr>\n",
       "    <tr>\n",
       "      <th>4</th>\n",
       "      <td>0004_01</td>\n",
       "      <td>Earth</td>\n",
       "      <td>False</td>\n",
       "      <td>F/1/S</td>\n",
       "      <td>TRAPPIST-1e</td>\n",
       "      <td>16.0</td>\n",
       "      <td>False</td>\n",
       "      <td>303.0</td>\n",
       "      <td>70.0</td>\n",
       "      <td>151.0</td>\n",
       "      <td>565.0</td>\n",
       "      <td>2.0</td>\n",
       "      <td>Willy Santantines</td>\n",
       "      <td>True</td>\n",
       "    </tr>\n",
       "  </tbody>\n",
       "</table>\n",
       "</div>"
      ],
      "text/plain": [
       "  PassengerId HomePlanet CryoSleep  Cabin  Destination   Age    VIP  \\\n",
       "0     0001_01     Europa     False  B/0/P  TRAPPIST-1e  39.0  False   \n",
       "1     0002_01      Earth     False  F/0/S  TRAPPIST-1e  24.0  False   \n",
       "2     0003_01     Europa     False  A/0/S  TRAPPIST-1e  58.0   True   \n",
       "3     0003_02     Europa     False  A/0/S  TRAPPIST-1e  33.0  False   \n",
       "4     0004_01      Earth     False  F/1/S  TRAPPIST-1e  16.0  False   \n",
       "\n",
       "   RoomService  FoodCourt  ShoppingMall     Spa  VRDeck               Name  \\\n",
       "0          0.0        0.0           0.0     0.0     0.0    Maham Ofracculy   \n",
       "1        109.0        9.0          25.0   549.0    44.0       Juanna Vines   \n",
       "2         43.0     3576.0           0.0  6715.0    49.0      Altark Susent   \n",
       "3          0.0     1283.0         371.0  3329.0   193.0       Solam Susent   \n",
       "4        303.0       70.0         151.0   565.0     2.0  Willy Santantines   \n",
       "\n",
       "   Transported  \n",
       "0        False  \n",
       "1         True  \n",
       "2        False  \n",
       "3        False  \n",
       "4         True  "
      ]
     },
     "execution_count": 4,
     "metadata": {},
     "output_type": "execute_result"
    }
   ],
   "source": [
    "train.head()"
   ]
  },
  {
   "cell_type": "code",
   "execution_count": 5,
   "id": "e42cc0d1",
   "metadata": {
    "execution": {
     "iopub.execute_input": "2023-01-20T02:41:06.011240Z",
     "iopub.status.busy": "2023-01-20T02:41:06.010841Z",
     "iopub.status.idle": "2023-01-20T02:41:06.032206Z",
     "shell.execute_reply": "2023-01-20T02:41:06.031059Z"
    },
    "papermill": {
     "duration": 0.036039,
     "end_time": "2023-01-20T02:41:06.034484",
     "exception": false,
     "start_time": "2023-01-20T02:41:05.998445",
     "status": "completed"
    },
    "tags": []
   },
   "outputs": [
    {
     "data": {
      "text/html": [
       "<div>\n",
       "<style scoped>\n",
       "    .dataframe tbody tr th:only-of-type {\n",
       "        vertical-align: middle;\n",
       "    }\n",
       "\n",
       "    .dataframe tbody tr th {\n",
       "        vertical-align: top;\n",
       "    }\n",
       "\n",
       "    .dataframe thead th {\n",
       "        text-align: right;\n",
       "    }\n",
       "</style>\n",
       "<table border=\"1\" class=\"dataframe\">\n",
       "  <thead>\n",
       "    <tr style=\"text-align: right;\">\n",
       "      <th></th>\n",
       "      <th>PassengerId</th>\n",
       "      <th>HomePlanet</th>\n",
       "      <th>CryoSleep</th>\n",
       "      <th>Cabin</th>\n",
       "      <th>Destination</th>\n",
       "      <th>Age</th>\n",
       "      <th>VIP</th>\n",
       "      <th>RoomService</th>\n",
       "      <th>FoodCourt</th>\n",
       "      <th>ShoppingMall</th>\n",
       "      <th>Spa</th>\n",
       "      <th>VRDeck</th>\n",
       "      <th>Name</th>\n",
       "    </tr>\n",
       "  </thead>\n",
       "  <tbody>\n",
       "    <tr>\n",
       "      <th>0</th>\n",
       "      <td>0013_01</td>\n",
       "      <td>Earth</td>\n",
       "      <td>True</td>\n",
       "      <td>G/3/S</td>\n",
       "      <td>TRAPPIST-1e</td>\n",
       "      <td>27.0</td>\n",
       "      <td>False</td>\n",
       "      <td>0.0</td>\n",
       "      <td>0.0</td>\n",
       "      <td>0.0</td>\n",
       "      <td>0.0</td>\n",
       "      <td>0.0</td>\n",
       "      <td>Nelly Carsoning</td>\n",
       "    </tr>\n",
       "    <tr>\n",
       "      <th>1</th>\n",
       "      <td>0018_01</td>\n",
       "      <td>Earth</td>\n",
       "      <td>False</td>\n",
       "      <td>F/4/S</td>\n",
       "      <td>TRAPPIST-1e</td>\n",
       "      <td>19.0</td>\n",
       "      <td>False</td>\n",
       "      <td>0.0</td>\n",
       "      <td>9.0</td>\n",
       "      <td>0.0</td>\n",
       "      <td>2823.0</td>\n",
       "      <td>0.0</td>\n",
       "      <td>Lerome Peckers</td>\n",
       "    </tr>\n",
       "    <tr>\n",
       "      <th>2</th>\n",
       "      <td>0019_01</td>\n",
       "      <td>Europa</td>\n",
       "      <td>True</td>\n",
       "      <td>C/0/S</td>\n",
       "      <td>55 Cancri e</td>\n",
       "      <td>31.0</td>\n",
       "      <td>False</td>\n",
       "      <td>0.0</td>\n",
       "      <td>0.0</td>\n",
       "      <td>0.0</td>\n",
       "      <td>0.0</td>\n",
       "      <td>0.0</td>\n",
       "      <td>Sabih Unhearfus</td>\n",
       "    </tr>\n",
       "    <tr>\n",
       "      <th>3</th>\n",
       "      <td>0021_01</td>\n",
       "      <td>Europa</td>\n",
       "      <td>False</td>\n",
       "      <td>C/1/S</td>\n",
       "      <td>TRAPPIST-1e</td>\n",
       "      <td>38.0</td>\n",
       "      <td>False</td>\n",
       "      <td>0.0</td>\n",
       "      <td>6652.0</td>\n",
       "      <td>0.0</td>\n",
       "      <td>181.0</td>\n",
       "      <td>585.0</td>\n",
       "      <td>Meratz Caltilter</td>\n",
       "    </tr>\n",
       "    <tr>\n",
       "      <th>4</th>\n",
       "      <td>0023_01</td>\n",
       "      <td>Earth</td>\n",
       "      <td>False</td>\n",
       "      <td>F/5/S</td>\n",
       "      <td>TRAPPIST-1e</td>\n",
       "      <td>20.0</td>\n",
       "      <td>False</td>\n",
       "      <td>10.0</td>\n",
       "      <td>0.0</td>\n",
       "      <td>635.0</td>\n",
       "      <td>0.0</td>\n",
       "      <td>0.0</td>\n",
       "      <td>Brence Harperez</td>\n",
       "    </tr>\n",
       "  </tbody>\n",
       "</table>\n",
       "</div>"
      ],
      "text/plain": [
       "  PassengerId HomePlanet CryoSleep  Cabin  Destination   Age    VIP  \\\n",
       "0     0013_01      Earth      True  G/3/S  TRAPPIST-1e  27.0  False   \n",
       "1     0018_01      Earth     False  F/4/S  TRAPPIST-1e  19.0  False   \n",
       "2     0019_01     Europa      True  C/0/S  55 Cancri e  31.0  False   \n",
       "3     0021_01     Europa     False  C/1/S  TRAPPIST-1e  38.0  False   \n",
       "4     0023_01      Earth     False  F/5/S  TRAPPIST-1e  20.0  False   \n",
       "\n",
       "   RoomService  FoodCourt  ShoppingMall     Spa  VRDeck              Name  \n",
       "0          0.0        0.0           0.0     0.0     0.0   Nelly Carsoning  \n",
       "1          0.0        9.0           0.0  2823.0     0.0    Lerome Peckers  \n",
       "2          0.0        0.0           0.0     0.0     0.0   Sabih Unhearfus  \n",
       "3          0.0     6652.0           0.0   181.0   585.0  Meratz Caltilter  \n",
       "4         10.0        0.0         635.0     0.0     0.0   Brence Harperez  "
      ]
     },
     "execution_count": 5,
     "metadata": {},
     "output_type": "execute_result"
    }
   ],
   "source": [
    "test.head()"
   ]
  },
  {
   "cell_type": "markdown",
   "id": "f9b6703b",
   "metadata": {
    "papermill": {
     "duration": 0.010765,
     "end_time": "2023-01-20T02:41:06.056404",
     "exception": false,
     "start_time": "2023-01-20T02:41:06.045639",
     "status": "completed"
    },
    "tags": []
   },
   "source": [
    "### Dropping Unrelate Features "
   ]
  },
  {
   "cell_type": "code",
   "execution_count": 6,
   "id": "b48f9239",
   "metadata": {
    "execution": {
     "iopub.execute_input": "2023-01-20T02:41:06.080431Z",
     "iopub.status.busy": "2023-01-20T02:41:06.080014Z",
     "iopub.status.idle": "2023-01-20T02:41:06.092279Z",
     "shell.execute_reply": "2023-01-20T02:41:06.091368Z"
    },
    "papermill": {
     "duration": 0.026815,
     "end_time": "2023-01-20T02:41:06.094350",
     "exception": false,
     "start_time": "2023-01-20T02:41:06.067535",
     "status": "completed"
    },
    "tags": []
   },
   "outputs": [],
   "source": [
    "drop_list = ['PassengerId','Cabin','Name']\n",
    "train_df = train.drop(drop_list, axis=1)\n",
    "test_df = test.drop(drop_list, axis=1)\n",
    "#train_df = train\n",
    "#test_df = test"
   ]
  },
  {
   "cell_type": "code",
   "execution_count": 7,
   "id": "db85a362",
   "metadata": {
    "execution": {
     "iopub.execute_input": "2023-01-20T02:41:06.118767Z",
     "iopub.status.busy": "2023-01-20T02:41:06.118061Z",
     "iopub.status.idle": "2023-01-20T02:41:06.123829Z",
     "shell.execute_reply": "2023-01-20T02:41:06.122685Z"
    },
    "papermill": {
     "duration": 0.020733,
     "end_time": "2023-01-20T02:41:06.126273",
     "exception": false,
     "start_time": "2023-01-20T02:41:06.105540",
     "status": "completed"
    },
    "tags": []
   },
   "outputs": [
    {
     "name": "stdout",
     "output_type": "stream",
     "text": [
      "Train Dataset Shape : (8693, 11)\n",
      "Test Dataset Shape : (4277, 10)\n"
     ]
    }
   ],
   "source": [
    "print(\"Train Dataset Shape : {}\".format(train_df.shape))\n",
    "print(\"Test Dataset Shape : {}\".format(test_df.shape))"
   ]
  },
  {
   "cell_type": "markdown",
   "id": "f5fbaddf",
   "metadata": {
    "papermill": {
     "duration": 0.010817,
     "end_time": "2023-01-20T02:41:06.148514",
     "exception": false,
     "start_time": "2023-01-20T02:41:06.137697",
     "status": "completed"
    },
    "tags": []
   },
   "source": [
    "### NaN Value"
   ]
  },
  {
   "cell_type": "code",
   "execution_count": 8,
   "id": "78d54cc8",
   "metadata": {
    "execution": {
     "iopub.execute_input": "2023-01-20T02:41:06.172842Z",
     "iopub.status.busy": "2023-01-20T02:41:06.172065Z",
     "iopub.status.idle": "2023-01-20T02:41:06.184345Z",
     "shell.execute_reply": "2023-01-20T02:41:06.183294Z"
    },
    "papermill": {
     "duration": 0.026838,
     "end_time": "2023-01-20T02:41:06.186542",
     "exception": false,
     "start_time": "2023-01-20T02:41:06.159704",
     "status": "completed"
    },
    "tags": []
   },
   "outputs": [
    {
     "data": {
      "text/plain": [
       "CryoSleep       217\n",
       "ShoppingMall    208\n",
       "VIP             203\n",
       "HomePlanet      201\n",
       "VRDeck          188\n",
       "FoodCourt       183\n",
       "Spa             183\n",
       "Destination     182\n",
       "RoomService     181\n",
       "Age             179\n",
       "Transported       0\n",
       "dtype: int64"
      ]
     },
     "execution_count": 8,
     "metadata": {},
     "output_type": "execute_result"
    }
   ],
   "source": [
    "train_df.isnull().sum().sort_values(ascending=False)"
   ]
  },
  {
   "cell_type": "code",
   "execution_count": 9,
   "id": "f8b6d61e",
   "metadata": {
    "execution": {
     "iopub.execute_input": "2023-01-20T02:41:06.211082Z",
     "iopub.status.busy": "2023-01-20T02:41:06.210624Z",
     "iopub.status.idle": "2023-01-20T02:41:06.222740Z",
     "shell.execute_reply": "2023-01-20T02:41:06.221450Z"
    },
    "papermill": {
     "duration": 0.027157,
     "end_time": "2023-01-20T02:41:06.225095",
     "exception": false,
     "start_time": "2023-01-20T02:41:06.197938",
     "status": "completed"
    },
    "tags": []
   },
   "outputs": [
    {
     "data": {
      "text/plain": [
       "FoodCourt       106\n",
       "Spa             101\n",
       "ShoppingMall     98\n",
       "CryoSleep        93\n",
       "VIP              93\n",
       "Destination      92\n",
       "Age              91\n",
       "HomePlanet       87\n",
       "RoomService      82\n",
       "VRDeck           80\n",
       "dtype: int64"
      ]
     },
     "execution_count": 9,
     "metadata": {},
     "output_type": "execute_result"
    }
   ],
   "source": [
    "test_df.isnull().sum().sort_values(ascending=False)"
   ]
  },
  {
   "cell_type": "code",
   "execution_count": 10,
   "id": "3c1e3286",
   "metadata": {
    "execution": {
     "iopub.execute_input": "2023-01-20T02:41:06.249988Z",
     "iopub.status.busy": "2023-01-20T02:41:06.249520Z",
     "iopub.status.idle": "2023-01-20T02:41:06.259159Z",
     "shell.execute_reply": "2023-01-20T02:41:06.257984Z"
    },
    "papermill": {
     "duration": 0.025004,
     "end_time": "2023-01-20T02:41:06.261552",
     "exception": false,
     "start_time": "2023-01-20T02:41:06.236548",
     "status": "completed"
    },
    "tags": []
   },
   "outputs": [],
   "source": [
    "def nan_features(df):\n",
    "    \n",
    "    nullCheck_list=[]\n",
    "    nullCheck = df.isnull().sum() / len(df) \n",
    "\n",
    "    # Checking any column with more then 50% Null Value\n",
    "    cols = nullCheck[nullCheck > 0.5].index\n",
    "    if len(cols) > 0:\n",
    "        for col in cols:\n",
    "            print(\"Features with More then 50% for NaN value : {}\".format(col))\n",
    "            df = df.drop(col, axis=1)\n",
    "        \n",
    "    else:\n",
    "        print(\"\\n No Features Exceeded Threshold\")\n",
    "    \n",
    "    # Checking for any Null Value \n",
    "    F_fill = 'object'      \n",
    "    M_fill = 'float64'\n",
    "    cols = nullCheck[nullCheck > 0].index\n",
    "    if len(cols) > 0:\n",
    "        for col in cols:\n",
    "            if df.dtypes[col] == F_fill:\n",
    "                print(\"Features with NaN value with Object Datatype: {}\".format(col))\n",
    "                df[col] = df[col].fillna(method='ffill')\n",
    "            else:\n",
    "                print(\"Features with NaN value with Numerical Datatype : {}\".format(col))\n",
    "                df[col] = df[col].fillna(df[col].mean())\n",
    "    \n",
    "    return df"
   ]
  },
  {
   "cell_type": "code",
   "execution_count": 11,
   "id": "1a2edc90",
   "metadata": {
    "execution": {
     "iopub.execute_input": "2023-01-20T02:41:06.286509Z",
     "iopub.status.busy": "2023-01-20T02:41:06.286053Z",
     "iopub.status.idle": "2023-01-20T02:41:06.320869Z",
     "shell.execute_reply": "2023-01-20T02:41:06.319994Z"
    },
    "papermill": {
     "duration": 0.050465,
     "end_time": "2023-01-20T02:41:06.323477",
     "exception": false,
     "start_time": "2023-01-20T02:41:06.273012",
     "status": "completed"
    },
    "tags": []
   },
   "outputs": [
    {
     "name": "stdout",
     "output_type": "stream",
     "text": [
      "\n",
      " No Features Exceeded Threshold\n",
      "Features with NaN value with Object Datatype: HomePlanet\n",
      "Features with NaN value with Object Datatype: CryoSleep\n",
      "Features with NaN value with Object Datatype: Destination\n",
      "Features with NaN value with Numerical Datatype : Age\n",
      "Features with NaN value with Object Datatype: VIP\n",
      "Features with NaN value with Numerical Datatype : RoomService\n",
      "Features with NaN value with Numerical Datatype : FoodCourt\n",
      "Features with NaN value with Numerical Datatype : ShoppingMall\n",
      "Features with NaN value with Numerical Datatype : Spa\n",
      "Features with NaN value with Numerical Datatype : VRDeck\n",
      "\n",
      " No Features Exceeded Threshold\n",
      "Features with NaN value with Object Datatype: HomePlanet\n",
      "Features with NaN value with Object Datatype: CryoSleep\n",
      "Features with NaN value with Object Datatype: Destination\n",
      "Features with NaN value with Numerical Datatype : Age\n",
      "Features with NaN value with Object Datatype: VIP\n",
      "Features with NaN value with Numerical Datatype : RoomService\n",
      "Features with NaN value with Numerical Datatype : FoodCourt\n",
      "Features with NaN value with Numerical Datatype : ShoppingMall\n",
      "Features with NaN value with Numerical Datatype : Spa\n",
      "Features with NaN value with Numerical Datatype : VRDeck\n"
     ]
    }
   ],
   "source": [
    "#  Filling all the Null value \n",
    "# \"forward fill method\" for all features with data type Object\n",
    "# \"Mean\" for all the Numerical Features\n",
    "train_df = nan_features(train_df)\n",
    "test_df = nan_features(test_df)"
   ]
  },
  {
   "cell_type": "code",
   "execution_count": 12,
   "id": "9e32ed77",
   "metadata": {
    "execution": {
     "iopub.execute_input": "2023-01-20T02:41:06.349022Z",
     "iopub.status.busy": "2023-01-20T02:41:06.347861Z",
     "iopub.status.idle": "2023-01-20T02:41:06.358822Z",
     "shell.execute_reply": "2023-01-20T02:41:06.358012Z"
    },
    "papermill": {
     "duration": 0.025784,
     "end_time": "2023-01-20T02:41:06.360815",
     "exception": false,
     "start_time": "2023-01-20T02:41:06.335031",
     "status": "completed"
    },
    "tags": []
   },
   "outputs": [
    {
     "data": {
      "text/plain": [
       "HomePlanet      0\n",
       "CryoSleep       0\n",
       "Destination     0\n",
       "Age             0\n",
       "VIP             0\n",
       "RoomService     0\n",
       "FoodCourt       0\n",
       "ShoppingMall    0\n",
       "Spa             0\n",
       "VRDeck          0\n",
       "Transported     0\n",
       "dtype: int64"
      ]
     },
     "execution_count": 12,
     "metadata": {},
     "output_type": "execute_result"
    }
   ],
   "source": [
    "train_df.isnull().sum().sort_values(ascending=False)"
   ]
  },
  {
   "cell_type": "code",
   "execution_count": 13,
   "id": "d90bbeb5",
   "metadata": {
    "execution": {
     "iopub.execute_input": "2023-01-20T02:41:06.386651Z",
     "iopub.status.busy": "2023-01-20T02:41:06.386154Z",
     "iopub.status.idle": "2023-01-20T02:41:06.397939Z",
     "shell.execute_reply": "2023-01-20T02:41:06.396738Z"
    },
    "papermill": {
     "duration": 0.027416,
     "end_time": "2023-01-20T02:41:06.400543",
     "exception": false,
     "start_time": "2023-01-20T02:41:06.373127",
     "status": "completed"
    },
    "tags": []
   },
   "outputs": [
    {
     "data": {
      "text/plain": [
       "HomePlanet      0\n",
       "CryoSleep       0\n",
       "Destination     0\n",
       "Age             0\n",
       "VIP             0\n",
       "RoomService     0\n",
       "FoodCourt       0\n",
       "ShoppingMall    0\n",
       "Spa             0\n",
       "VRDeck          0\n",
       "dtype: int64"
      ]
     },
     "execution_count": 13,
     "metadata": {},
     "output_type": "execute_result"
    }
   ],
   "source": [
    "test_df.isnull().sum().sort_values(ascending=False)"
   ]
  },
  {
   "cell_type": "code",
   "execution_count": 14,
   "id": "3ec09329",
   "metadata": {
    "execution": {
     "iopub.execute_input": "2023-01-20T02:41:06.425868Z",
     "iopub.status.busy": "2023-01-20T02:41:06.425436Z",
     "iopub.status.idle": "2023-01-20T02:41:07.626672Z",
     "shell.execute_reply": "2023-01-20T02:41:07.625272Z"
    },
    "papermill": {
     "duration": 1.216521,
     "end_time": "2023-01-20T02:41:07.629081",
     "exception": false,
     "start_time": "2023-01-20T02:41:06.412560",
     "status": "completed"
    },
    "tags": []
   },
   "outputs": [
    {
     "data": {
      "text/plain": [
       "<AxesSubplot:xlabel='HomePlanet', ylabel='count'>"
      ]
     },
     "execution_count": 14,
     "metadata": {},
     "output_type": "execute_result"
    },
    {
     "data": {
      "image/png": "[encoded data removed]",
      "text/plain": [
       "<Figure size 432x288 with 1 Axes>"
      ]
     },
     "metadata": {
      "needs_background": "light"
     },
     "output_type": "display_data"
    }
   ],
   "source": [
    "import seaborn as sns\n",
    "\n",
    "sns.countplot(data = train_df, x = 'HomePlanet', hue='Transported')"
   ]
  },
  {
   "cell_type": "code",
   "execution_count": 15,
   "id": "5c5dcc74",
   "metadata": {
    "execution": {
     "iopub.execute_input": "2023-01-20T02:41:07.655338Z",
     "iopub.status.busy": "2023-01-20T02:41:07.654885Z",
     "iopub.status.idle": "2023-01-20T02:41:07.892330Z",
     "shell.execute_reply": "2023-01-20T02:41:07.891021Z"
    },
    "papermill": {
     "duration": 0.253683,
     "end_time": "2023-01-20T02:41:07.895002",
     "exception": false,
     "start_time": "2023-01-20T02:41:07.641319",
     "status": "completed"
    },
    "tags": []
   },
   "outputs": [
    {
     "data": {
      "text/plain": [
       "<AxesSubplot:xlabel='CryoSleep', ylabel='count'>"
      ]
     },
     "execution_count": 15,
     "metadata": {},
     "output_type": "execute_result"
    },
    {
     "data": {
      "image/png": "[encoded data removed]",
      "text/plain": [
       "<Figure size 432x288 with 1 Axes>"
      ]
     },
     "metadata": {
      "needs_background": "light"
     },
     "output_type": "display_data"
    }
   ],
   "source": [
    "sns.countplot(data = train_df, x = 'CryoSleep', hue='Transported')"
   ]
  },
  {
   "cell_type": "code",
   "execution_count": 16,
   "id": "9760a1c3",
   "metadata": {
    "execution": {
     "iopub.execute_input": "2023-01-20T02:41:07.922014Z",
     "iopub.status.busy": "2023-01-20T02:41:07.921575Z",
     "iopub.status.idle": "2023-01-20T02:41:08.170583Z",
     "shell.execute_reply": "2023-01-20T02:41:08.169280Z"
    },
    "papermill": {
     "duration": 0.265622,
     "end_time": "2023-01-20T02:41:08.173340",
     "exception": false,
     "start_time": "2023-01-20T02:41:07.907718",
     "status": "completed"
    },
    "tags": []
   },
   "outputs": [
    {
     "data": {
      "text/plain": [
       "<AxesSubplot:xlabel='Destination', ylabel='count'>"
      ]
     },
     "execution_count": 16,
     "metadata": {},
     "output_type": "execute_result"
    },
    {
     "data": {
      "image/png": "[encoded data removed]",
      "text/plain": [
       "<Figure size 432x288 with 1 Axes>"
      ]
     },
     "metadata": {
      "needs_background": "light"
     },
     "output_type": "display_data"
    }
   ],
   "source": [
    "sns.countplot(data = train_df, x = 'Destination', hue='Transported')"
   ]
  },
  {
   "cell_type": "code",
   "execution_count": 17,
   "id": "a148ba00",
   "metadata": {
    "execution": {
     "iopub.execute_input": "2023-01-20T02:41:08.201562Z",
     "iopub.status.busy": "2023-01-20T02:41:08.201105Z",
     "iopub.status.idle": "2023-01-20T02:41:08.359926Z",
     "shell.execute_reply": "2023-01-20T02:41:08.358534Z"
    },
    "papermill": {
     "duration": 0.175809,
     "end_time": "2023-01-20T02:41:08.362598",
     "exception": false,
     "start_time": "2023-01-20T02:41:08.186789",
     "status": "completed"
    },
    "tags": []
   },
   "outputs": [
    {
     "data": {
      "image/png": "[encoded data removed]",
      "text/plain": [
       "<Figure size 432x288 with 1 Axes>"
      ]
     },
     "metadata": {
      "needs_background": "light"
     },
     "output_type": "display_data"
    }
   ],
   "source": [
    "import matplotlib.pyplot as plt\n",
    "\n",
    "sns.boxplot(data = train_df , y = 'Age', x = 'Transported');"
   ]
  },
  {
   "cell_type": "code",
   "execution_count": 18,
   "id": "8eab7a28",
   "metadata": {
    "execution": {
     "iopub.execute_input": "2023-01-20T02:41:08.391390Z",
     "iopub.status.busy": "2023-01-20T02:41:08.390611Z",
     "iopub.status.idle": "2023-01-20T02:41:08.540338Z",
     "shell.execute_reply": "2023-01-20T02:41:08.539433Z"
    },
    "papermill": {
     "duration": 0.167022,
     "end_time": "2023-01-20T02:41:08.542752",
     "exception": false,
     "start_time": "2023-01-20T02:41:08.375730",
     "status": "completed"
    },
    "tags": []
   },
   "outputs": [
    {
     "data": {
      "text/plain": [
       "<AxesSubplot:xlabel='VIP', ylabel='count'>"
      ]
     },
     "execution_count": 18,
     "metadata": {},
     "output_type": "execute_result"
    },
    {
     "data": {
      "image/png": "[encoded data removed]",
      "text/plain": [
       "<Figure size 432x288 with 1 Axes>"
      ]
     },
     "metadata": {
      "needs_background": "light"
     },
     "output_type": "display_data"
    }
   ],
   "source": [
    "sns.countplot(data = train_df, x = 'VIP', hue='Transported')"
   ]
  },
  {
   "cell_type": "code",
   "execution_count": 19,
   "id": "bd1f1c88",
   "metadata": {
    "execution": {
     "iopub.execute_input": "2023-01-20T02:41:08.571771Z",
     "iopub.status.busy": "2023-01-20T02:41:08.571323Z",
     "iopub.status.idle": "2023-01-20T02:41:08.590573Z",
     "shell.execute_reply": "2023-01-20T02:41:08.589330Z"
    },
    "papermill": {
     "duration": 0.036704,
     "end_time": "2023-01-20T02:41:08.592964",
     "exception": false,
     "start_time": "2023-01-20T02:41:08.556260",
     "status": "completed"
    },
    "tags": []
   },
   "outputs": [
    {
     "data": {
      "text/html": [
       "<div>\n",
       "<style scoped>\n",
       "    .dataframe tbody tr th:only-of-type {\n",
       "        vertical-align: middle;\n",
       "    }\n",
       "\n",
       "    .dataframe tbody tr th {\n",
       "        vertical-align: top;\n",
       "    }\n",
       "\n",
       "    .dataframe thead th {\n",
       "        text-align: right;\n",
       "    }\n",
       "</style>\n",
       "<table border=\"1\" class=\"dataframe\">\n",
       "  <thead>\n",
       "    <tr style=\"text-align: right;\">\n",
       "      <th></th>\n",
       "      <th>HomePlanet</th>\n",
       "      <th>CryoSleep</th>\n",
       "      <th>Destination</th>\n",
       "      <th>Age</th>\n",
       "      <th>VIP</th>\n",
       "      <th>RoomService</th>\n",
       "      <th>FoodCourt</th>\n",
       "      <th>ShoppingMall</th>\n",
       "      <th>Spa</th>\n",
       "      <th>VRDeck</th>\n",
       "      <th>Transported</th>\n",
       "    </tr>\n",
       "  </thead>\n",
       "  <tbody>\n",
       "    <tr>\n",
       "      <th>0</th>\n",
       "      <td>Europa</td>\n",
       "      <td>False</td>\n",
       "      <td>TRAPPIST-1e</td>\n",
       "      <td>39.0</td>\n",
       "      <td>False</td>\n",
       "      <td>0.0</td>\n",
       "      <td>0.0</td>\n",
       "      <td>0.0</td>\n",
       "      <td>0.0</td>\n",
       "      <td>0.0</td>\n",
       "      <td>False</td>\n",
       "    </tr>\n",
       "    <tr>\n",
       "      <th>1</th>\n",
       "      <td>Earth</td>\n",
       "      <td>False</td>\n",
       "      <td>TRAPPIST-1e</td>\n",
       "      <td>24.0</td>\n",
       "      <td>False</td>\n",
       "      <td>109.0</td>\n",
       "      <td>9.0</td>\n",
       "      <td>25.0</td>\n",
       "      <td>549.0</td>\n",
       "      <td>44.0</td>\n",
       "      <td>True</td>\n",
       "    </tr>\n",
       "    <tr>\n",
       "      <th>2</th>\n",
       "      <td>Europa</td>\n",
       "      <td>False</td>\n",
       "      <td>TRAPPIST-1e</td>\n",
       "      <td>58.0</td>\n",
       "      <td>True</td>\n",
       "      <td>43.0</td>\n",
       "      <td>3576.0</td>\n",
       "      <td>0.0</td>\n",
       "      <td>6715.0</td>\n",
       "      <td>49.0</td>\n",
       "      <td>False</td>\n",
       "    </tr>\n",
       "    <tr>\n",
       "      <th>3</th>\n",
       "      <td>Europa</td>\n",
       "      <td>False</td>\n",
       "      <td>TRAPPIST-1e</td>\n",
       "      <td>33.0</td>\n",
       "      <td>False</td>\n",
       "      <td>0.0</td>\n",
       "      <td>1283.0</td>\n",
       "      <td>371.0</td>\n",
       "      <td>3329.0</td>\n",
       "      <td>193.0</td>\n",
       "      <td>False</td>\n",
       "    </tr>\n",
       "    <tr>\n",
       "      <th>4</th>\n",
       "      <td>Earth</td>\n",
       "      <td>False</td>\n",
       "      <td>TRAPPIST-1e</td>\n",
       "      <td>16.0</td>\n",
       "      <td>False</td>\n",
       "      <td>303.0</td>\n",
       "      <td>70.0</td>\n",
       "      <td>151.0</td>\n",
       "      <td>565.0</td>\n",
       "      <td>2.0</td>\n",
       "      <td>True</td>\n",
       "    </tr>\n",
       "  </tbody>\n",
       "</table>\n",
       "</div>"
      ],
      "text/plain": [
       "  HomePlanet  CryoSleep  Destination   Age    VIP  RoomService  FoodCourt  \\\n",
       "0     Europa      False  TRAPPIST-1e  39.0  False          0.0        0.0   \n",
       "1      Earth      False  TRAPPIST-1e  24.0  False        109.0        9.0   \n",
       "2     Europa      False  TRAPPIST-1e  58.0   True         43.0     3576.0   \n",
       "3     Europa      False  TRAPPIST-1e  33.0  False          0.0     1283.0   \n",
       "4      Earth      False  TRAPPIST-1e  16.0  False        303.0       70.0   \n",
       "\n",
       "   ShoppingMall     Spa  VRDeck  Transported  \n",
       "0           0.0     0.0     0.0        False  \n",
       "1          25.0   549.0    44.0         True  \n",
       "2           0.0  6715.0    49.0        False  \n",
       "3         371.0  3329.0   193.0        False  \n",
       "4         151.0   565.0     2.0         True  "
      ]
     },
     "execution_count": 19,
     "metadata": {},
     "output_type": "execute_result"
    }
   ],
   "source": [
    "train_df.head()"
   ]
  },
  {
   "cell_type": "code",
   "execution_count": 20,
   "id": "a0572e95",
   "metadata": {
    "execution": {
     "iopub.execute_input": "2023-01-20T02:41:08.622743Z",
     "iopub.status.busy": "2023-01-20T02:41:08.621926Z",
     "iopub.status.idle": "2023-01-20T02:41:08.640667Z",
     "shell.execute_reply": "2023-01-20T02:41:08.639405Z"
    },
    "papermill": {
     "duration": 0.036683,
     "end_time": "2023-01-20T02:41:08.643295",
     "exception": false,
     "start_time": "2023-01-20T02:41:08.606612",
     "status": "completed"
    },
    "tags": []
   },
   "outputs": [
    {
     "data": {
      "text/html": [
       "<div>\n",
       "<style scoped>\n",
       "    .dataframe tbody tr th:only-of-type {\n",
       "        vertical-align: middle;\n",
       "    }\n",
       "\n",
       "    .dataframe tbody tr th {\n",
       "        vertical-align: top;\n",
       "    }\n",
       "\n",
       "    .dataframe thead th {\n",
       "        text-align: right;\n",
       "    }\n",
       "</style>\n",
       "<table border=\"1\" class=\"dataframe\">\n",
       "  <thead>\n",
       "    <tr style=\"text-align: right;\">\n",
       "      <th></th>\n",
       "      <th>HomePlanet</th>\n",
       "      <th>CryoSleep</th>\n",
       "      <th>Destination</th>\n",
       "      <th>Age</th>\n",
       "      <th>VIP</th>\n",
       "      <th>RoomService</th>\n",
       "      <th>FoodCourt</th>\n",
       "      <th>ShoppingMall</th>\n",
       "      <th>Spa</th>\n",
       "      <th>VRDeck</th>\n",
       "    </tr>\n",
       "  </thead>\n",
       "  <tbody>\n",
       "    <tr>\n",
       "      <th>0</th>\n",
       "      <td>Earth</td>\n",
       "      <td>True</td>\n",
       "      <td>TRAPPIST-1e</td>\n",
       "      <td>27.0</td>\n",
       "      <td>False</td>\n",
       "      <td>0.0</td>\n",
       "      <td>0.0</td>\n",
       "      <td>0.0</td>\n",
       "      <td>0.0</td>\n",
       "      <td>0.0</td>\n",
       "    </tr>\n",
       "    <tr>\n",
       "      <th>1</th>\n",
       "      <td>Earth</td>\n",
       "      <td>False</td>\n",
       "      <td>TRAPPIST-1e</td>\n",
       "      <td>19.0</td>\n",
       "      <td>False</td>\n",
       "      <td>0.0</td>\n",
       "      <td>9.0</td>\n",
       "      <td>0.0</td>\n",
       "      <td>2823.0</td>\n",
       "      <td>0.0</td>\n",
       "    </tr>\n",
       "    <tr>\n",
       "      <th>2</th>\n",
       "      <td>Europa</td>\n",
       "      <td>True</td>\n",
       "      <td>55 Cancri e</td>\n",
       "      <td>31.0</td>\n",
       "      <td>False</td>\n",
       "      <td>0.0</td>\n",
       "      <td>0.0</td>\n",
       "      <td>0.0</td>\n",
       "      <td>0.0</td>\n",
       "      <td>0.0</td>\n",
       "    </tr>\n",
       "    <tr>\n",
       "      <th>3</th>\n",
       "      <td>Europa</td>\n",
       "      <td>False</td>\n",
       "      <td>TRAPPIST-1e</td>\n",
       "      <td>38.0</td>\n",
       "      <td>False</td>\n",
       "      <td>0.0</td>\n",
       "      <td>6652.0</td>\n",
       "      <td>0.0</td>\n",
       "      <td>181.0</td>\n",
       "      <td>585.0</td>\n",
       "    </tr>\n",
       "    <tr>\n",
       "      <th>4</th>\n",
       "      <td>Earth</td>\n",
       "      <td>False</td>\n",
       "      <td>TRAPPIST-1e</td>\n",
       "      <td>20.0</td>\n",
       "      <td>False</td>\n",
       "      <td>10.0</td>\n",
       "      <td>0.0</td>\n",
       "      <td>635.0</td>\n",
       "      <td>0.0</td>\n",
       "      <td>0.0</td>\n",
       "    </tr>\n",
       "  </tbody>\n",
       "</table>\n",
       "</div>"
      ],
      "text/plain": [
       "  HomePlanet  CryoSleep  Destination   Age    VIP  RoomService  FoodCourt  \\\n",
       "0      Earth       True  TRAPPIST-1e  27.0  False          0.0        0.0   \n",
       "1      Earth      False  TRAPPIST-1e  19.0  False          0.0        9.0   \n",
       "2     Europa       True  55 Cancri e  31.0  False          0.0        0.0   \n",
       "3     Europa      False  TRAPPIST-1e  38.0  False          0.0     6652.0   \n",
       "4      Earth      False  TRAPPIST-1e  20.0  False         10.0        0.0   \n",
       "\n",
       "   ShoppingMall     Spa  VRDeck  \n",
       "0           0.0     0.0     0.0  \n",
       "1           0.0  2823.0     0.0  \n",
       "2           0.0     0.0     0.0  \n",
       "3           0.0   181.0   585.0  \n",
       "4         635.0     0.0     0.0  "
      ]
     },
     "execution_count": 20,
     "metadata": {},
     "output_type": "execute_result"
    }
   ],
   "source": [
    "test_df.head()"
   ]
  },
  {
   "cell_type": "markdown",
   "id": "e87ade0b",
   "metadata": {
    "papermill": {
     "duration": 0.013968,
     "end_time": "2023-01-20T02:41:08.671163",
     "exception": false,
     "start_time": "2023-01-20T02:41:08.657195",
     "status": "completed"
    },
    "tags": []
   },
   "source": [
    "### Data Normalization "
   ]
  },
  {
   "cell_type": "code",
   "execution_count": 21,
   "id": "6f254c99",
   "metadata": {
    "execution": {
     "iopub.execute_input": "2023-01-20T02:41:08.700807Z",
     "iopub.status.busy": "2023-01-20T02:41:08.700372Z",
     "iopub.status.idle": "2023-01-20T02:41:08.725660Z",
     "shell.execute_reply": "2023-01-20T02:41:08.724316Z"
    },
    "papermill": {
     "duration": 0.042976,
     "end_time": "2023-01-20T02:41:08.728102",
     "exception": false,
     "start_time": "2023-01-20T02:41:08.685126",
     "status": "completed"
    },
    "tags": []
   },
   "outputs": [],
   "source": [
    "# Converting to boolen value\n",
    "train_df['CryoSleep'] = train_df['CryoSleep'].apply(lambda x: 0 if x == False else 1)\n",
    "train_df['Transported'] = train_df['Transported'].apply(lambda x: 0 if x == False else 1)\n",
    "train_df['VIP'] = train_df['VIP'].apply(lambda x: 0 if x == False else 1)\n",
    "\n",
    "test_df['CryoSleep'] = test_df['CryoSleep'].apply(lambda x: 0 if x == False else 1)\n",
    "test_df['VIP'] = test_df['VIP'].apply(lambda x: 0 if x == False else 1)\n"
   ]
  },
  {
   "cell_type": "code",
   "execution_count": 22,
   "id": "04b5e48a",
   "metadata": {
    "execution": {
     "iopub.execute_input": "2023-01-20T02:41:08.757796Z",
     "iopub.status.busy": "2023-01-20T02:41:08.757363Z",
     "iopub.status.idle": "2023-01-20T02:41:08.775165Z",
     "shell.execute_reply": "2023-01-20T02:41:08.774005Z"
    },
    "papermill": {
     "duration": 0.03585,
     "end_time": "2023-01-20T02:41:08.777705",
     "exception": false,
     "start_time": "2023-01-20T02:41:08.741855",
     "status": "completed"
    },
    "tags": []
   },
   "outputs": [
    {
     "data": {
      "text/html": [
       "<div>\n",
       "<style scoped>\n",
       "    .dataframe tbody tr th:only-of-type {\n",
       "        vertical-align: middle;\n",
       "    }\n",
       "\n",
       "    .dataframe tbody tr th {\n",
       "        vertical-align: top;\n",
       "    }\n",
       "\n",
       "    .dataframe thead th {\n",
       "        text-align: right;\n",
       "    }\n",
       "</style>\n",
       "<table border=\"1\" class=\"dataframe\">\n",
       "  <thead>\n",
       "    <tr style=\"text-align: right;\">\n",
       "      <th></th>\n",
       "      <th>HomePlanet</th>\n",
       "      <th>CryoSleep</th>\n",
       "      <th>Destination</th>\n",
       "      <th>Age</th>\n",
       "      <th>VIP</th>\n",
       "      <th>RoomService</th>\n",
       "      <th>FoodCourt</th>\n",
       "      <th>ShoppingMall</th>\n",
       "      <th>Spa</th>\n",
       "      <th>VRDeck</th>\n",
       "      <th>Transported</th>\n",
       "    </tr>\n",
       "  </thead>\n",
       "  <tbody>\n",
       "    <tr>\n",
       "      <th>0</th>\n",
       "      <td>Europa</td>\n",
       "      <td>0</td>\n",
       "      <td>TRAPPIST-1e</td>\n",
       "      <td>39.0</td>\n",
       "      <td>0</td>\n",
       "      <td>0.0</td>\n",
       "      <td>0.0</td>\n",
       "      <td>0.0</td>\n",
       "      <td>0.0</td>\n",
       "      <td>0.0</td>\n",
       "      <td>0</td>\n",
       "    </tr>\n",
       "    <tr>\n",
       "      <th>1</th>\n",
       "      <td>Earth</td>\n",
       "      <td>0</td>\n",
       "      <td>TRAPPIST-1e</td>\n",
       "      <td>24.0</td>\n",
       "      <td>0</td>\n",
       "      <td>109.0</td>\n",
       "      <td>9.0</td>\n",
       "      <td>25.0</td>\n",
       "      <td>549.0</td>\n",
       "      <td>44.0</td>\n",
       "      <td>1</td>\n",
       "    </tr>\n",
       "    <tr>\n",
       "      <th>2</th>\n",
       "      <td>Europa</td>\n",
       "      <td>0</td>\n",
       "      <td>TRAPPIST-1e</td>\n",
       "      <td>58.0</td>\n",
       "      <td>1</td>\n",
       "      <td>43.0</td>\n",
       "      <td>3576.0</td>\n",
       "      <td>0.0</td>\n",
       "      <td>6715.0</td>\n",
       "      <td>49.0</td>\n",
       "      <td>0</td>\n",
       "    </tr>\n",
       "    <tr>\n",
       "      <th>3</th>\n",
       "      <td>Europa</td>\n",
       "      <td>0</td>\n",
       "      <td>TRAPPIST-1e</td>\n",
       "      <td>33.0</td>\n",
       "      <td>0</td>\n",
       "      <td>0.0</td>\n",
       "      <td>1283.0</td>\n",
       "      <td>371.0</td>\n",
       "      <td>3329.0</td>\n",
       "      <td>193.0</td>\n",
       "      <td>0</td>\n",
       "    </tr>\n",
       "    <tr>\n",
       "      <th>4</th>\n",
       "      <td>Earth</td>\n",
       "      <td>0</td>\n",
       "      <td>TRAPPIST-1e</td>\n",
       "      <td>16.0</td>\n",
       "      <td>0</td>\n",
       "      <td>303.0</td>\n",
       "      <td>70.0</td>\n",
       "      <td>151.0</td>\n",
       "      <td>565.0</td>\n",
       "      <td>2.0</td>\n",
       "      <td>1</td>\n",
       "    </tr>\n",
       "  </tbody>\n",
       "</table>\n",
       "</div>"
      ],
      "text/plain": [
       "  HomePlanet  CryoSleep  Destination   Age  VIP  RoomService  FoodCourt  \\\n",
       "0     Europa          0  TRAPPIST-1e  39.0    0          0.0        0.0   \n",
       "1      Earth          0  TRAPPIST-1e  24.0    0        109.0        9.0   \n",
       "2     Europa          0  TRAPPIST-1e  58.0    1         43.0     3576.0   \n",
       "3     Europa          0  TRAPPIST-1e  33.0    0          0.0     1283.0   \n",
       "4      Earth          0  TRAPPIST-1e  16.0    0        303.0       70.0   \n",
       "\n",
       "   ShoppingMall     Spa  VRDeck  Transported  \n",
       "0           0.0     0.0     0.0            0  \n",
       "1          25.0   549.0    44.0            1  \n",
       "2           0.0  6715.0    49.0            0  \n",
       "3         371.0  3329.0   193.0            0  \n",
       "4         151.0   565.0     2.0            1  "
      ]
     },
     "execution_count": 22,
     "metadata": {},
     "output_type": "execute_result"
    }
   ],
   "source": [
    "train_df.head()"
   ]
  },
  {
   "cell_type": "code",
   "execution_count": 23,
   "id": "9fc3fd73",
   "metadata": {
    "execution": {
     "iopub.execute_input": "2023-01-20T02:41:08.809217Z",
     "iopub.status.busy": "2023-01-20T02:41:08.807835Z",
     "iopub.status.idle": "2023-01-20T02:41:08.817308Z",
     "shell.execute_reply": "2023-01-20T02:41:08.816262Z"
    },
    "papermill": {
     "duration": 0.027561,
     "end_time": "2023-01-20T02:41:08.819726",
     "exception": false,
     "start_time": "2023-01-20T02:41:08.792165",
     "status": "completed"
    },
    "tags": []
   },
   "outputs": [
    {
     "data": {
      "text/plain": [
       "HomePlanet       object\n",
       "CryoSleep         int64\n",
       "Destination      object\n",
       "Age             float64\n",
       "VIP               int64\n",
       "RoomService     float64\n",
       "FoodCourt       float64\n",
       "ShoppingMall    float64\n",
       "Spa             float64\n",
       "VRDeck          float64\n",
       "Transported       int64\n",
       "dtype: object"
      ]
     },
     "execution_count": 23,
     "metadata": {},
     "output_type": "execute_result"
    }
   ],
   "source": [
    "train_df.dtypes"
   ]
  },
  {
   "cell_type": "code",
   "execution_count": 24,
   "id": "e15ba46e",
   "metadata": {
    "execution": {
     "iopub.execute_input": "2023-01-20T02:41:08.850837Z",
     "iopub.status.busy": "2023-01-20T02:41:08.849901Z",
     "iopub.status.idle": "2023-01-20T02:41:08.971709Z",
     "shell.execute_reply": "2023-01-20T02:41:08.970694Z"
    },
    "papermill": {
     "duration": 0.140107,
     "end_time": "2023-01-20T02:41:08.974230",
     "exception": false,
     "start_time": "2023-01-20T02:41:08.834123",
     "status": "completed"
    },
    "tags": []
   },
   "outputs": [],
   "source": [
    "from sklearn.compose import make_column_transformer\n",
    "from sklearn import preprocessing\n",
    "\n",
    "def normlized(df):\n",
    "    \n",
    "    dep_variable = 'Transported'\n",
    "    dummy_dtype = 'object'\n",
    "    zz_dtype = 'float64'\n",
    "    \n",
    "    features = df.columns\n",
    "    dummy_feature_list=[]\n",
    "    for feature in features:\n",
    "        # Categorical Columns\n",
    "        if df.dtypes[feature] == dummy_dtype:\n",
    "            dummy_feature_list.append(feature)\n",
    "            print(\"Dummy Varaibles : {} \".format(feature))\n",
    "\n",
    "            dummy = pd.get_dummies(df[feature], drop_first=True)\n",
    "            df = pd.concat([df, dummy], axis=1)\n",
    "        elif df.dtypes[feature] == zz_dtype:\n",
    "            print(\"ZZ varaibles for Scaling  : {} \".format(feature))\n",
    "            df[feature] = preprocessing.scale(df[feature])\n",
    "\n",
    "    #Dropping Dummy Varaibles\n",
    "    df.drop(dummy_feature_list, axis=1, inplace=True)\n",
    "    \n",
    "    return df"
   ]
  },
  {
   "cell_type": "code",
   "execution_count": 25,
   "id": "85d0d198",
   "metadata": {
    "execution": {
     "iopub.execute_input": "2023-01-20T02:41:09.005318Z",
     "iopub.status.busy": "2023-01-20T02:41:09.004494Z",
     "iopub.status.idle": "2023-01-20T02:41:09.029391Z",
     "shell.execute_reply": "2023-01-20T02:41:09.028011Z"
    },
    "papermill": {
     "duration": 0.043379,
     "end_time": "2023-01-20T02:41:09.032206",
     "exception": false,
     "start_time": "2023-01-20T02:41:08.988827",
     "status": "completed"
    },
    "tags": []
   },
   "outputs": [
    {
     "name": "stdout",
     "output_type": "stream",
     "text": [
      "Dummy Varaibles : HomePlanet \n",
      "Dummy Varaibles : Destination \n",
      "ZZ varaibles for Scaling  : Age \n",
      "ZZ varaibles for Scaling  : RoomService \n",
      "ZZ varaibles for Scaling  : FoodCourt \n",
      "ZZ varaibles for Scaling  : ShoppingMall \n",
      "ZZ varaibles for Scaling  : Spa \n",
      "ZZ varaibles for Scaling  : VRDeck \n"
     ]
    }
   ],
   "source": [
    "train_nrm = normlized(train_df)"
   ]
  },
  {
   "cell_type": "code",
   "execution_count": 26,
   "id": "42910d23",
   "metadata": {
    "execution": {
     "iopub.execute_input": "2023-01-20T02:41:09.063052Z",
     "iopub.status.busy": "2023-01-20T02:41:09.062616Z",
     "iopub.status.idle": "2023-01-20T02:41:09.082877Z",
     "shell.execute_reply": "2023-01-20T02:41:09.081662Z"
    },
    "papermill": {
     "duration": 0.038994,
     "end_time": "2023-01-20T02:41:09.085730",
     "exception": false,
     "start_time": "2023-01-20T02:41:09.046736",
     "status": "completed"
    },
    "tags": []
   },
   "outputs": [
    {
     "name": "stdout",
     "output_type": "stream",
     "text": [
      "Dummy Varaibles : HomePlanet \n",
      "Dummy Varaibles : Destination \n",
      "ZZ varaibles for Scaling  : Age \n",
      "ZZ varaibles for Scaling  : RoomService \n",
      "ZZ varaibles for Scaling  : FoodCourt \n",
      "ZZ varaibles for Scaling  : ShoppingMall \n",
      "ZZ varaibles for Scaling  : Spa \n",
      "ZZ varaibles for Scaling  : VRDeck \n"
     ]
    }
   ],
   "source": [
    "test_nrm = normlized(test_df)"
   ]
  },
  {
   "cell_type": "code",
   "execution_count": 27,
   "id": "853296e9",
   "metadata": {
    "execution": {
     "iopub.execute_input": "2023-01-20T02:41:09.116788Z",
     "iopub.status.busy": "2023-01-20T02:41:09.116350Z",
     "iopub.status.idle": "2023-01-20T02:41:09.132133Z",
     "shell.execute_reply": "2023-01-20T02:41:09.131279Z"
    },
    "papermill": {
     "duration": 0.034222,
     "end_time": "2023-01-20T02:41:09.134414",
     "exception": false,
     "start_time": "2023-01-20T02:41:09.100192",
     "status": "completed"
    },
    "tags": []
   },
   "outputs": [
    {
     "data": {
      "text/html": [
       "<div>\n",
       "<style scoped>\n",
       "    .dataframe tbody tr th:only-of-type {\n",
       "        vertical-align: middle;\n",
       "    }\n",
       "\n",
       "    .dataframe tbody tr th {\n",
       "        vertical-align: top;\n",
       "    }\n",
       "\n",
       "    .dataframe thead th {\n",
       "        text-align: right;\n",
       "    }\n",
       "</style>\n",
       "<table border=\"1\" class=\"dataframe\">\n",
       "  <thead>\n",
       "    <tr style=\"text-align: right;\">\n",
       "      <th></th>\n",
       "      <th>CryoSleep</th>\n",
       "      <th>Age</th>\n",
       "      <th>VIP</th>\n",
       "      <th>RoomService</th>\n",
       "      <th>FoodCourt</th>\n",
       "      <th>ShoppingMall</th>\n",
       "      <th>Spa</th>\n",
       "      <th>VRDeck</th>\n",
       "      <th>Transported</th>\n",
       "      <th>Europa</th>\n",
       "      <th>Mars</th>\n",
       "      <th>PSO J318.5-22</th>\n",
       "      <th>TRAPPIST-1e</th>\n",
       "    </tr>\n",
       "  </thead>\n",
       "  <tbody>\n",
       "    <tr>\n",
       "      <th>0</th>\n",
       "      <td>0</td>\n",
       "      <td>0.709437</td>\n",
       "      <td>0</td>\n",
       "      <td>-0.340590</td>\n",
       "      <td>-0.287314</td>\n",
       "      <td>-0.290817</td>\n",
       "      <td>-0.276663</td>\n",
       "      <td>-0.269023</td>\n",
       "      <td>0</td>\n",
       "      <td>1</td>\n",
       "      <td>0</td>\n",
       "      <td>0</td>\n",
       "      <td>1</td>\n",
       "    </tr>\n",
       "    <tr>\n",
       "      <th>1</th>\n",
       "      <td>0</td>\n",
       "      <td>-0.336717</td>\n",
       "      <td>0</td>\n",
       "      <td>-0.175364</td>\n",
       "      <td>-0.281669</td>\n",
       "      <td>-0.248968</td>\n",
       "      <td>0.211505</td>\n",
       "      <td>-0.230194</td>\n",
       "      <td>1</td>\n",
       "      <td>0</td>\n",
       "      <td>0</td>\n",
       "      <td>0</td>\n",
       "      <td>1</td>\n",
       "    </tr>\n",
       "    <tr>\n",
       "      <th>2</th>\n",
       "      <td>0</td>\n",
       "      <td>2.034566</td>\n",
       "      <td>1</td>\n",
       "      <td>-0.275409</td>\n",
       "      <td>1.955616</td>\n",
       "      <td>-0.290817</td>\n",
       "      <td>5.694289</td>\n",
       "      <td>-0.225782</td>\n",
       "      <td>0</td>\n",
       "      <td>1</td>\n",
       "      <td>0</td>\n",
       "      <td>0</td>\n",
       "      <td>1</td>\n",
       "    </tr>\n",
       "    <tr>\n",
       "      <th>3</th>\n",
       "      <td>0</td>\n",
       "      <td>0.290975</td>\n",
       "      <td>0</td>\n",
       "      <td>-0.340590</td>\n",
       "      <td>0.517406</td>\n",
       "      <td>0.330225</td>\n",
       "      <td>2.683471</td>\n",
       "      <td>-0.098708</td>\n",
       "      <td>0</td>\n",
       "      <td>1</td>\n",
       "      <td>0</td>\n",
       "      <td>0</td>\n",
       "      <td>1</td>\n",
       "    </tr>\n",
       "    <tr>\n",
       "      <th>4</th>\n",
       "      <td>0</td>\n",
       "      <td>-0.894666</td>\n",
       "      <td>0</td>\n",
       "      <td>0.118709</td>\n",
       "      <td>-0.243409</td>\n",
       "      <td>-0.038048</td>\n",
       "      <td>0.225732</td>\n",
       "      <td>-0.267258</td>\n",
       "      <td>1</td>\n",
       "      <td>0</td>\n",
       "      <td>0</td>\n",
       "      <td>0</td>\n",
       "      <td>1</td>\n",
       "    </tr>\n",
       "  </tbody>\n",
       "</table>\n",
       "</div>"
      ],
      "text/plain": [
       "   CryoSleep       Age  VIP  RoomService  FoodCourt  ShoppingMall       Spa  \\\n",
       "0          0  0.709437    0    -0.340590  -0.287314     -0.290817 -0.276663   \n",
       "1          0 -0.336717    0    -0.175364  -0.281669     -0.248968  0.211505   \n",
       "2          0  2.034566    1    -0.275409   1.955616     -0.290817  5.694289   \n",
       "3          0  0.290975    0    -0.340590   0.517406      0.330225  2.683471   \n",
       "4          0 -0.894666    0     0.118709  -0.243409     -0.038048  0.225732   \n",
       "\n",
       "     VRDeck  Transported  Europa  Mars  PSO J318.5-22  TRAPPIST-1e  \n",
       "0 -0.269023            0       1     0              0            1  \n",
       "1 -0.230194            1       0     0              0            1  \n",
       "2 -0.225782            0       1     0              0            1  \n",
       "3 -0.098708            0       1     0              0            1  \n",
       "4 -0.267258            1       0     0              0            1  "
      ]
     },
     "execution_count": 27,
     "metadata": {},
     "output_type": "execute_result"
    }
   ],
   "source": [
    "train_nrm.head()"
   ]
  },
  {
   "cell_type": "code",
   "execution_count": 28,
   "id": "9b2f2508",
   "metadata": {
    "execution": {
     "iopub.execute_input": "2023-01-20T02:41:09.166923Z",
     "iopub.status.busy": "2023-01-20T02:41:09.166519Z",
     "iopub.status.idle": "2023-01-20T02:41:09.183478Z",
     "shell.execute_reply": "2023-01-20T02:41:09.182387Z"
    },
    "papermill": {
     "duration": 0.036806,
     "end_time": "2023-01-20T02:41:09.185866",
     "exception": false,
     "start_time": "2023-01-20T02:41:09.149060",
     "status": "completed"
    },
    "tags": []
   },
   "outputs": [
    {
     "data": {
      "text/html": [
       "<div>\n",
       "<style scoped>\n",
       "    .dataframe tbody tr th:only-of-type {\n",
       "        vertical-align: middle;\n",
       "    }\n",
       "\n",
       "    .dataframe tbody tr th {\n",
       "        vertical-align: top;\n",
       "    }\n",
       "\n",
       "    .dataframe thead th {\n",
       "        text-align: right;\n",
       "    }\n",
       "</style>\n",
       "<table border=\"1\" class=\"dataframe\">\n",
       "  <thead>\n",
       "    <tr style=\"text-align: right;\">\n",
       "      <th></th>\n",
       "      <th>CryoSleep</th>\n",
       "      <th>Age</th>\n",
       "      <th>VIP</th>\n",
       "      <th>RoomService</th>\n",
       "      <th>FoodCourt</th>\n",
       "      <th>ShoppingMall</th>\n",
       "      <th>Spa</th>\n",
       "      <th>VRDeck</th>\n",
       "      <th>Europa</th>\n",
       "      <th>Mars</th>\n",
       "      <th>PSO J318.5-22</th>\n",
       "      <th>TRAPPIST-1e</th>\n",
       "    </tr>\n",
       "  </thead>\n",
       "  <tbody>\n",
       "    <tr>\n",
       "      <th>0</th>\n",
       "      <td>1</td>\n",
       "      <td>-0.118222</td>\n",
       "      <td>0</td>\n",
       "      <td>-0.364780</td>\n",
       "      <td>-0.291352</td>\n",
       "      <td>-0.319859</td>\n",
       "      <td>-0.274558</td>\n",
       "      <td>-0.251561</td>\n",
       "      <td>0</td>\n",
       "      <td>0</td>\n",
       "      <td>0</td>\n",
       "      <td>1</td>\n",
       "    </tr>\n",
       "    <tr>\n",
       "      <th>1</th>\n",
       "      <td>0</td>\n",
       "      <td>-0.688601</td>\n",
       "      <td>0</td>\n",
       "      <td>-0.364780</td>\n",
       "      <td>-0.285385</td>\n",
       "      <td>-0.319859</td>\n",
       "      <td>2.283008</td>\n",
       "      <td>-0.251561</td>\n",
       "      <td>0</td>\n",
       "      <td>0</td>\n",
       "      <td>0</td>\n",
       "      <td>1</td>\n",
       "    </tr>\n",
       "    <tr>\n",
       "      <th>2</th>\n",
       "      <td>1</td>\n",
       "      <td>0.166968</td>\n",
       "      <td>0</td>\n",
       "      <td>-0.364780</td>\n",
       "      <td>-0.291352</td>\n",
       "      <td>-0.319859</td>\n",
       "      <td>-0.274558</td>\n",
       "      <td>-0.251561</td>\n",
       "      <td>1</td>\n",
       "      <td>0</td>\n",
       "      <td>0</td>\n",
       "      <td>0</td>\n",
       "    </tr>\n",
       "    <tr>\n",
       "      <th>3</th>\n",
       "      <td>0</td>\n",
       "      <td>0.666051</td>\n",
       "      <td>0</td>\n",
       "      <td>-0.364780</td>\n",
       "      <td>4.118523</td>\n",
       "      <td>-0.319859</td>\n",
       "      <td>-0.110576</td>\n",
       "      <td>0.222074</td>\n",
       "      <td>1</td>\n",
       "      <td>0</td>\n",
       "      <td>0</td>\n",
       "      <td>1</td>\n",
       "    </tr>\n",
       "    <tr>\n",
       "      <th>4</th>\n",
       "      <td>0</td>\n",
       "      <td>-0.617304</td>\n",
       "      <td>0</td>\n",
       "      <td>-0.348143</td>\n",
       "      <td>-0.291352</td>\n",
       "      <td>0.825745</td>\n",
       "      <td>-0.274558</td>\n",
       "      <td>-0.251561</td>\n",
       "      <td>0</td>\n",
       "      <td>0</td>\n",
       "      <td>0</td>\n",
       "      <td>1</td>\n",
       "    </tr>\n",
       "  </tbody>\n",
       "</table>\n",
       "</div>"
      ],
      "text/plain": [
       "   CryoSleep       Age  VIP  RoomService  FoodCourt  ShoppingMall       Spa  \\\n",
       "0          1 -0.118222    0    -0.364780  -0.291352     -0.319859 -0.274558   \n",
       "1          0 -0.688601    0    -0.364780  -0.285385     -0.319859  2.283008   \n",
       "2          1  0.166968    0    -0.364780  -0.291352     -0.319859 -0.274558   \n",
       "3          0  0.666051    0    -0.364780   4.118523     -0.319859 -0.110576   \n",
       "4          0 -0.617304    0    -0.348143  -0.291352      0.825745 -0.274558   \n",
       "\n",
       "     VRDeck  Europa  Mars  PSO J318.5-22  TRAPPIST-1e  \n",
       "0 -0.251561       0     0              0            1  \n",
       "1 -0.251561       0     0              0            1  \n",
       "2 -0.251561       1     0              0            0  \n",
       "3  0.222074       1     0              0            1  \n",
       "4 -0.251561       0     0              0            1  "
      ]
     },
     "execution_count": 28,
     "metadata": {},
     "output_type": "execute_result"
    }
   ],
   "source": [
    "test_nrm.head()"
   ]
  },
  {
   "cell_type": "code",
   "execution_count": 29,
   "id": "308e3440",
   "metadata": {
    "execution": {
     "iopub.execute_input": "2023-01-20T02:41:09.217612Z",
     "iopub.status.busy": "2023-01-20T02:41:09.217179Z",
     "iopub.status.idle": "2023-01-20T02:41:09.235370Z",
     "shell.execute_reply": "2023-01-20T02:41:09.234222Z"
    },
    "papermill": {
     "duration": 0.036592,
     "end_time": "2023-01-20T02:41:09.237738",
     "exception": false,
     "start_time": "2023-01-20T02:41:09.201146",
     "status": "completed"
    },
    "tags": []
   },
   "outputs": [
    {
     "data": {
      "text/html": [
       "<div>\n",
       "<style scoped>\n",
       "    .dataframe tbody tr th:only-of-type {\n",
       "        vertical-align: middle;\n",
       "    }\n",
       "\n",
       "    .dataframe tbody tr th {\n",
       "        vertical-align: top;\n",
       "    }\n",
       "\n",
       "    .dataframe thead th {\n",
       "        text-align: right;\n",
       "    }\n",
       "</style>\n",
       "<table border=\"1\" class=\"dataframe\">\n",
       "  <thead>\n",
       "    <tr style=\"text-align: right;\">\n",
       "      <th></th>\n",
       "      <th>HomePlanet</th>\n",
       "      <th>CryoSleep</th>\n",
       "      <th>Destination</th>\n",
       "      <th>Age</th>\n",
       "      <th>VIP</th>\n",
       "      <th>RoomService</th>\n",
       "      <th>FoodCourt</th>\n",
       "      <th>ShoppingMall</th>\n",
       "      <th>Spa</th>\n",
       "      <th>VRDeck</th>\n",
       "    </tr>\n",
       "  </thead>\n",
       "  <tbody>\n",
       "    <tr>\n",
       "      <th>0</th>\n",
       "      <td>Earth</td>\n",
       "      <td>1</td>\n",
       "      <td>TRAPPIST-1e</td>\n",
       "      <td>27.0</td>\n",
       "      <td>0</td>\n",
       "      <td>0.0</td>\n",
       "      <td>0.0</td>\n",
       "      <td>0.0</td>\n",
       "      <td>0.0</td>\n",
       "      <td>0.0</td>\n",
       "    </tr>\n",
       "    <tr>\n",
       "      <th>1</th>\n",
       "      <td>Earth</td>\n",
       "      <td>0</td>\n",
       "      <td>TRAPPIST-1e</td>\n",
       "      <td>19.0</td>\n",
       "      <td>0</td>\n",
       "      <td>0.0</td>\n",
       "      <td>9.0</td>\n",
       "      <td>0.0</td>\n",
       "      <td>2823.0</td>\n",
       "      <td>0.0</td>\n",
       "    </tr>\n",
       "    <tr>\n",
       "      <th>2</th>\n",
       "      <td>Europa</td>\n",
       "      <td>1</td>\n",
       "      <td>55 Cancri e</td>\n",
       "      <td>31.0</td>\n",
       "      <td>0</td>\n",
       "      <td>0.0</td>\n",
       "      <td>0.0</td>\n",
       "      <td>0.0</td>\n",
       "      <td>0.0</td>\n",
       "      <td>0.0</td>\n",
       "    </tr>\n",
       "    <tr>\n",
       "      <th>3</th>\n",
       "      <td>Europa</td>\n",
       "      <td>0</td>\n",
       "      <td>TRAPPIST-1e</td>\n",
       "      <td>38.0</td>\n",
       "      <td>0</td>\n",
       "      <td>0.0</td>\n",
       "      <td>6652.0</td>\n",
       "      <td>0.0</td>\n",
       "      <td>181.0</td>\n",
       "      <td>585.0</td>\n",
       "    </tr>\n",
       "    <tr>\n",
       "      <th>4</th>\n",
       "      <td>Earth</td>\n",
       "      <td>0</td>\n",
       "      <td>TRAPPIST-1e</td>\n",
       "      <td>20.0</td>\n",
       "      <td>0</td>\n",
       "      <td>10.0</td>\n",
       "      <td>0.0</td>\n",
       "      <td>635.0</td>\n",
       "      <td>0.0</td>\n",
       "      <td>0.0</td>\n",
       "    </tr>\n",
       "  </tbody>\n",
       "</table>\n",
       "</div>"
      ],
      "text/plain": [
       "  HomePlanet  CryoSleep  Destination   Age  VIP  RoomService  FoodCourt  \\\n",
       "0      Earth          1  TRAPPIST-1e  27.0    0          0.0        0.0   \n",
       "1      Earth          0  TRAPPIST-1e  19.0    0          0.0        9.0   \n",
       "2     Europa          1  55 Cancri e  31.0    0          0.0        0.0   \n",
       "3     Europa          0  TRAPPIST-1e  38.0    0          0.0     6652.0   \n",
       "4      Earth          0  TRAPPIST-1e  20.0    0         10.0        0.0   \n",
       "\n",
       "   ShoppingMall     Spa  VRDeck  \n",
       "0           0.0     0.0     0.0  \n",
       "1           0.0  2823.0     0.0  \n",
       "2           0.0     0.0     0.0  \n",
       "3           0.0   181.0   585.0  \n",
       "4         635.0     0.0     0.0  "
      ]
     },
     "execution_count": 29,
     "metadata": {},
     "output_type": "execute_result"
    }
   ],
   "source": [
    "test_df.head()"
   ]
  },
  {
   "cell_type": "markdown",
   "id": "b057809e",
   "metadata": {
    "papermill": {
     "duration": 0.014661,
     "end_time": "2023-01-20T02:41:09.267541",
     "exception": false,
     "start_time": "2023-01-20T02:41:09.252880",
     "status": "completed"
    },
    "tags": []
   },
   "source": [
    "# Building Model"
   ]
  },
  {
   "cell_type": "code",
   "execution_count": 30,
   "id": "5322e8b6",
   "metadata": {
    "execution": {
     "iopub.execute_input": "2023-01-20T02:41:09.299355Z",
     "iopub.status.busy": "2023-01-20T02:41:09.298955Z",
     "iopub.status.idle": "2023-01-20T02:41:09.352608Z",
     "shell.execute_reply": "2023-01-20T02:41:09.351406Z"
    },
    "papermill": {
     "duration": 0.072871,
     "end_time": "2023-01-20T02:41:09.355430",
     "exception": false,
     "start_time": "2023-01-20T02:41:09.282559",
     "status": "completed"
    },
    "tags": []
   },
   "outputs": [],
   "source": [
    "from sklearn.model_selection import train_test_split\n",
    "## Spliting the data\n",
    "y = train_nrm['Transported']\n",
    "X = train_nrm.drop('Transported', axis=1)\n",
    "\n",
    "X_train, X_test, y_train, y_test = train_test_split(X, y, test_size= 0.20, random_state = 345)"
   ]
  },
  {
   "cell_type": "code",
   "execution_count": 31,
   "id": "cf4c5a1d",
   "metadata": {
    "execution": {
     "iopub.execute_input": "2023-01-20T02:41:09.387319Z",
     "iopub.status.busy": "2023-01-20T02:41:09.386918Z",
     "iopub.status.idle": "2023-01-20T02:41:09.394036Z",
     "shell.execute_reply": "2023-01-20T02:41:09.392754Z"
    },
    "papermill": {
     "duration": 0.026608,
     "end_time": "2023-01-20T02:41:09.397032",
     "exception": false,
     "start_time": "2023-01-20T02:41:09.370424",
     "status": "completed"
    },
    "tags": []
   },
   "outputs": [
    {
     "name": "stdout",
     "output_type": "stream",
     "text": [
      "X_train Dataset Shape : (6954, 12)\n",
      "y_train Dataset Shape : (6954,)\n",
      "X_test Dataset Shape : (1739, 12)\n",
      "y_test Dataset Shape : (1739,)\n"
     ]
    }
   ],
   "source": [
    "print(\"X_train Dataset Shape : {}\".format(X_train.shape))\n",
    "print(\"y_train Dataset Shape : {}\".format(y_train.shape))\n",
    "print(\"X_test Dataset Shape : {}\".format(X_test.shape))\n",
    "print(\"y_test Dataset Shape : {}\".format(y_test.shape))\n"
   ]
  },
  {
   "cell_type": "code",
   "execution_count": 32,
   "id": "292460a5",
   "metadata": {
    "execution": {
     "iopub.execute_input": "2023-01-20T02:41:09.430374Z",
     "iopub.status.busy": "2023-01-20T02:41:09.429627Z",
     "iopub.status.idle": "2023-01-20T02:41:09.564252Z",
     "shell.execute_reply": "2023-01-20T02:41:09.562501Z"
    },
    "papermill": {
     "duration": 0.15552,
     "end_time": "2023-01-20T02:41:09.568800",
     "exception": false,
     "start_time": "2023-01-20T02:41:09.413280",
     "status": "completed"
    },
    "tags": []
   },
   "outputs": [
    {
     "name": "stdout",
     "output_type": "stream",
     "text": [
      "Model Accuracy : 0.7947096032202415\n",
      "Model F1 Accuracy : 0.8035222894881672\n"
     ]
    }
   ],
   "source": [
    "from sklearn.linear_model import LogisticRegression\n",
    "from sklearn.metrics import accuracy_score, f1_score\n",
    "\n",
    "lr = LogisticRegression()\n",
    "lr.fit(X_train, y_train)\n",
    "\n",
    "y_pred = lr.predict(X_test)\n",
    "print(\"Model Accuracy : {}\".format(accuracy_score(y_pred,y_test)))\n",
    "print(\"Model F1 Accuracy : {}\".format(f1_score(y_pred,y_test)))"
   ]
  },
  {
   "cell_type": "code",
   "execution_count": 33,
   "id": "1f20d907",
   "metadata": {
    "execution": {
     "iopub.execute_input": "2023-01-20T02:41:09.649818Z",
     "iopub.status.busy": "2023-01-20T02:41:09.648946Z",
     "iopub.status.idle": "2023-01-20T02:41:09.916679Z",
     "shell.execute_reply": "2023-01-20T02:41:09.915540Z"
    },
    "papermill": {
     "duration": 0.311532,
     "end_time": "2023-01-20T02:41:09.919405",
     "exception": false,
     "start_time": "2023-01-20T02:41:09.607873",
     "status": "completed"
    },
    "tags": []
   },
   "outputs": [
    {
     "data": {
      "image/png": "[encoded data removed]",
      "text/plain": [
       "<Figure size 432x288 with 2 Axes>"
      ]
     },
     "metadata": {
      "needs_background": "light"
     },
     "output_type": "display_data"
    },
    {
     "name": "stdout",
     "output_type": "stream",
     "text": [
      "              precision    recall  f1-score   support\n",
      "\n",
      "           0       0.81      0.76      0.79       853\n",
      "           1       0.78      0.82      0.80       886\n",
      "\n",
      "    accuracy                           0.79      1739\n",
      "   macro avg       0.80      0.79      0.79      1739\n",
      "weighted avg       0.80      0.79      0.79      1739\n",
      "\n"
     ]
    }
   ],
   "source": [
    "from sklearn.metrics import classification_report\n",
    "import seaborn as sn\n",
    "\n",
    "# Confusion Metrix\n",
    "confusion_matrix = pd.crosstab(y_test, y_pred, \n",
    "                               rownames=['Actual'], \n",
    "                               colnames=['Predicted'])\n",
    "sn.heatmap(confusion_matrix, annot=True)\n",
    "plt.show()\n",
    "\n",
    "stats = classification_report(y_test, y_pred)\n",
    "print(stats)\n"
   ]
  },
  {
   "cell_type": "markdown",
   "id": "722d0fa7",
   "metadata": {
    "papermill": {
     "duration": 0.015278,
     "end_time": "2023-01-20T02:41:09.950440",
     "exception": false,
     "start_time": "2023-01-20T02:41:09.935162",
     "status": "completed"
    },
    "tags": []
   },
   "source": [
    "## Prediction Using Test Data"
   ]
  },
  {
   "cell_type": "code",
   "execution_count": 34,
   "id": "5cddfb1d",
   "metadata": {
    "execution": {
     "iopub.execute_input": "2023-01-20T02:41:09.983633Z",
     "iopub.status.busy": "2023-01-20T02:41:09.983178Z",
     "iopub.status.idle": "2023-01-20T02:41:09.995512Z",
     "shell.execute_reply": "2023-01-20T02:41:09.993771Z"
    },
    "papermill": {
     "duration": 0.033747,
     "end_time": "2023-01-20T02:41:10.000199",
     "exception": false,
     "start_time": "2023-01-20T02:41:09.966452",
     "status": "completed"
    },
    "tags": []
   },
   "outputs": [],
   "source": [
    "y_pred = lr.predict(test_nrm)"
   ]
  },
  {
   "cell_type": "code",
   "execution_count": 35,
   "id": "a8a81947",
   "metadata": {
    "execution": {
     "iopub.execute_input": "2023-01-20T02:41:10.083119Z",
     "iopub.status.busy": "2023-01-20T02:41:10.082242Z",
     "iopub.status.idle": "2023-01-20T02:41:10.091317Z",
     "shell.execute_reply": "2023-01-20T02:41:10.089713Z"
    },
    "papermill": {
     "duration": 0.05826,
     "end_time": "2023-01-20T02:41:10.099165",
     "exception": false,
     "start_time": "2023-01-20T02:41:10.040905",
     "status": "completed"
    },
    "tags": []
   },
   "outputs": [],
   "source": [
    "dependent_var = pd.DataFrame(y_pred, columns =['Transported'])"
   ]
  },
  {
   "cell_type": "code",
   "execution_count": 36,
   "id": "d3954d53",
   "metadata": {
    "execution": {
     "iopub.execute_input": "2023-01-20T02:41:10.138632Z",
     "iopub.status.busy": "2023-01-20T02:41:10.138206Z",
     "iopub.status.idle": "2023-01-20T02:41:10.144969Z",
     "shell.execute_reply": "2023-01-20T02:41:10.144099Z"
    },
    "papermill": {
     "duration": 0.025253,
     "end_time": "2023-01-20T02:41:10.147075",
     "exception": false,
     "start_time": "2023-01-20T02:41:10.121822",
     "status": "completed"
    },
    "tags": []
   },
   "outputs": [],
   "source": [
    "transported = pd.concat([test,dependent_var],axis =1)"
   ]
  },
  {
   "cell_type": "code",
   "execution_count": 37,
   "id": "07dc8c35",
   "metadata": {
    "execution": {
     "iopub.execute_input": "2023-01-20T02:41:10.180132Z",
     "iopub.status.busy": "2023-01-20T02:41:10.179371Z",
     "iopub.status.idle": "2023-01-20T02:41:10.185950Z",
     "shell.execute_reply": "2023-01-20T02:41:10.185148Z"
    },
    "papermill": {
     "duration": 0.025579,
     "end_time": "2023-01-20T02:41:10.188217",
     "exception": false,
     "start_time": "2023-01-20T02:41:10.162638",
     "status": "completed"
    },
    "tags": []
   },
   "outputs": [],
   "source": [
    "submission = transported.loc[:,['PassengerId','Transported']]"
   ]
  },
  {
   "cell_type": "code",
   "execution_count": 38,
   "id": "f0ba23a7",
   "metadata": {
    "execution": {
     "iopub.execute_input": "2023-01-20T02:41:10.221520Z",
     "iopub.status.busy": "2023-01-20T02:41:10.220775Z",
     "iopub.status.idle": "2023-01-20T02:41:10.227386Z",
     "shell.execute_reply": "2023-01-20T02:41:10.226591Z"
    },
    "papermill": {
     "duration": 0.025577,
     "end_time": "2023-01-20T02:41:10.229577",
     "exception": false,
     "start_time": "2023-01-20T02:41:10.204000",
     "status": "completed"
    },
    "tags": []
   },
   "outputs": [],
   "source": [
    "submission['Transported'] = submission['Transported'].apply(lambda x: 'False' if x == 0 else 'True')"
   ]
  },
  {
   "cell_type": "code",
   "execution_count": 39,
   "id": "d7b12cca",
   "metadata": {
    "execution": {
     "iopub.execute_input": "2023-01-20T02:41:10.262557Z",
     "iopub.status.busy": "2023-01-20T02:41:10.261828Z",
     "iopub.status.idle": "2023-01-20T02:41:10.273940Z",
     "shell.execute_reply": "2023-01-20T02:41:10.272869Z"
    },
    "papermill": {
     "duration": 0.031666,
     "end_time": "2023-01-20T02:41:10.276601",
     "exception": false,
     "start_time": "2023-01-20T02:41:10.244935",
     "status": "completed"
    },
    "tags": []
   },
   "outputs": [],
   "source": [
    "submission.to_csv('submission.csv', index = False)"
   ]
  },
  {
   "cell_type": "code",
   "execution_count": 40,
   "id": "172a9f38",
   "metadata": {
    "execution": {
     "iopub.execute_input": "2023-01-20T02:41:10.309529Z",
     "iopub.status.busy": "2023-01-20T02:41:10.309106Z",
     "iopub.status.idle": "2023-01-20T02:41:10.326805Z",
     "shell.execute_reply": "2023-01-20T02:41:10.325938Z"
    },
    "papermill": {
     "duration": 0.036648,
     "end_time": "2023-01-20T02:41:10.328888",
     "exception": false,
     "start_time": "2023-01-20T02:41:10.292240",
     "status": "completed"
    },
    "tags": []
   },
   "outputs": [
    {
     "data": {
      "text/html": [
       "<div>\n",
       "<style scoped>\n",
       "    .dataframe tbody tr th:only-of-type {\n",
       "        vertical-align: middle;\n",
       "    }\n",
       "\n",
       "    .dataframe tbody tr th {\n",
       "        vertical-align: top;\n",
       "    }\n",
       "\n",
       "    .dataframe thead th {\n",
       "        text-align: right;\n",
       "    }\n",
       "</style>\n",
       "<table border=\"1\" class=\"dataframe\">\n",
       "  <thead>\n",
       "    <tr style=\"text-align: right;\">\n",
       "      <th></th>\n",
       "      <th>PassengerId</th>\n",
       "      <th>Transported</th>\n",
       "    </tr>\n",
       "  </thead>\n",
       "  <tbody>\n",
       "    <tr>\n",
       "      <th>0</th>\n",
       "      <td>0013_01</td>\n",
       "      <td>True</td>\n",
       "    </tr>\n",
       "    <tr>\n",
       "      <th>1</th>\n",
       "      <td>0018_01</td>\n",
       "      <td>False</td>\n",
       "    </tr>\n",
       "    <tr>\n",
       "      <th>2</th>\n",
       "      <td>0019_01</td>\n",
       "      <td>True</td>\n",
       "    </tr>\n",
       "    <tr>\n",
       "      <th>3</th>\n",
       "      <td>0021_01</td>\n",
       "      <td>True</td>\n",
       "    </tr>\n",
       "    <tr>\n",
       "      <th>4</th>\n",
       "      <td>0023_01</td>\n",
       "      <td>False</td>\n",
       "    </tr>\n",
       "    <tr>\n",
       "      <th>...</th>\n",
       "      <td>...</td>\n",
       "      <td>...</td>\n",
       "    </tr>\n",
       "    <tr>\n",
       "      <th>4272</th>\n",
       "      <td>9266_02</td>\n",
       "      <td>True</td>\n",
       "    </tr>\n",
       "    <tr>\n",
       "      <th>4273</th>\n",
       "      <td>9269_01</td>\n",
       "      <td>False</td>\n",
       "    </tr>\n",
       "    <tr>\n",
       "      <th>4274</th>\n",
       "      <td>9271_01</td>\n",
       "      <td>True</td>\n",
       "    </tr>\n",
       "    <tr>\n",
       "      <th>4275</th>\n",
       "      <td>9273_01</td>\n",
       "      <td>True</td>\n",
       "    </tr>\n",
       "    <tr>\n",
       "      <th>4276</th>\n",
       "      <td>9277_01</td>\n",
       "      <td>True</td>\n",
       "    </tr>\n",
       "  </tbody>\n",
       "</table>\n",
       "<p>4277 rows × 2 columns</p>\n",
       "</div>"
      ],
      "text/plain": [
       "     PassengerId  Transported\n",
       "0        0013_01         True\n",
       "1        0018_01        False\n",
       "2        0019_01         True\n",
       "3        0021_01         True\n",
       "4        0023_01        False\n",
       "...          ...          ...\n",
       "4272     9266_02         True\n",
       "4273     9269_01        False\n",
       "4274     9271_01         True\n",
       "4275     9273_01         True\n",
       "4276     9277_01         True\n",
       "\n",
       "[4277 rows x 2 columns]"
      ]
     },
     "execution_count": 40,
     "metadata": {},
     "output_type": "execute_result"
    }
   ],
   "source": [
    "pd.read_csv('submission.csv')"
   ]
  }
 ],
 "metadata": {
  "kernelspec": {
   "display_name": "Python 3",
   "language": "python",
   "name": "python3"
  },
  "language_info": {
   "codemirror_mode": {
    "name": "ipython",
    "version": 3
   },
   "file_extension": ".py",
   "mimetype": "text/x-python",
   "name": "python",
   "nbconvert_exporter": "python",
   "pygments_lexer": "ipython3",
   "version": "3.7.12"
  },
  "papermill": {
   "default_parameters": {},
   "duration": 14.991443,
   "end_time": "2023-01-20T02:41:11.166591",
   "environment_variables": {},
   "exception": null,
   "input_path": "__notebook__.ipynb",
   "output_path": "__notebook__.ipynb",
   "parameters": {},
   "start_time": "2023-01-20T02:40:56.175148",
   "version": "2.3.4"
  }
 },
 "nbformat": 4,
 "nbformat_minor": 5
}
